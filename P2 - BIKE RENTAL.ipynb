{
 "cells": [
  {
   "cell_type": "markdown",
   "id": "68665f49",
   "metadata": {
    "id": "68665f49"
   },
   "source": [
    "#  Importing the required libraries"
   ]
  },
  {
   "cell_type": "code",
   "execution_count": 1,
   "id": "7f19045c",
   "metadata": {
    "executionInfo": {
     "elapsed": 1334,
     "status": "ok",
     "timestamp": 1683810370793,
     "user": {
      "displayName": "Rupak Mondal",
      "userId": "12139440766166473709"
     },
     "user_tz": -330
    },
    "id": "7f19045c"
   },
   "outputs": [],
   "source": [
    "#importing basic libraries\n",
    "import pandas as pd\n",
    "import numpy as np\n",
    "import seaborn as sns\n",
    "import matplotlib.pyplot as plt\n",
    "%matplotlib inline\n",
    "import warnings\n",
    "warnings.filterwarnings('ignore')\n",
    "from sklearn.feature_selection import SelectKBest, chi2, RFE\n",
    "from sklearn.model_selection import train_test_split"
   ]
  },
  {
   "cell_type": "markdown",
   "id": "a72c172e",
   "metadata": {
    "id": "a72c172e"
   },
   "source": [
    "# Reading the dataset, making a copy and observation of dataset"
   ]
  },
  {
   "cell_type": "code",
   "execution_count": 2,
   "id": "6de322a0",
   "metadata": {
    "colab": {
     "base_uri": "https://localhost:8080/",
     "height": 661
    },
    "executionInfo": {
     "elapsed": 22,
     "status": "ok",
     "timestamp": 1683810371238,
     "user": {
      "displayName": "Rupak Mondal",
      "userId": "12139440766166473709"
     },
     "user_tz": -330
    },
    "id": "6de322a0",
    "outputId": "5c0ad13e-0150-4a0e-c921-1fa7fd9f7568"
   },
   "outputs": [
    {
     "data": {
      "text/html": [
       "<div>\n",
       "<style scoped>\n",
       "    .dataframe tbody tr th:only-of-type {\n",
       "        vertical-align: middle;\n",
       "    }\n",
       "\n",
       "    .dataframe tbody tr th {\n",
       "        vertical-align: top;\n",
       "    }\n",
       "\n",
       "    .dataframe thead th {\n",
       "        text-align: right;\n",
       "    }\n",
       "</style>\n",
       "<table border=\"1\" class=\"dataframe\">\n",
       "  <thead>\n",
       "    <tr style=\"text-align: right;\">\n",
       "      <th></th>\n",
       "      <th>instant</th>\n",
       "      <th>dteday</th>\n",
       "      <th>season</th>\n",
       "      <th>yr</th>\n",
       "      <th>mnth</th>\n",
       "      <th>hr</th>\n",
       "      <th>holiday</th>\n",
       "      <th>weekday</th>\n",
       "      <th>workingday</th>\n",
       "      <th>weathersit</th>\n",
       "      <th>temp</th>\n",
       "      <th>atemp</th>\n",
       "      <th>hum</th>\n",
       "      <th>windspeed</th>\n",
       "      <th>casual</th>\n",
       "      <th>registered</th>\n",
       "      <th>cnt</th>\n",
       "    </tr>\n",
       "  </thead>\n",
       "  <tbody>\n",
       "    <tr>\n",
       "      <th>0</th>\n",
       "      <td>1</td>\n",
       "      <td>01-01-2011</td>\n",
       "      <td>springer</td>\n",
       "      <td>2011</td>\n",
       "      <td>1</td>\n",
       "      <td>0</td>\n",
       "      <td>No</td>\n",
       "      <td>6</td>\n",
       "      <td>No work</td>\n",
       "      <td>Clear</td>\n",
       "      <td>0.24</td>\n",
       "      <td>0.2879</td>\n",
       "      <td>0.81</td>\n",
       "      <td>0</td>\n",
       "      <td>3</td>\n",
       "      <td>13</td>\n",
       "      <td>16</td>\n",
       "    </tr>\n",
       "    <tr>\n",
       "      <th>1</th>\n",
       "      <td>2</td>\n",
       "      <td>01-01-2011</td>\n",
       "      <td>springer</td>\n",
       "      <td>2011</td>\n",
       "      <td>1</td>\n",
       "      <td>1</td>\n",
       "      <td>No</td>\n",
       "      <td>6</td>\n",
       "      <td>No work</td>\n",
       "      <td>Clear</td>\n",
       "      <td>0.22</td>\n",
       "      <td>0.2727</td>\n",
       "      <td>0.8</td>\n",
       "      <td>0</td>\n",
       "      <td>8</td>\n",
       "      <td>32</td>\n",
       "      <td>40</td>\n",
       "    </tr>\n",
       "    <tr>\n",
       "      <th>2</th>\n",
       "      <td>3</td>\n",
       "      <td>01-01-2011</td>\n",
       "      <td>springer</td>\n",
       "      <td>2011</td>\n",
       "      <td>1</td>\n",
       "      <td>2</td>\n",
       "      <td>No</td>\n",
       "      <td>6</td>\n",
       "      <td>No work</td>\n",
       "      <td>Clear</td>\n",
       "      <td>0.22</td>\n",
       "      <td>0.2727</td>\n",
       "      <td>?</td>\n",
       "      <td>0</td>\n",
       "      <td>5</td>\n",
       "      <td>27</td>\n",
       "      <td>32</td>\n",
       "    </tr>\n",
       "    <tr>\n",
       "      <th>3</th>\n",
       "      <td>4</td>\n",
       "      <td>01-01-2011</td>\n",
       "      <td>springer</td>\n",
       "      <td>2011</td>\n",
       "      <td>1</td>\n",
       "      <td>3</td>\n",
       "      <td>No</td>\n",
       "      <td>6</td>\n",
       "      <td>No work</td>\n",
       "      <td>Clear</td>\n",
       "      <td>0.24</td>\n",
       "      <td>0.2879</td>\n",
       "      <td>0.75</td>\n",
       "      <td>0</td>\n",
       "      <td>3</td>\n",
       "      <td>10</td>\n",
       "      <td>13</td>\n",
       "    </tr>\n",
       "    <tr>\n",
       "      <th>4</th>\n",
       "      <td>5</td>\n",
       "      <td>01-01-2011</td>\n",
       "      <td>springer</td>\n",
       "      <td>2011</td>\n",
       "      <td>1</td>\n",
       "      <td>4</td>\n",
       "      <td>No</td>\n",
       "      <td>6</td>\n",
       "      <td>No work</td>\n",
       "      <td>Clear</td>\n",
       "      <td>0.24</td>\n",
       "      <td>0.2879</td>\n",
       "      <td>0.75</td>\n",
       "      <td>0</td>\n",
       "      <td>0</td>\n",
       "      <td>1</td>\n",
       "      <td>1</td>\n",
       "    </tr>\n",
       "    <tr>\n",
       "      <th>...</th>\n",
       "      <td>...</td>\n",
       "      <td>...</td>\n",
       "      <td>...</td>\n",
       "      <td>...</td>\n",
       "      <td>...</td>\n",
       "      <td>...</td>\n",
       "      <td>...</td>\n",
       "      <td>...</td>\n",
       "      <td>...</td>\n",
       "      <td>...</td>\n",
       "      <td>...</td>\n",
       "      <td>...</td>\n",
       "      <td>...</td>\n",
       "      <td>...</td>\n",
       "      <td>...</td>\n",
       "      <td>...</td>\n",
       "      <td>...</td>\n",
       "    </tr>\n",
       "    <tr>\n",
       "      <th>17374</th>\n",
       "      <td>17375</td>\n",
       "      <td>31-12-2012</td>\n",
       "      <td>springer</td>\n",
       "      <td>2012</td>\n",
       "      <td>12</td>\n",
       "      <td>19</td>\n",
       "      <td>No</td>\n",
       "      <td>1</td>\n",
       "      <td>Working Day</td>\n",
       "      <td>Mist</td>\n",
       "      <td>0.26</td>\n",
       "      <td>0.2576</td>\n",
       "      <td>0.6</td>\n",
       "      <td>0.1642</td>\n",
       "      <td>11</td>\n",
       "      <td>108</td>\n",
       "      <td>119</td>\n",
       "    </tr>\n",
       "    <tr>\n",
       "      <th>17375</th>\n",
       "      <td>17376</td>\n",
       "      <td>31-12-2012</td>\n",
       "      <td>springer</td>\n",
       "      <td>2012</td>\n",
       "      <td>12</td>\n",
       "      <td>20</td>\n",
       "      <td>No</td>\n",
       "      <td>1</td>\n",
       "      <td>Working Day</td>\n",
       "      <td>Mist</td>\n",
       "      <td>0.26</td>\n",
       "      <td>0.2576</td>\n",
       "      <td>0.6</td>\n",
       "      <td>0.1642</td>\n",
       "      <td>8</td>\n",
       "      <td>81</td>\n",
       "      <td>89</td>\n",
       "    </tr>\n",
       "    <tr>\n",
       "      <th>17376</th>\n",
       "      <td>17377</td>\n",
       "      <td>31-12-2012</td>\n",
       "      <td>springer</td>\n",
       "      <td>2012</td>\n",
       "      <td>12</td>\n",
       "      <td>21</td>\n",
       "      <td>No</td>\n",
       "      <td>1</td>\n",
       "      <td>Working Day</td>\n",
       "      <td>Clear</td>\n",
       "      <td>?</td>\n",
       "      <td>0.2576</td>\n",
       "      <td>0.6</td>\n",
       "      <td>0.1642</td>\n",
       "      <td>7</td>\n",
       "      <td>83</td>\n",
       "      <td>90</td>\n",
       "    </tr>\n",
       "    <tr>\n",
       "      <th>17377</th>\n",
       "      <td>17378</td>\n",
       "      <td>31-12-2012</td>\n",
       "      <td>springer</td>\n",
       "      <td>2012</td>\n",
       "      <td>12</td>\n",
       "      <td>22</td>\n",
       "      <td>No</td>\n",
       "      <td>1</td>\n",
       "      <td>Working Day</td>\n",
       "      <td>Clear</td>\n",
       "      <td>0.26</td>\n",
       "      <td>0.2727</td>\n",
       "      <td>0.56</td>\n",
       "      <td>0.1343</td>\n",
       "      <td>13</td>\n",
       "      <td>48</td>\n",
       "      <td>61</td>\n",
       "    </tr>\n",
       "    <tr>\n",
       "      <th>17378</th>\n",
       "      <td>17379</td>\n",
       "      <td>31-12-2012</td>\n",
       "      <td>springer</td>\n",
       "      <td>2012</td>\n",
       "      <td>12</td>\n",
       "      <td>23</td>\n",
       "      <td>No</td>\n",
       "      <td>1</td>\n",
       "      <td>?</td>\n",
       "      <td>Clear</td>\n",
       "      <td>0.26</td>\n",
       "      <td>0.2727</td>\n",
       "      <td>0.65</td>\n",
       "      <td>0.1343</td>\n",
       "      <td>12</td>\n",
       "      <td>37</td>\n",
       "      <td>49</td>\n",
       "    </tr>\n",
       "  </tbody>\n",
       "</table>\n",
       "<p>17379 rows × 17 columns</p>\n",
       "</div>"
      ],
      "text/plain": [
       "       instant      dteday    season    yr mnth  hr holiday  weekday  \\\n",
       "0            1  01-01-2011  springer  2011    1   0      No        6   \n",
       "1            2  01-01-2011  springer  2011    1   1      No        6   \n",
       "2            3  01-01-2011  springer  2011    1   2      No        6   \n",
       "3            4  01-01-2011  springer  2011    1   3      No        6   \n",
       "4            5  01-01-2011  springer  2011    1   4      No        6   \n",
       "...        ...         ...       ...   ...  ...  ..     ...      ...   \n",
       "17374    17375  31-12-2012  springer  2012   12  19      No        1   \n",
       "17375    17376  31-12-2012  springer  2012   12  20      No        1   \n",
       "17376    17377  31-12-2012  springer  2012   12  21      No        1   \n",
       "17377    17378  31-12-2012  springer  2012   12  22      No        1   \n",
       "17378    17379  31-12-2012  springer  2012   12  23      No        1   \n",
       "\n",
       "        workingday weathersit  temp   atemp   hum windspeed casual registered  \\\n",
       "0          No work      Clear  0.24  0.2879  0.81         0      3         13   \n",
       "1          No work      Clear  0.22  0.2727   0.8         0      8         32   \n",
       "2          No work      Clear  0.22  0.2727     ?         0      5         27   \n",
       "3          No work      Clear  0.24  0.2879  0.75         0      3         10   \n",
       "4          No work      Clear  0.24  0.2879  0.75         0      0          1   \n",
       "...            ...        ...   ...     ...   ...       ...    ...        ...   \n",
       "17374  Working Day       Mist  0.26  0.2576   0.6    0.1642     11        108   \n",
       "17375  Working Day       Mist  0.26  0.2576   0.6    0.1642      8         81   \n",
       "17376  Working Day      Clear     ?  0.2576   0.6    0.1642      7         83   \n",
       "17377  Working Day      Clear  0.26  0.2727  0.56    0.1343     13         48   \n",
       "17378            ?      Clear  0.26  0.2727  0.65    0.1343     12         37   \n",
       "\n",
       "       cnt  \n",
       "0       16  \n",
       "1       40  \n",
       "2       32  \n",
       "3       13  \n",
       "4        1  \n",
       "...    ...  \n",
       "17374  119  \n",
       "17375   89  \n",
       "17376   90  \n",
       "17377   61  \n",
       "17378   49  \n",
       "\n",
       "[17379 rows x 17 columns]"
      ]
     },
     "execution_count": 2,
     "metadata": {},
     "output_type": "execute_result"
    }
   ],
   "source": [
    "#reading the data-set and making a copy and working on it\n",
    "bike_df=pd.read_csv(\"D:\\\\project 3\\\\bike_rent (1).csv\")\n",
    "bike_df"
   ]
  },
  {
   "cell_type": "code",
   "execution_count": 3,
   "id": "2045814f",
   "metadata": {
    "colab": {
     "base_uri": "https://localhost:8080/",
     "height": 600
    },
    "executionInfo": {
     "elapsed": 20,
     "status": "ok",
     "timestamp": 1683810371239,
     "user": {
      "displayName": "Rupak Mondal",
      "userId": "12139440766166473709"
     },
     "user_tz": -330
    },
    "id": "2045814f",
    "outputId": "7afa8e04-1de5-4e61-e7d3-c2addea2a745"
   },
   "outputs": [
    {
     "data": {
      "text/html": [
       "<div>\n",
       "<style scoped>\n",
       "    .dataframe tbody tr th:only-of-type {\n",
       "        vertical-align: middle;\n",
       "    }\n",
       "\n",
       "    .dataframe tbody tr th {\n",
       "        vertical-align: top;\n",
       "    }\n",
       "\n",
       "    .dataframe thead th {\n",
       "        text-align: right;\n",
       "    }\n",
       "</style>\n",
       "<table border=\"1\" class=\"dataframe\">\n",
       "  <thead>\n",
       "    <tr style=\"text-align: right;\">\n",
       "      <th></th>\n",
       "      <th>instant</th>\n",
       "      <th>dteday</th>\n",
       "      <th>season</th>\n",
       "      <th>yr</th>\n",
       "      <th>mnth</th>\n",
       "      <th>hr</th>\n",
       "      <th>holiday</th>\n",
       "      <th>weekday</th>\n",
       "      <th>workingday</th>\n",
       "      <th>weathersit</th>\n",
       "      <th>temp</th>\n",
       "      <th>atemp</th>\n",
       "      <th>hum</th>\n",
       "      <th>windspeed</th>\n",
       "      <th>casual</th>\n",
       "      <th>registered</th>\n",
       "      <th>cnt</th>\n",
       "    </tr>\n",
       "  </thead>\n",
       "  <tbody>\n",
       "    <tr>\n",
       "      <th>0</th>\n",
       "      <td>1</td>\n",
       "      <td>01-01-2011</td>\n",
       "      <td>springer</td>\n",
       "      <td>2011</td>\n",
       "      <td>1</td>\n",
       "      <td>0</td>\n",
       "      <td>No</td>\n",
       "      <td>6</td>\n",
       "      <td>No work</td>\n",
       "      <td>Clear</td>\n",
       "      <td>0.24</td>\n",
       "      <td>0.2879</td>\n",
       "      <td>0.81</td>\n",
       "      <td>0</td>\n",
       "      <td>3</td>\n",
       "      <td>13</td>\n",
       "      <td>16</td>\n",
       "    </tr>\n",
       "    <tr>\n",
       "      <th>1</th>\n",
       "      <td>2</td>\n",
       "      <td>01-01-2011</td>\n",
       "      <td>springer</td>\n",
       "      <td>2011</td>\n",
       "      <td>1</td>\n",
       "      <td>1</td>\n",
       "      <td>No</td>\n",
       "      <td>6</td>\n",
       "      <td>No work</td>\n",
       "      <td>Clear</td>\n",
       "      <td>0.22</td>\n",
       "      <td>0.2727</td>\n",
       "      <td>0.8</td>\n",
       "      <td>0</td>\n",
       "      <td>8</td>\n",
       "      <td>32</td>\n",
       "      <td>40</td>\n",
       "    </tr>\n",
       "    <tr>\n",
       "      <th>2</th>\n",
       "      <td>3</td>\n",
       "      <td>01-01-2011</td>\n",
       "      <td>springer</td>\n",
       "      <td>2011</td>\n",
       "      <td>1</td>\n",
       "      <td>2</td>\n",
       "      <td>No</td>\n",
       "      <td>6</td>\n",
       "      <td>No work</td>\n",
       "      <td>Clear</td>\n",
       "      <td>0.22</td>\n",
       "      <td>0.2727</td>\n",
       "      <td>?</td>\n",
       "      <td>0</td>\n",
       "      <td>5</td>\n",
       "      <td>27</td>\n",
       "      <td>32</td>\n",
       "    </tr>\n",
       "    <tr>\n",
       "      <th>3</th>\n",
       "      <td>4</td>\n",
       "      <td>01-01-2011</td>\n",
       "      <td>springer</td>\n",
       "      <td>2011</td>\n",
       "      <td>1</td>\n",
       "      <td>3</td>\n",
       "      <td>No</td>\n",
       "      <td>6</td>\n",
       "      <td>No work</td>\n",
       "      <td>Clear</td>\n",
       "      <td>0.24</td>\n",
       "      <td>0.2879</td>\n",
       "      <td>0.75</td>\n",
       "      <td>0</td>\n",
       "      <td>3</td>\n",
       "      <td>10</td>\n",
       "      <td>13</td>\n",
       "    </tr>\n",
       "    <tr>\n",
       "      <th>4</th>\n",
       "      <td>5</td>\n",
       "      <td>01-01-2011</td>\n",
       "      <td>springer</td>\n",
       "      <td>2011</td>\n",
       "      <td>1</td>\n",
       "      <td>4</td>\n",
       "      <td>No</td>\n",
       "      <td>6</td>\n",
       "      <td>No work</td>\n",
       "      <td>Clear</td>\n",
       "      <td>0.24</td>\n",
       "      <td>0.2879</td>\n",
       "      <td>0.75</td>\n",
       "      <td>0</td>\n",
       "      <td>0</td>\n",
       "      <td>1</td>\n",
       "      <td>1</td>\n",
       "    </tr>\n",
       "    <tr>\n",
       "      <th>5</th>\n",
       "      <td>6</td>\n",
       "      <td>01-01-2011</td>\n",
       "      <td>springer</td>\n",
       "      <td>2011</td>\n",
       "      <td>1</td>\n",
       "      <td>5</td>\n",
       "      <td>No</td>\n",
       "      <td>6</td>\n",
       "      <td>No work</td>\n",
       "      <td>Mist</td>\n",
       "      <td>0.24</td>\n",
       "      <td>0.2576</td>\n",
       "      <td>0.75</td>\n",
       "      <td>0.0896</td>\n",
       "      <td>0</td>\n",
       "      <td>1</td>\n",
       "      <td>1</td>\n",
       "    </tr>\n",
       "    <tr>\n",
       "      <th>6</th>\n",
       "      <td>7</td>\n",
       "      <td>01-01-2011</td>\n",
       "      <td>springer</td>\n",
       "      <td>2011</td>\n",
       "      <td>1</td>\n",
       "      <td>6</td>\n",
       "      <td>No</td>\n",
       "      <td>6</td>\n",
       "      <td>No work</td>\n",
       "      <td>?</td>\n",
       "      <td>0.22</td>\n",
       "      <td>0.2727</td>\n",
       "      <td>0.8</td>\n",
       "      <td>0</td>\n",
       "      <td>2</td>\n",
       "      <td>0</td>\n",
       "      <td>2</td>\n",
       "    </tr>\n",
       "    <tr>\n",
       "      <th>7</th>\n",
       "      <td>8</td>\n",
       "      <td>01-01-2011</td>\n",
       "      <td>springer</td>\n",
       "      <td>2011</td>\n",
       "      <td>1</td>\n",
       "      <td>7</td>\n",
       "      <td>No</td>\n",
       "      <td>6</td>\n",
       "      <td>No work</td>\n",
       "      <td>Clear</td>\n",
       "      <td>0.2</td>\n",
       "      <td>0.2576</td>\n",
       "      <td>0.86</td>\n",
       "      <td>0</td>\n",
       "      <td>1</td>\n",
       "      <td>2</td>\n",
       "      <td>3</td>\n",
       "    </tr>\n",
       "    <tr>\n",
       "      <th>8</th>\n",
       "      <td>9</td>\n",
       "      <td>01-01-2011</td>\n",
       "      <td>springer</td>\n",
       "      <td>2011</td>\n",
       "      <td>1</td>\n",
       "      <td>8</td>\n",
       "      <td>No</td>\n",
       "      <td>6</td>\n",
       "      <td>No work</td>\n",
       "      <td>Clear</td>\n",
       "      <td>0.24</td>\n",
       "      <td>0.2879</td>\n",
       "      <td>0.75</td>\n",
       "      <td>0</td>\n",
       "      <td>1</td>\n",
       "      <td>7</td>\n",
       "      <td>8</td>\n",
       "    </tr>\n",
       "    <tr>\n",
       "      <th>9</th>\n",
       "      <td>10</td>\n",
       "      <td>01-01-2011</td>\n",
       "      <td>springer</td>\n",
       "      <td>2011</td>\n",
       "      <td>1</td>\n",
       "      <td>9</td>\n",
       "      <td>No</td>\n",
       "      <td>6</td>\n",
       "      <td>No work</td>\n",
       "      <td>Clear</td>\n",
       "      <td>?</td>\n",
       "      <td>0.3485</td>\n",
       "      <td>0.76</td>\n",
       "      <td>0</td>\n",
       "      <td>8</td>\n",
       "      <td>6</td>\n",
       "      <td>14</td>\n",
       "    </tr>\n",
       "  </tbody>\n",
       "</table>\n",
       "</div>"
      ],
      "text/plain": [
       "   instant      dteday    season    yr mnth  hr holiday  weekday workingday  \\\n",
       "0        1  01-01-2011  springer  2011    1   0      No        6    No work   \n",
       "1        2  01-01-2011  springer  2011    1   1      No        6    No work   \n",
       "2        3  01-01-2011  springer  2011    1   2      No        6    No work   \n",
       "3        4  01-01-2011  springer  2011    1   3      No        6    No work   \n",
       "4        5  01-01-2011  springer  2011    1   4      No        6    No work   \n",
       "5        6  01-01-2011  springer  2011    1   5      No        6    No work   \n",
       "6        7  01-01-2011  springer  2011    1   6      No        6    No work   \n",
       "7        8  01-01-2011  springer  2011    1   7      No        6    No work   \n",
       "8        9  01-01-2011  springer  2011    1   8      No        6    No work   \n",
       "9       10  01-01-2011  springer  2011    1   9      No        6    No work   \n",
       "\n",
       "  weathersit  temp   atemp   hum windspeed casual registered  cnt  \n",
       "0      Clear  0.24  0.2879  0.81         0      3         13   16  \n",
       "1      Clear  0.22  0.2727   0.8         0      8         32   40  \n",
       "2      Clear  0.22  0.2727     ?         0      5         27   32  \n",
       "3      Clear  0.24  0.2879  0.75         0      3         10   13  \n",
       "4      Clear  0.24  0.2879  0.75         0      0          1    1  \n",
       "5       Mist  0.24  0.2576  0.75    0.0896      0          1    1  \n",
       "6          ?  0.22  0.2727   0.8         0      2          0    2  \n",
       "7      Clear   0.2  0.2576  0.86         0      1          2    3  \n",
       "8      Clear  0.24  0.2879  0.75         0      1          7    8  \n",
       "9      Clear     ?  0.3485  0.76         0      8          6   14  "
      ]
     },
     "execution_count": 3,
     "metadata": {},
     "output_type": "execute_result"
    }
   ],
   "source": [
    "# checking the nature of dataset - initial 10\n",
    "bike_df.head(10)"
   ]
  },
  {
   "cell_type": "code",
   "execution_count": 4,
   "id": "ec8d3d86",
   "metadata": {
    "colab": {
     "base_uri": "https://localhost:8080/",
     "height": 600
    },
    "executionInfo": {
     "elapsed": 20,
     "status": "ok",
     "timestamp": 1683810371240,
     "user": {
      "displayName": "Rupak Mondal",
      "userId": "12139440766166473709"
     },
     "user_tz": -330
    },
    "id": "ec8d3d86",
    "outputId": "f1d7dfaa-a769-436d-f973-ef7061a219d3"
   },
   "outputs": [
    {
     "data": {
      "text/html": [
       "<div>\n",
       "<style scoped>\n",
       "    .dataframe tbody tr th:only-of-type {\n",
       "        vertical-align: middle;\n",
       "    }\n",
       "\n",
       "    .dataframe tbody tr th {\n",
       "        vertical-align: top;\n",
       "    }\n",
       "\n",
       "    .dataframe thead th {\n",
       "        text-align: right;\n",
       "    }\n",
       "</style>\n",
       "<table border=\"1\" class=\"dataframe\">\n",
       "  <thead>\n",
       "    <tr style=\"text-align: right;\">\n",
       "      <th></th>\n",
       "      <th>instant</th>\n",
       "      <th>dteday</th>\n",
       "      <th>season</th>\n",
       "      <th>yr</th>\n",
       "      <th>mnth</th>\n",
       "      <th>hr</th>\n",
       "      <th>holiday</th>\n",
       "      <th>weekday</th>\n",
       "      <th>workingday</th>\n",
       "      <th>weathersit</th>\n",
       "      <th>temp</th>\n",
       "      <th>atemp</th>\n",
       "      <th>hum</th>\n",
       "      <th>windspeed</th>\n",
       "      <th>casual</th>\n",
       "      <th>registered</th>\n",
       "      <th>cnt</th>\n",
       "    </tr>\n",
       "  </thead>\n",
       "  <tbody>\n",
       "    <tr>\n",
       "      <th>17369</th>\n",
       "      <td>17370</td>\n",
       "      <td>31-12-2012</td>\n",
       "      <td>springer</td>\n",
       "      <td>2012</td>\n",
       "      <td>12</td>\n",
       "      <td>14</td>\n",
       "      <td>No</td>\n",
       "      <td>1</td>\n",
       "      <td>Working Day</td>\n",
       "      <td>Mist</td>\n",
       "      <td>0.28</td>\n",
       "      <td>0.2727</td>\n",
       "      <td>0.45</td>\n",
       "      <td>0.2239</td>\n",
       "      <td>62</td>\n",
       "      <td>185</td>\n",
       "      <td>247</td>\n",
       "    </tr>\n",
       "    <tr>\n",
       "      <th>17370</th>\n",
       "      <td>17371</td>\n",
       "      <td>31-12-2012</td>\n",
       "      <td>springer</td>\n",
       "      <td>2012</td>\n",
       "      <td>12</td>\n",
       "      <td>15</td>\n",
       "      <td>No</td>\n",
       "      <td>1</td>\n",
       "      <td>Working Day</td>\n",
       "      <td>Mist</td>\n",
       "      <td>0.28</td>\n",
       "      <td>0.2879</td>\n",
       "      <td>0.45</td>\n",
       "      <td>0.1343</td>\n",
       "      <td>69</td>\n",
       "      <td>246</td>\n",
       "      <td>315</td>\n",
       "    </tr>\n",
       "    <tr>\n",
       "      <th>17371</th>\n",
       "      <td>17372</td>\n",
       "      <td>31-12-2012</td>\n",
       "      <td>springer</td>\n",
       "      <td>2012</td>\n",
       "      <td>12</td>\n",
       "      <td>16</td>\n",
       "      <td>?</td>\n",
       "      <td>1</td>\n",
       "      <td>Working Day</td>\n",
       "      <td>Mist</td>\n",
       "      <td>0.26</td>\n",
       "      <td>?</td>\n",
       "      <td>0.48</td>\n",
       "      <td>0.194</td>\n",
       "      <td>30</td>\n",
       "      <td>184</td>\n",
       "      <td>214</td>\n",
       "    </tr>\n",
       "    <tr>\n",
       "      <th>17372</th>\n",
       "      <td>17373</td>\n",
       "      <td>31-12-2012</td>\n",
       "      <td>springer</td>\n",
       "      <td>2012</td>\n",
       "      <td>?</td>\n",
       "      <td>17</td>\n",
       "      <td>No</td>\n",
       "      <td>1</td>\n",
       "      <td>Working Day</td>\n",
       "      <td>Mist</td>\n",
       "      <td>0.26</td>\n",
       "      <td>0.2879</td>\n",
       "      <td>0.48</td>\n",
       "      <td>0.0896</td>\n",
       "      <td>14</td>\n",
       "      <td>150</td>\n",
       "      <td>164</td>\n",
       "    </tr>\n",
       "    <tr>\n",
       "      <th>17373</th>\n",
       "      <td>17374</td>\n",
       "      <td>31-12-2012</td>\n",
       "      <td>springer</td>\n",
       "      <td>2012</td>\n",
       "      <td>12</td>\n",
       "      <td>18</td>\n",
       "      <td>No</td>\n",
       "      <td>1</td>\n",
       "      <td>Working Day</td>\n",
       "      <td>Mist</td>\n",
       "      <td>0.26</td>\n",
       "      <td>0.2727</td>\n",
       "      <td>0.48</td>\n",
       "      <td>0.1343</td>\n",
       "      <td>10</td>\n",
       "      <td>112</td>\n",
       "      <td>122</td>\n",
       "    </tr>\n",
       "    <tr>\n",
       "      <th>17374</th>\n",
       "      <td>17375</td>\n",
       "      <td>31-12-2012</td>\n",
       "      <td>springer</td>\n",
       "      <td>2012</td>\n",
       "      <td>12</td>\n",
       "      <td>19</td>\n",
       "      <td>No</td>\n",
       "      <td>1</td>\n",
       "      <td>Working Day</td>\n",
       "      <td>Mist</td>\n",
       "      <td>0.26</td>\n",
       "      <td>0.2576</td>\n",
       "      <td>0.6</td>\n",
       "      <td>0.1642</td>\n",
       "      <td>11</td>\n",
       "      <td>108</td>\n",
       "      <td>119</td>\n",
       "    </tr>\n",
       "    <tr>\n",
       "      <th>17375</th>\n",
       "      <td>17376</td>\n",
       "      <td>31-12-2012</td>\n",
       "      <td>springer</td>\n",
       "      <td>2012</td>\n",
       "      <td>12</td>\n",
       "      <td>20</td>\n",
       "      <td>No</td>\n",
       "      <td>1</td>\n",
       "      <td>Working Day</td>\n",
       "      <td>Mist</td>\n",
       "      <td>0.26</td>\n",
       "      <td>0.2576</td>\n",
       "      <td>0.6</td>\n",
       "      <td>0.1642</td>\n",
       "      <td>8</td>\n",
       "      <td>81</td>\n",
       "      <td>89</td>\n",
       "    </tr>\n",
       "    <tr>\n",
       "      <th>17376</th>\n",
       "      <td>17377</td>\n",
       "      <td>31-12-2012</td>\n",
       "      <td>springer</td>\n",
       "      <td>2012</td>\n",
       "      <td>12</td>\n",
       "      <td>21</td>\n",
       "      <td>No</td>\n",
       "      <td>1</td>\n",
       "      <td>Working Day</td>\n",
       "      <td>Clear</td>\n",
       "      <td>?</td>\n",
       "      <td>0.2576</td>\n",
       "      <td>0.6</td>\n",
       "      <td>0.1642</td>\n",
       "      <td>7</td>\n",
       "      <td>83</td>\n",
       "      <td>90</td>\n",
       "    </tr>\n",
       "    <tr>\n",
       "      <th>17377</th>\n",
       "      <td>17378</td>\n",
       "      <td>31-12-2012</td>\n",
       "      <td>springer</td>\n",
       "      <td>2012</td>\n",
       "      <td>12</td>\n",
       "      <td>22</td>\n",
       "      <td>No</td>\n",
       "      <td>1</td>\n",
       "      <td>Working Day</td>\n",
       "      <td>Clear</td>\n",
       "      <td>0.26</td>\n",
       "      <td>0.2727</td>\n",
       "      <td>0.56</td>\n",
       "      <td>0.1343</td>\n",
       "      <td>13</td>\n",
       "      <td>48</td>\n",
       "      <td>61</td>\n",
       "    </tr>\n",
       "    <tr>\n",
       "      <th>17378</th>\n",
       "      <td>17379</td>\n",
       "      <td>31-12-2012</td>\n",
       "      <td>springer</td>\n",
       "      <td>2012</td>\n",
       "      <td>12</td>\n",
       "      <td>23</td>\n",
       "      <td>No</td>\n",
       "      <td>1</td>\n",
       "      <td>?</td>\n",
       "      <td>Clear</td>\n",
       "      <td>0.26</td>\n",
       "      <td>0.2727</td>\n",
       "      <td>0.65</td>\n",
       "      <td>0.1343</td>\n",
       "      <td>12</td>\n",
       "      <td>37</td>\n",
       "      <td>49</td>\n",
       "    </tr>\n",
       "  </tbody>\n",
       "</table>\n",
       "</div>"
      ],
      "text/plain": [
       "       instant      dteday    season    yr mnth  hr holiday  weekday  \\\n",
       "17369    17370  31-12-2012  springer  2012   12  14      No        1   \n",
       "17370    17371  31-12-2012  springer  2012   12  15      No        1   \n",
       "17371    17372  31-12-2012  springer  2012   12  16       ?        1   \n",
       "17372    17373  31-12-2012  springer  2012    ?  17      No        1   \n",
       "17373    17374  31-12-2012  springer  2012   12  18      No        1   \n",
       "17374    17375  31-12-2012  springer  2012   12  19      No        1   \n",
       "17375    17376  31-12-2012  springer  2012   12  20      No        1   \n",
       "17376    17377  31-12-2012  springer  2012   12  21      No        1   \n",
       "17377    17378  31-12-2012  springer  2012   12  22      No        1   \n",
       "17378    17379  31-12-2012  springer  2012   12  23      No        1   \n",
       "\n",
       "        workingday weathersit  temp   atemp   hum windspeed casual registered  \\\n",
       "17369  Working Day       Mist  0.28  0.2727  0.45    0.2239     62        185   \n",
       "17370  Working Day       Mist  0.28  0.2879  0.45    0.1343     69        246   \n",
       "17371  Working Day       Mist  0.26       ?  0.48     0.194     30        184   \n",
       "17372  Working Day       Mist  0.26  0.2879  0.48    0.0896     14        150   \n",
       "17373  Working Day       Mist  0.26  0.2727  0.48    0.1343     10        112   \n",
       "17374  Working Day       Mist  0.26  0.2576   0.6    0.1642     11        108   \n",
       "17375  Working Day       Mist  0.26  0.2576   0.6    0.1642      8         81   \n",
       "17376  Working Day      Clear     ?  0.2576   0.6    0.1642      7         83   \n",
       "17377  Working Day      Clear  0.26  0.2727  0.56    0.1343     13         48   \n",
       "17378            ?      Clear  0.26  0.2727  0.65    0.1343     12         37   \n",
       "\n",
       "       cnt  \n",
       "17369  247  \n",
       "17370  315  \n",
       "17371  214  \n",
       "17372  164  \n",
       "17373  122  \n",
       "17374  119  \n",
       "17375   89  \n",
       "17376   90  \n",
       "17377   61  \n",
       "17378   49  "
      ]
     },
     "execution_count": 4,
     "metadata": {},
     "output_type": "execute_result"
    }
   ],
   "source": [
    "# checking the nature of dataset - last 10\n",
    "bike_df.tail(10)"
   ]
  },
  {
   "cell_type": "code",
   "execution_count": 5,
   "id": "7e4757e7",
   "metadata": {
    "colab": {
     "base_uri": "https://localhost:8080/"
    },
    "executionInfo": {
     "elapsed": 19,
     "status": "ok",
     "timestamp": 1683810371240,
     "user": {
      "displayName": "Rupak Mondal",
      "userId": "12139440766166473709"
     },
     "user_tz": -330
    },
    "id": "7e4757e7",
    "outputId": "50b48220-eeb2-42cd-fec1-3f1ea8ed35d3"
   },
   "outputs": [
    {
     "data": {
      "text/plain": [
       "instant       17379\n",
       "dteday          731\n",
       "season            5\n",
       "yr                3\n",
       "mnth             13\n",
       "hr               24\n",
       "holiday           3\n",
       "weekday           7\n",
       "workingday        3\n",
       "weathersit        5\n",
       "temp             51\n",
       "atemp            66\n",
       "hum              90\n",
       "windspeed        31\n",
       "casual          323\n",
       "registered      777\n",
       "cnt             869\n",
       "dtype: int64"
      ]
     },
     "execution_count": 5,
     "metadata": {},
     "output_type": "execute_result"
    }
   ],
   "source": [
    "#information of unique values in each column\n",
    "bike_df.nunique()"
   ]
  },
  {
   "cell_type": "code",
   "execution_count": 6,
   "id": "556fe517",
   "metadata": {
    "colab": {
     "base_uri": "https://localhost:8080/"
    },
    "executionInfo": {
     "elapsed": 14,
     "status": "ok",
     "timestamp": 1683810371241,
     "user": {
      "displayName": "Rupak Mondal",
      "userId": "12139440766166473709"
     },
     "user_tz": -330
    },
    "id": "556fe517",
    "outputId": "41806441-cabd-49d5-c837-89f2b196a2d5"
   },
   "outputs": [
    {
     "name": "stdout",
     "output_type": "stream",
     "text": [
      "<class 'pandas.core.frame.DataFrame'>\n",
      "RangeIndex: 17379 entries, 0 to 17378\n",
      "Data columns (total 17 columns):\n",
      " #   Column      Non-Null Count  Dtype \n",
      "---  ------      --------------  ----- \n",
      " 0   instant     17379 non-null  int64 \n",
      " 1   dteday      17379 non-null  object\n",
      " 2   season      17379 non-null  object\n",
      " 3   yr          17379 non-null  object\n",
      " 4   mnth        17379 non-null  object\n",
      " 5   hr          17379 non-null  int64 \n",
      " 6   holiday     17379 non-null  object\n",
      " 7   weekday     17379 non-null  int64 \n",
      " 8   workingday  17379 non-null  object\n",
      " 9   weathersit  17379 non-null  object\n",
      " 10  temp        17379 non-null  object\n",
      " 11  atemp       17379 non-null  object\n",
      " 12  hum         17379 non-null  object\n",
      " 13  windspeed   17379 non-null  object\n",
      " 14  casual      17379 non-null  object\n",
      " 15  registered  17379 non-null  object\n",
      " 16  cnt         17379 non-null  int64 \n",
      "dtypes: int64(4), object(13)\n",
      "memory usage: 2.3+ MB\n"
     ]
    }
   ],
   "source": [
    "# information regrding the null values count, columns and datatypes of each columns\n",
    "bike_df.info()"
   ]
  },
  {
   "cell_type": "code",
   "execution_count": 7,
   "id": "ae8d5cba",
   "metadata": {
    "colab": {
     "base_uri": "https://localhost:8080/"
    },
    "executionInfo": {
     "elapsed": 69,
     "status": "ok",
     "timestamp": 1683810373214,
     "user": {
      "displayName": "Rupak Mondal",
      "userId": "12139440766166473709"
     },
     "user_tz": -330
    },
    "id": "ae8d5cba",
    "outputId": "8f57e7ae-8d3c-443f-9435-6882c5d584d2"
   },
   "outputs": [
    {
     "data": {
      "text/plain": [
       "instant       0\n",
       "dteday        0\n",
       "season        0\n",
       "yr            0\n",
       "mnth          0\n",
       "hr            0\n",
       "holiday       0\n",
       "weekday       0\n",
       "workingday    0\n",
       "weathersit    0\n",
       "temp          0\n",
       "atemp         0\n",
       "hum           0\n",
       "windspeed     0\n",
       "casual        0\n",
       "registered    0\n",
       "cnt           0\n",
       "dtype: int64"
      ]
     },
     "execution_count": 7,
     "metadata": {},
     "output_type": "execute_result"
    }
   ],
   "source": [
    "# checking for the null values present in the datafeame\n",
    "bike_df.isnull().sum()"
   ]
  },
  {
   "cell_type": "markdown",
   "id": "c98e0cbd",
   "metadata": {
    "id": "c98e0cbd"
   },
   "source": [
    "There are no null values found, but through observations we can make out that there are null values in the form of \"?\".\n",
    "therefore, to consider \"?\" as missing data, we shall replace it with NaN"
   ]
  },
  {
   "cell_type": "code",
   "execution_count": 8,
   "id": "da53e429",
   "metadata": {},
   "outputs": [],
   "source": [
    "# replcaing \"?\" value with nan value"
   ]
  },
  {
   "cell_type": "code",
   "execution_count": 9,
   "id": "decf3ebe",
   "metadata": {
    "executionInfo": {
     "elapsed": 67,
     "status": "ok",
     "timestamp": 1683810373218,
     "user": {
      "displayName": "Rupak Mondal",
      "userId": "12139440766166473709"
     },
     "user_tz": -330
    },
    "id": "decf3ebe"
   },
   "outputs": [],
   "source": [
    "bike_df.replace(\"?\", float(np.nan), inplace=True)"
   ]
  },
  {
   "cell_type": "code",
   "execution_count": 10,
   "id": "848e938b",
   "metadata": {
    "colab": {
     "base_uri": "https://localhost:8080/",
     "height": 357
    },
    "executionInfo": {
     "elapsed": 67,
     "status": "ok",
     "timestamp": 1683810373219,
     "user": {
      "displayName": "Rupak Mondal",
      "userId": "12139440766166473709"
     },
     "user_tz": -330
    },
    "id": "848e938b",
    "outputId": "0cdef418-c86e-4adf-9c7a-c864a5b7b77a"
   },
   "outputs": [
    {
     "data": {
      "text/html": [
       "<div>\n",
       "<style scoped>\n",
       "    .dataframe tbody tr th:only-of-type {\n",
       "        vertical-align: middle;\n",
       "    }\n",
       "\n",
       "    .dataframe tbody tr th {\n",
       "        vertical-align: top;\n",
       "    }\n",
       "\n",
       "    .dataframe thead th {\n",
       "        text-align: right;\n",
       "    }\n",
       "</style>\n",
       "<table border=\"1\" class=\"dataframe\">\n",
       "  <thead>\n",
       "    <tr style=\"text-align: right;\">\n",
       "      <th></th>\n",
       "      <th>instant</th>\n",
       "      <th>dteday</th>\n",
       "      <th>season</th>\n",
       "      <th>yr</th>\n",
       "      <th>mnth</th>\n",
       "      <th>hr</th>\n",
       "      <th>holiday</th>\n",
       "      <th>weekday</th>\n",
       "      <th>workingday</th>\n",
       "      <th>weathersit</th>\n",
       "      <th>temp</th>\n",
       "      <th>atemp</th>\n",
       "      <th>hum</th>\n",
       "      <th>windspeed</th>\n",
       "      <th>casual</th>\n",
       "      <th>registered</th>\n",
       "      <th>cnt</th>\n",
       "    </tr>\n",
       "  </thead>\n",
       "  <tbody>\n",
       "    <tr>\n",
       "      <th>0</th>\n",
       "      <td>1</td>\n",
       "      <td>01-01-2011</td>\n",
       "      <td>springer</td>\n",
       "      <td>2011</td>\n",
       "      <td>1</td>\n",
       "      <td>0</td>\n",
       "      <td>No</td>\n",
       "      <td>6</td>\n",
       "      <td>No work</td>\n",
       "      <td>Clear</td>\n",
       "      <td>0.24</td>\n",
       "      <td>0.2879</td>\n",
       "      <td>0.81</td>\n",
       "      <td>0</td>\n",
       "      <td>3</td>\n",
       "      <td>13</td>\n",
       "      <td>16</td>\n",
       "    </tr>\n",
       "    <tr>\n",
       "      <th>1</th>\n",
       "      <td>2</td>\n",
       "      <td>01-01-2011</td>\n",
       "      <td>springer</td>\n",
       "      <td>2011</td>\n",
       "      <td>1</td>\n",
       "      <td>1</td>\n",
       "      <td>No</td>\n",
       "      <td>6</td>\n",
       "      <td>No work</td>\n",
       "      <td>Clear</td>\n",
       "      <td>0.22</td>\n",
       "      <td>0.2727</td>\n",
       "      <td>0.8</td>\n",
       "      <td>0</td>\n",
       "      <td>8</td>\n",
       "      <td>32</td>\n",
       "      <td>40</td>\n",
       "    </tr>\n",
       "    <tr>\n",
       "      <th>2</th>\n",
       "      <td>3</td>\n",
       "      <td>01-01-2011</td>\n",
       "      <td>springer</td>\n",
       "      <td>2011</td>\n",
       "      <td>1</td>\n",
       "      <td>2</td>\n",
       "      <td>No</td>\n",
       "      <td>6</td>\n",
       "      <td>No work</td>\n",
       "      <td>Clear</td>\n",
       "      <td>0.22</td>\n",
       "      <td>0.2727</td>\n",
       "      <td>NaN</td>\n",
       "      <td>0</td>\n",
       "      <td>5</td>\n",
       "      <td>27</td>\n",
       "      <td>32</td>\n",
       "    </tr>\n",
       "    <tr>\n",
       "      <th>3</th>\n",
       "      <td>4</td>\n",
       "      <td>01-01-2011</td>\n",
       "      <td>springer</td>\n",
       "      <td>2011</td>\n",
       "      <td>1</td>\n",
       "      <td>3</td>\n",
       "      <td>No</td>\n",
       "      <td>6</td>\n",
       "      <td>No work</td>\n",
       "      <td>Clear</td>\n",
       "      <td>0.24</td>\n",
       "      <td>0.2879</td>\n",
       "      <td>0.75</td>\n",
       "      <td>0</td>\n",
       "      <td>3</td>\n",
       "      <td>10</td>\n",
       "      <td>13</td>\n",
       "    </tr>\n",
       "    <tr>\n",
       "      <th>4</th>\n",
       "      <td>5</td>\n",
       "      <td>01-01-2011</td>\n",
       "      <td>springer</td>\n",
       "      <td>2011</td>\n",
       "      <td>1</td>\n",
       "      <td>4</td>\n",
       "      <td>No</td>\n",
       "      <td>6</td>\n",
       "      <td>No work</td>\n",
       "      <td>Clear</td>\n",
       "      <td>0.24</td>\n",
       "      <td>0.2879</td>\n",
       "      <td>0.75</td>\n",
       "      <td>0</td>\n",
       "      <td>0</td>\n",
       "      <td>1</td>\n",
       "      <td>1</td>\n",
       "    </tr>\n",
       "  </tbody>\n",
       "</table>\n",
       "</div>"
      ],
      "text/plain": [
       "   instant      dteday    season    yr mnth  hr holiday  weekday workingday  \\\n",
       "0        1  01-01-2011  springer  2011    1   0      No        6    No work   \n",
       "1        2  01-01-2011  springer  2011    1   1      No        6    No work   \n",
       "2        3  01-01-2011  springer  2011    1   2      No        6    No work   \n",
       "3        4  01-01-2011  springer  2011    1   3      No        6    No work   \n",
       "4        5  01-01-2011  springer  2011    1   4      No        6    No work   \n",
       "\n",
       "  weathersit  temp   atemp   hum windspeed casual registered  cnt  \n",
       "0      Clear  0.24  0.2879  0.81         0      3         13   16  \n",
       "1      Clear  0.22  0.2727   0.8         0      8         32   40  \n",
       "2      Clear  0.22  0.2727   NaN         0      5         27   32  \n",
       "3      Clear  0.24  0.2879  0.75         0      3         10   13  \n",
       "4      Clear  0.24  0.2879  0.75         0      0          1    1  "
      ]
     },
     "execution_count": 10,
     "metadata": {},
     "output_type": "execute_result"
    }
   ],
   "source": [
    "bike_df.head(5)"
   ]
  },
  {
   "cell_type": "code",
   "execution_count": 11,
   "id": "f3666611",
   "metadata": {
    "colab": {
     "base_uri": "https://localhost:8080/"
    },
    "executionInfo": {
     "elapsed": 66,
     "status": "ok",
     "timestamp": 1683810373219,
     "user": {
      "displayName": "Rupak Mondal",
      "userId": "12139440766166473709"
     },
     "user_tz": -330
    },
    "id": "f3666611",
    "outputId": "08ab98f4-e51e-4d90-e20b-207df5dfe7fd"
   },
   "outputs": [
    {
     "data": {
      "text/plain": [
       "instant        0\n",
       "dteday         0\n",
       "season         6\n",
       "yr             1\n",
       "mnth           1\n",
       "hr             0\n",
       "holiday        1\n",
       "weekday        0\n",
       "workingday     5\n",
       "weathersit     4\n",
       "temp          11\n",
       "atemp          6\n",
       "hum            6\n",
       "windspeed      5\n",
       "casual         1\n",
       "registered     1\n",
       "cnt            0\n",
       "dtype: int64"
      ]
     },
     "execution_count": 11,
     "metadata": {},
     "output_type": "execute_result"
    }
   ],
   "source": [
    "bike_df.isnull().sum()"
   ]
  },
  {
   "cell_type": "code",
   "execution_count": 12,
   "id": "b817280a",
   "metadata": {
    "colab": {
     "base_uri": "https://localhost:8080/"
    },
    "executionInfo": {
     "elapsed": 60,
     "status": "ok",
     "timestamp": 1683810373219,
     "user": {
      "displayName": "Rupak Mondal",
      "userId": "12139440766166473709"
     },
     "user_tz": -330
    },
    "id": "b817280a",
    "outputId": "02552594-705e-4d9c-da0a-cff6de4bfd37"
   },
   "outputs": [
    {
     "data": {
      "text/plain": [
       "(17379, 17)"
      ]
     },
     "execution_count": 12,
     "metadata": {},
     "output_type": "execute_result"
    }
   ],
   "source": [
    "# checking the rows and columns of the dataset\n",
    "bike_df.shape"
   ]
  },
  {
   "cell_type": "code",
   "execution_count": 13,
   "id": "19bf6732",
   "metadata": {
    "executionInfo": {
     "elapsed": 55,
     "status": "ok",
     "timestamp": 1683810373220,
     "user": {
      "displayName": "Rupak Mondal",
      "userId": "12139440766166473709"
     },
     "user_tz": -330
    },
    "id": "19bf6732"
   },
   "outputs": [],
   "source": [
    "# As the maximum NaN values is 11, it is very negligible percent of the whole dataset and so we are dropping the NaN values \n",
    "bike_df1 = bike_df.dropna()"
   ]
  },
  {
   "cell_type": "code",
   "execution_count": 14,
   "id": "325ad9cc",
   "metadata": {
    "colab": {
     "base_uri": "https://localhost:8080/"
    },
    "executionInfo": {
     "elapsed": 54,
     "status": "ok",
     "timestamp": 1683810373220,
     "user": {
      "displayName": "Rupak Mondal",
      "userId": "12139440766166473709"
     },
     "user_tz": -330
    },
    "id": "325ad9cc",
    "outputId": "9240fa9a-3482-4e77-ce2e-ea7223733bde"
   },
   "outputs": [
    {
     "data": {
      "text/plain": [
       "(17339, 17)"
      ]
     },
     "execution_count": 14,
     "metadata": {},
     "output_type": "execute_result"
    }
   ],
   "source": [
    "bike_df1.shape"
   ]
  },
  {
   "cell_type": "code",
   "execution_count": 15,
   "id": "a61125ee",
   "metadata": {
    "colab": {
     "base_uri": "https://localhost:8080/"
    },
    "executionInfo": {
     "elapsed": 52,
     "status": "ok",
     "timestamp": 1683810373221,
     "user": {
      "displayName": "Rupak Mondal",
      "userId": "12139440766166473709"
     },
     "user_tz": -330
    },
    "id": "a61125ee",
    "outputId": "0800dd4b-2a52-4dfa-c992-cc1b95269d6c"
   },
   "outputs": [
    {
     "data": {
      "text/plain": [
       "Index(['instant', 'dteday', 'season', 'yr', 'mnth', 'hr', 'holiday', 'weekday',\n",
       "       'workingday', 'weathersit', 'temp', 'atemp', 'hum', 'windspeed',\n",
       "       'casual', 'registered', 'cnt'],\n",
       "      dtype='object')"
      ]
     },
     "execution_count": 15,
     "metadata": {},
     "output_type": "execute_result"
    }
   ],
   "source": [
    "bike_df1.columns"
   ]
  },
  {
   "cell_type": "code",
   "execution_count": 16,
   "id": "8571dac0",
   "metadata": {
    "colab": {
     "base_uri": "https://localhost:8080/"
    },
    "executionInfo": {
     "elapsed": 49,
     "status": "ok",
     "timestamp": 1683810373221,
     "user": {
      "displayName": "Rupak Mondal",
      "userId": "12139440766166473709"
     },
     "user_tz": -330
    },
    "id": "8571dac0",
    "outputId": "f479bd52-9502-4f54-9630-32d712c89f13"
   },
   "outputs": [
    {
     "data": {
      "text/plain": [
       "instant       0\n",
       "dteday        0\n",
       "season        0\n",
       "yr            0\n",
       "mnth          0\n",
       "hr            0\n",
       "holiday       0\n",
       "weekday       0\n",
       "workingday    0\n",
       "weathersit    0\n",
       "temp          0\n",
       "atemp         0\n",
       "hum           0\n",
       "windspeed     0\n",
       "casual        0\n",
       "registered    0\n",
       "cnt           0\n",
       "dtype: int64"
      ]
     },
     "execution_count": 16,
     "metadata": {},
     "output_type": "execute_result"
    }
   ],
   "source": [
    "bike_df1.isnull().sum()"
   ]
  },
  {
   "cell_type": "code",
   "execution_count": 17,
   "id": "d8c9e274",
   "metadata": {
    "colab": {
     "base_uri": "https://localhost:8080/"
    },
    "executionInfo": {
     "elapsed": 47,
     "status": "ok",
     "timestamp": 1683810373222,
     "user": {
      "displayName": "Rupak Mondal",
      "userId": "12139440766166473709"
     },
     "user_tz": -330
    },
    "id": "d8c9e274",
    "outputId": "3f9d8a8e-528a-4cfa-baad-86c046e1845f"
   },
   "outputs": [
    {
     "data": {
      "text/plain": [
       "instant        int64\n",
       "dteday        object\n",
       "season        object\n",
       "yr            object\n",
       "mnth          object\n",
       "hr             int64\n",
       "holiday       object\n",
       "weekday        int64\n",
       "workingday    object\n",
       "weathersit    object\n",
       "temp          object\n",
       "atemp         object\n",
       "hum           object\n",
       "windspeed     object\n",
       "casual        object\n",
       "registered    object\n",
       "cnt            int64\n",
       "dtype: object"
      ]
     },
     "execution_count": 17,
     "metadata": {},
     "output_type": "execute_result"
    }
   ],
   "source": [
    "bike_df1.dtypes"
   ]
  },
  {
   "cell_type": "code",
   "execution_count": 18,
   "id": "4bb04560",
   "metadata": {
    "executionInfo": {
     "elapsed": 43,
     "status": "ok",
     "timestamp": 1683810373222,
     "user": {
      "displayName": "Rupak Mondal",
      "userId": "12139440766166473709"
     },
     "user_tz": -330
    },
    "id": "4bb04560"
   },
   "outputs": [],
   "source": [
    "#typecasting\n",
    "bike_df1['dteday'] = pd.to_datetime(bike_df1['dteday'])"
   ]
  },
  {
   "cell_type": "code",
   "execution_count": 19,
   "id": "2d872cdc",
   "metadata": {
    "executionInfo": {
     "elapsed": 43,
     "status": "ok",
     "timestamp": 1683810373222,
     "user": {
      "displayName": "Rupak Mondal",
      "userId": "12139440766166473709"
     },
     "user_tz": -330
    },
    "id": "2d872cdc"
   },
   "outputs": [],
   "source": [
    "# Typecasting\n",
    "bike_df1 = bike_df1.astype({\n",
    "    'season': 'category',\n",
    "    'yr':'category',\n",
    "    'mnth': 'int64',\n",
    "    'hr': 'int64',\n",
    "    'holiday': 'category',\n",
    "    'weekday': 'int64',\n",
    "    'workingday': 'category',\n",
    "    'weathersit': 'category',\n",
    "    'temp': 'float64',\n",
    "    'atemp': 'float64',\n",
    "    'hum': 'float64',\n",
    "    'windspeed': 'float64',\n",
    "    'casual': 'float64',\n",
    "    'registered': 'float64'\n",
    "})"
   ]
  },
  {
   "cell_type": "code",
   "execution_count": 20,
   "id": "e0a3e716",
   "metadata": {
    "colab": {
     "base_uri": "https://localhost:8080/"
    },
    "executionInfo": {
     "elapsed": 43,
     "status": "ok",
     "timestamp": 1683810373222,
     "user": {
      "displayName": "Rupak Mondal",
      "userId": "12139440766166473709"
     },
     "user_tz": -330
    },
    "id": "e0a3e716",
    "outputId": "bc434fea-bf1f-4762-d4ca-077163d55831"
   },
   "outputs": [
    {
     "data": {
      "text/plain": [
       "instant                int64\n",
       "dteday        datetime64[ns]\n",
       "season              category\n",
       "yr                  category\n",
       "mnth                   int64\n",
       "hr                     int64\n",
       "holiday             category\n",
       "weekday                int64\n",
       "workingday          category\n",
       "weathersit          category\n",
       "temp                 float64\n",
       "atemp                float64\n",
       "hum                  float64\n",
       "windspeed            float64\n",
       "casual               float64\n",
       "registered           float64\n",
       "cnt                    int64\n",
       "dtype: object"
      ]
     },
     "execution_count": 20,
     "metadata": {},
     "output_type": "execute_result"
    }
   ],
   "source": [
    "bike_df1.dtypes"
   ]
  },
  {
   "cell_type": "code",
   "execution_count": 21,
   "id": "0404ef9a",
   "metadata": {
    "executionInfo": {
     "elapsed": 39,
     "status": "ok",
     "timestamp": 1683810373222,
     "user": {
      "displayName": "Rupak Mondal",
      "userId": "12139440766166473709"
     },
     "user_tz": -330
    },
    "id": "0404ef9a"
   },
   "outputs": [],
   "source": [
    "bike_df1.drop(['instant', 'dteday'], axis=1, inplace=True)"
   ]
  },
  {
   "cell_type": "code",
   "execution_count": 22,
   "id": "abf2b4ef",
   "metadata": {},
   "outputs": [
    {
     "data": {
      "text/html": [
       "<div>\n",
       "<style scoped>\n",
       "    .dataframe tbody tr th:only-of-type {\n",
       "        vertical-align: middle;\n",
       "    }\n",
       "\n",
       "    .dataframe tbody tr th {\n",
       "        vertical-align: top;\n",
       "    }\n",
       "\n",
       "    .dataframe thead th {\n",
       "        text-align: right;\n",
       "    }\n",
       "</style>\n",
       "<table border=\"1\" class=\"dataframe\">\n",
       "  <thead>\n",
       "    <tr style=\"text-align: right;\">\n",
       "      <th></th>\n",
       "      <th>season</th>\n",
       "      <th>yr</th>\n",
       "      <th>mnth</th>\n",
       "      <th>hr</th>\n",
       "      <th>holiday</th>\n",
       "      <th>weekday</th>\n",
       "      <th>workingday</th>\n",
       "      <th>weathersit</th>\n",
       "      <th>temp</th>\n",
       "      <th>atemp</th>\n",
       "      <th>hum</th>\n",
       "      <th>windspeed</th>\n",
       "      <th>casual</th>\n",
       "      <th>registered</th>\n",
       "      <th>cnt</th>\n",
       "    </tr>\n",
       "  </thead>\n",
       "  <tbody>\n",
       "    <tr>\n",
       "      <th>0</th>\n",
       "      <td>springer</td>\n",
       "      <td>2011</td>\n",
       "      <td>1</td>\n",
       "      <td>0</td>\n",
       "      <td>No</td>\n",
       "      <td>6</td>\n",
       "      <td>No work</td>\n",
       "      <td>Clear</td>\n",
       "      <td>0.24</td>\n",
       "      <td>0.2879</td>\n",
       "      <td>0.81</td>\n",
       "      <td>0.0000</td>\n",
       "      <td>3.0</td>\n",
       "      <td>13.0</td>\n",
       "      <td>16</td>\n",
       "    </tr>\n",
       "    <tr>\n",
       "      <th>1</th>\n",
       "      <td>springer</td>\n",
       "      <td>2011</td>\n",
       "      <td>1</td>\n",
       "      <td>1</td>\n",
       "      <td>No</td>\n",
       "      <td>6</td>\n",
       "      <td>No work</td>\n",
       "      <td>Clear</td>\n",
       "      <td>0.22</td>\n",
       "      <td>0.2727</td>\n",
       "      <td>0.80</td>\n",
       "      <td>0.0000</td>\n",
       "      <td>8.0</td>\n",
       "      <td>32.0</td>\n",
       "      <td>40</td>\n",
       "    </tr>\n",
       "    <tr>\n",
       "      <th>3</th>\n",
       "      <td>springer</td>\n",
       "      <td>2011</td>\n",
       "      <td>1</td>\n",
       "      <td>3</td>\n",
       "      <td>No</td>\n",
       "      <td>6</td>\n",
       "      <td>No work</td>\n",
       "      <td>Clear</td>\n",
       "      <td>0.24</td>\n",
       "      <td>0.2879</td>\n",
       "      <td>0.75</td>\n",
       "      <td>0.0000</td>\n",
       "      <td>3.0</td>\n",
       "      <td>10.0</td>\n",
       "      <td>13</td>\n",
       "    </tr>\n",
       "    <tr>\n",
       "      <th>4</th>\n",
       "      <td>springer</td>\n",
       "      <td>2011</td>\n",
       "      <td>1</td>\n",
       "      <td>4</td>\n",
       "      <td>No</td>\n",
       "      <td>6</td>\n",
       "      <td>No work</td>\n",
       "      <td>Clear</td>\n",
       "      <td>0.24</td>\n",
       "      <td>0.2879</td>\n",
       "      <td>0.75</td>\n",
       "      <td>0.0000</td>\n",
       "      <td>0.0</td>\n",
       "      <td>1.0</td>\n",
       "      <td>1</td>\n",
       "    </tr>\n",
       "    <tr>\n",
       "      <th>5</th>\n",
       "      <td>springer</td>\n",
       "      <td>2011</td>\n",
       "      <td>1</td>\n",
       "      <td>5</td>\n",
       "      <td>No</td>\n",
       "      <td>6</td>\n",
       "      <td>No work</td>\n",
       "      <td>Mist</td>\n",
       "      <td>0.24</td>\n",
       "      <td>0.2576</td>\n",
       "      <td>0.75</td>\n",
       "      <td>0.0896</td>\n",
       "      <td>0.0</td>\n",
       "      <td>1.0</td>\n",
       "      <td>1</td>\n",
       "    </tr>\n",
       "    <tr>\n",
       "      <th>...</th>\n",
       "      <td>...</td>\n",
       "      <td>...</td>\n",
       "      <td>...</td>\n",
       "      <td>...</td>\n",
       "      <td>...</td>\n",
       "      <td>...</td>\n",
       "      <td>...</td>\n",
       "      <td>...</td>\n",
       "      <td>...</td>\n",
       "      <td>...</td>\n",
       "      <td>...</td>\n",
       "      <td>...</td>\n",
       "      <td>...</td>\n",
       "      <td>...</td>\n",
       "      <td>...</td>\n",
       "    </tr>\n",
       "    <tr>\n",
       "      <th>17370</th>\n",
       "      <td>springer</td>\n",
       "      <td>2012</td>\n",
       "      <td>12</td>\n",
       "      <td>15</td>\n",
       "      <td>No</td>\n",
       "      <td>1</td>\n",
       "      <td>Working Day</td>\n",
       "      <td>Mist</td>\n",
       "      <td>0.28</td>\n",
       "      <td>0.2879</td>\n",
       "      <td>0.45</td>\n",
       "      <td>0.1343</td>\n",
       "      <td>69.0</td>\n",
       "      <td>246.0</td>\n",
       "      <td>315</td>\n",
       "    </tr>\n",
       "    <tr>\n",
       "      <th>17373</th>\n",
       "      <td>springer</td>\n",
       "      <td>2012</td>\n",
       "      <td>12</td>\n",
       "      <td>18</td>\n",
       "      <td>No</td>\n",
       "      <td>1</td>\n",
       "      <td>Working Day</td>\n",
       "      <td>Mist</td>\n",
       "      <td>0.26</td>\n",
       "      <td>0.2727</td>\n",
       "      <td>0.48</td>\n",
       "      <td>0.1343</td>\n",
       "      <td>10.0</td>\n",
       "      <td>112.0</td>\n",
       "      <td>122</td>\n",
       "    </tr>\n",
       "    <tr>\n",
       "      <th>17374</th>\n",
       "      <td>springer</td>\n",
       "      <td>2012</td>\n",
       "      <td>12</td>\n",
       "      <td>19</td>\n",
       "      <td>No</td>\n",
       "      <td>1</td>\n",
       "      <td>Working Day</td>\n",
       "      <td>Mist</td>\n",
       "      <td>0.26</td>\n",
       "      <td>0.2576</td>\n",
       "      <td>0.60</td>\n",
       "      <td>0.1642</td>\n",
       "      <td>11.0</td>\n",
       "      <td>108.0</td>\n",
       "      <td>119</td>\n",
       "    </tr>\n",
       "    <tr>\n",
       "      <th>17375</th>\n",
       "      <td>springer</td>\n",
       "      <td>2012</td>\n",
       "      <td>12</td>\n",
       "      <td>20</td>\n",
       "      <td>No</td>\n",
       "      <td>1</td>\n",
       "      <td>Working Day</td>\n",
       "      <td>Mist</td>\n",
       "      <td>0.26</td>\n",
       "      <td>0.2576</td>\n",
       "      <td>0.60</td>\n",
       "      <td>0.1642</td>\n",
       "      <td>8.0</td>\n",
       "      <td>81.0</td>\n",
       "      <td>89</td>\n",
       "    </tr>\n",
       "    <tr>\n",
       "      <th>17377</th>\n",
       "      <td>springer</td>\n",
       "      <td>2012</td>\n",
       "      <td>12</td>\n",
       "      <td>22</td>\n",
       "      <td>No</td>\n",
       "      <td>1</td>\n",
       "      <td>Working Day</td>\n",
       "      <td>Clear</td>\n",
       "      <td>0.26</td>\n",
       "      <td>0.2727</td>\n",
       "      <td>0.56</td>\n",
       "      <td>0.1343</td>\n",
       "      <td>13.0</td>\n",
       "      <td>48.0</td>\n",
       "      <td>61</td>\n",
       "    </tr>\n",
       "  </tbody>\n",
       "</table>\n",
       "<p>17339 rows × 15 columns</p>\n",
       "</div>"
      ],
      "text/plain": [
       "         season    yr  mnth  hr holiday  weekday   workingday weathersit  \\\n",
       "0      springer  2011     1   0      No        6      No work      Clear   \n",
       "1      springer  2011     1   1      No        6      No work      Clear   \n",
       "3      springer  2011     1   3      No        6      No work      Clear   \n",
       "4      springer  2011     1   4      No        6      No work      Clear   \n",
       "5      springer  2011     1   5      No        6      No work       Mist   \n",
       "...         ...   ...   ...  ..     ...      ...          ...        ...   \n",
       "17370  springer  2012    12  15      No        1  Working Day       Mist   \n",
       "17373  springer  2012    12  18      No        1  Working Day       Mist   \n",
       "17374  springer  2012    12  19      No        1  Working Day       Mist   \n",
       "17375  springer  2012    12  20      No        1  Working Day       Mist   \n",
       "17377  springer  2012    12  22      No        1  Working Day      Clear   \n",
       "\n",
       "       temp   atemp   hum  windspeed  casual  registered  cnt  \n",
       "0      0.24  0.2879  0.81     0.0000     3.0        13.0   16  \n",
       "1      0.22  0.2727  0.80     0.0000     8.0        32.0   40  \n",
       "3      0.24  0.2879  0.75     0.0000     3.0        10.0   13  \n",
       "4      0.24  0.2879  0.75     0.0000     0.0         1.0    1  \n",
       "5      0.24  0.2576  0.75     0.0896     0.0         1.0    1  \n",
       "...     ...     ...   ...        ...     ...         ...  ...  \n",
       "17370  0.28  0.2879  0.45     0.1343    69.0       246.0  315  \n",
       "17373  0.26  0.2727  0.48     0.1343    10.0       112.0  122  \n",
       "17374  0.26  0.2576  0.60     0.1642    11.0       108.0  119  \n",
       "17375  0.26  0.2576  0.60     0.1642     8.0        81.0   89  \n",
       "17377  0.26  0.2727  0.56     0.1343    13.0        48.0   61  \n",
       "\n",
       "[17339 rows x 15 columns]"
      ]
     },
     "execution_count": 22,
     "metadata": {},
     "output_type": "execute_result"
    }
   ],
   "source": [
    "bike_df1"
   ]
  },
  {
   "cell_type": "markdown",
   "id": "5fc75011",
   "metadata": {
    "id": "5fc75011"
   },
   "source": [
    "# Basic visualisations"
   ]
  },
  {
   "cell_type": "code",
   "execution_count": 23,
   "id": "dff0f8e0",
   "metadata": {
    "executionInfo": {
     "elapsed": 40,
     "status": "ok",
     "timestamp": 1683810373223,
     "user": {
      "displayName": "Rupak Mondal",
      "userId": "12139440766166473709"
     },
     "user_tz": -330
    },
    "id": "dff0f8e0"
   },
   "outputs": [
    {
     "data": {
      "image/png": "[encoded data removed]",
      "text/plain": [
       "<Figure size 432x288 with 1 Axes>"
      ]
     },
     "metadata": {
      "needs_background": "light"
     },
     "output_type": "display_data"
    }
   ],
   "source": [
    "# #season wise total bike rented\n",
    "plt.bar(bike_df1[\"season\"],bike_df1[\"cnt\"],)\n",
    "plt.title(\"Season wise total bike rented\")\n",
    "plt.ylabel(' Total rented bikes ')\n",
    "plt.xlabel('Seasons')\n",
    "plt.show()"
   ]
  },
  {
   "cell_type": "markdown",
   "id": "94e81885",
   "metadata": {
    "id": "94e81885"
   },
   "source": [
    "# Total bikes rented are more in fall seson, and next comes the winter and summer."
   ]
  },
  {
   "cell_type": "code",
   "execution_count": 24,
   "id": "d9e506c6",
   "metadata": {
    "executionInfo": {
     "elapsed": 40,
     "status": "ok",
     "timestamp": 1683810373223,
     "user": {
      "displayName": "Rupak Mondal",
      "userId": "12139440766166473709"
     },
     "user_tz": -330
    },
    "id": "d9e506c6"
   },
   "outputs": [
    {
     "data": {
      "image/png": "[encoded data removed]",
      "text/plain": [
       "<Figure size 432x288 with 1 Axes>"
      ]
     },
     "metadata": {
      "needs_background": "light"
     },
     "output_type": "display_data"
    }
   ],
   "source": [
    "##year wise bike rented\n",
    "plt.bar(bike_df1[\"yr\"],bike_df1[\"cnt\"],)\n",
    "plt.title(\"Year wise total bike rented\")\n",
    "plt.ylabel(' Total rented bikes ')\n",
    "plt.xlabel('Year')\n",
    "plt.show()"
   ]
  },
  {
   "cell_type": "markdown",
   "id": "b0044f06",
   "metadata": {
    "id": "b0044f06"
   },
   "source": [
    "# Total bikes rented are more in Year 2012."
   ]
  },
  {
   "cell_type": "code",
   "execution_count": 25,
   "id": "a6106dff",
   "metadata": {
    "executionInfo": {
     "elapsed": 40,
     "status": "ok",
     "timestamp": 1683810373223,
     "user": {
      "displayName": "Rupak Mondal",
      "userId": "12139440766166473709"
     },
     "user_tz": -330
    },
    "id": "a6106dff"
   },
   "outputs": [
    {
     "data": {
      "image/png": "[encoded data removed]",
      "text/plain": [
       "<Figure size 432x288 with 1 Axes>"
      ]
     },
     "metadata": {
      "needs_background": "light"
     },
     "output_type": "display_data"
    }
   ],
   "source": [
    "#Total bikes rented in month wise\n",
    "plt.bar(bike_df1[\"mnth\"],bike_df1[\"cnt\"],)\n",
    "plt.title(\"Month wise total bike rented\")\n",
    "plt.ylabel(' Total rented bikes ')\n",
    "plt.xlabel('months')\n",
    "plt.show()"
   ]
  },
  {
   "cell_type": "markdown",
   "id": "4007314e",
   "metadata": {
    "id": "4007314e"
   },
   "source": [
    "# Bikes rented are at maximum in the month of March [3rd month] . and then comes the September, october and August."
   ]
  },
  {
   "cell_type": "code",
   "execution_count": 26,
   "id": "2d0b406d",
   "metadata": {
    "executionInfo": {
     "elapsed": 39,
     "status": "ok",
     "timestamp": 1683810373223,
     "user": {
      "displayName": "Rupak Mondal",
      "userId": "12139440766166473709"
     },
     "user_tz": -330
    },
    "id": "2d0b406d"
   },
   "outputs": [
    {
     "data": {
      "image/png": "[encoded data removed]",
      "text/plain": [
       "<Figure size 432x288 with 1 Axes>"
      ]
     },
     "metadata": {
      "needs_background": "light"
     },
     "output_type": "display_data"
    }
   ],
   "source": [
    "##total bikes rented with respected to holidays\n",
    "plt.bar(bike_df1[\"holiday\"],bike_df1[\"cnt\"],)\n",
    "plt.title(\"Month wise total bike rented\")\n",
    "plt.ylabel(' Total rented bikes ')\n",
    "plt.xlabel('holidays')\n",
    "plt.show()"
   ]
  },
  {
   "cell_type": "markdown",
   "id": "089b8709",
   "metadata": {
    "id": "089b8709"
   },
   "source": [
    "# Bikes rented are maximum on non-holiday days. "
   ]
  },
  {
   "cell_type": "code",
   "execution_count": 27,
   "id": "b3abe743",
   "metadata": {
    "executionInfo": {
     "elapsed": 39,
     "status": "ok",
     "timestamp": 1683810373223,
     "user": {
      "displayName": "Rupak Mondal",
      "userId": "12139440766166473709"
     },
     "user_tz": -330
    },
    "id": "b3abe743"
   },
   "outputs": [
    {
     "data": {
      "image/png": "[encoded data removed]",
      "text/plain": [
       "<Figure size 432x288 with 1 Axes>"
      ]
     },
     "metadata": {
      "needs_background": "light"
     },
     "output_type": "display_data"
    }
   ],
   "source": [
    "# #total bikes rented with respected to weekdays\n",
    "plt.bar(bike_df1[\"weekday\"],bike_df1[\"cnt\"],)\n",
    "plt.title(\"Month wise total bike rented\")\n",
    "plt.ylabel(' Total rented bikes ')\n",
    "plt.xlabel('Weekdays')\n",
    "plt.show()"
   ]
  },
  {
   "cell_type": "markdown",
   "id": "c36d217f",
   "metadata": {
    "id": "c36d217f"
   },
   "source": [
    "# The bike rent was maximum on weekdays."
   ]
  },
  {
   "cell_type": "code",
   "execution_count": 28,
   "id": "e285160d",
   "metadata": {
    "executionInfo": {
     "elapsed": 39,
     "status": "ok",
     "timestamp": 1683810373223,
     "user": {
      "displayName": "Rupak Mondal",
      "userId": "12139440766166473709"
     },
     "user_tz": -330
    },
    "id": "e285160d"
   },
   "outputs": [
    {
     "data": {
      "image/png": "[encoded data removed]",
      "text/plain": [
       "<Figure size 432x288 with 1 Axes>"
      ]
     },
     "metadata": {
      "needs_background": "light"
     },
     "output_type": "display_data"
    }
   ],
   "source": [
    "# #total bikes rented with respected to weather situations\n",
    "plt.bar(bike_df1[\"weathersit\"],bike_df1[\"cnt\"],)\n",
    "plt.title(\"Month wise total bike rented\")\n",
    "plt.ylabel(' Total rented bikes ')\n",
    "plt.xlabel('weather situations')\n",
    "plt.show()"
   ]
  },
  {
   "cell_type": "markdown",
   "id": "98240f67",
   "metadata": {
    "id": "98240f67"
   },
   "source": [
    "# The bike renting was at peak in Clear weather situations."
   ]
  },
  {
   "cell_type": "code",
   "execution_count": 29,
   "id": "7eadf5d2",
   "metadata": {
    "colab": {
     "base_uri": "https://localhost:8080/"
    },
    "executionInfo": {
     "elapsed": 39,
     "status": "ok",
     "timestamp": 1683810373223,
     "user": {
      "displayName": "Rupak Mondal",
      "userId": "12139440766166473709"
     },
     "user_tz": -330
    },
    "id": "7eadf5d2",
    "outputId": "5988b49d-d532-4578-de13-a2d4c0be5309"
   },
   "outputs": [
    {
     "name": "stdout",
     "output_type": "stream",
     "text": [
      "[2670313.0, 619473.0]\n"
     ]
    }
   ],
   "source": [
    "# total of registered and unregistered(casual) users\n",
    "Registered=bike_df1['registered'].sum()\n",
    "Unregistered_casual=bike_df1['casual'].sum()\n",
    "graph=[Registered,Unregistered_casual]\n",
    "print(graph)"
   ]
  },
  {
   "cell_type": "code",
   "execution_count": 30,
   "id": "64a0644e",
   "metadata": {
    "executionInfo": {
     "elapsed": 37,
     "status": "ok",
     "timestamp": 1683810373224,
     "user": {
      "displayName": "Rupak Mondal",
      "userId": "12139440766166473709"
     },
     "user_tz": -330
    },
    "id": "64a0644e"
   },
   "outputs": [
    {
     "data": {
      "image/png": "[encoded data removed]",
      "text/plain": [
       "<Figure size 432x432 with 1 Axes>"
      ]
     },
     "metadata": {},
     "output_type": "display_data"
    }
   ],
   "source": [
    "plt.figure(figsize=(6,6))\n",
    "plt.pie(graph,labels = [\"Registered\", \"Unregistered_casual\"],autopct ='%1.1f%%')\n",
    "plt.show()"
   ]
  },
  {
   "cell_type": "markdown",
   "id": "3dd4b422",
   "metadata": {
    "id": "3dd4b422"
   },
   "source": [
    "# From the pie chart, it is clearly evident that there are 2670313.0 (81.2%) Registered users and 619473.0(18.8%) Unregistered or casual users."
   ]
  },
  {
   "cell_type": "code",
   "execution_count": 31,
   "id": "6dcc0237",
   "metadata": {
    "executionInfo": {
     "elapsed": 36,
     "status": "ok",
     "timestamp": 1683810373224,
     "user": {
      "displayName": "Rupak Mondal",
      "userId": "12139440766166473709"
     },
     "user_tz": -330
    },
    "id": "6dcc0237"
   },
   "outputs": [
    {
     "data": {
      "image/png": "[encoded data removed]",
      "text/plain": [
       "<Figure size 864x432 with 1 Axes>"
      ]
     },
     "metadata": {
      "needs_background": "light"
     },
     "output_type": "display_data"
    }
   ],
   "source": [
    "# #hour wise total bike rented\n",
    "plt.figure(figsize=(12,6))\n",
    "plt.bar(bike_df1[\"hr\"],bike_df1[\"cnt\"])\n",
    "plt.title(\"Hour wise total bike rented\")\n",
    "plt.ylabel(' Total rented bikes every hour ')\n",
    "plt.xlabel('Hours')\n",
    "plt.show()"
   ]
  },
  {
   "cell_type": "markdown",
   "id": "8e4e53ce",
   "metadata": {
    "id": "8e4e53ce"
   },
   "source": [
    "# Maximum bikes were rented between 11th to 21st hour and it is at peak in 17th(5PM), 18th(6PM) and 8th(8AM) hour of the day."
   ]
  },
  {
   "cell_type": "code",
   "execution_count": 32,
   "id": "b5a64db4",
   "metadata": {
    "colab": {
     "base_uri": "https://localhost:8080/",
     "height": 811
    },
    "executionInfo": {
     "elapsed": 2327,
     "status": "ok",
     "timestamp": 1683810375515,
     "user": {
      "displayName": "Rupak Mondal",
      "userId": "12139440766166473709"
     },
     "user_tz": -330
    },
    "id": "b5a64db4",
    "outputId": "708ff85b-64f5-465a-c4bd-24b03290b919",
    "scrolled": true
   },
   "outputs": [
    {
     "data": {
      "text/plain": [
       "<AxesSubplot:>"
      ]
     },
     "execution_count": 32,
     "metadata": {},
     "output_type": "execute_result"
    },
    {
     "data": {
      "image/png": "[encoded data removed]",
      "text/plain": [
       "<Figure size 864x864 with 2 Axes>"
      ]
     },
     "metadata": {
      "needs_background": "light"
     },
     "output_type": "display_data"
    }
   ],
   "source": [
    "#checking for the correlation between the columns\n",
    "plt.figure(figsize=(12,12))\n",
    "corr=bike_df1.corr()\n",
    "sns.heatmap(corr,annot = True, cmap='Blues')"
   ]
  },
  {
   "cell_type": "markdown",
   "id": "b9f436d2",
   "metadata": {
    "id": "b9f436d2"
   },
   "source": [
    "1. Registered column and Cnt column are highly corelated (0.97) and therefore any one can be dropped.\n",
    "2. Temp column and Atemp column are also highly cocrelated(0.99) and therefore any one can be dropped.\n",
    "3. Cnt column are also strongly  corelated  with casual column (0.69).\n",
    "4. Cnt column is negatively corelated with hum column(-0.32) and holiday column(-0.03).\n",
    "5. Temp and Atemp are positively coreated with cnt column (0.4) "
   ]
  },
  {
   "cell_type": "code",
   "execution_count": 33,
   "id": "a666c0ba",
   "metadata": {
    "executionInfo": {
     "elapsed": 56,
     "status": "ok",
     "timestamp": 1683810375516,
     "user": {
      "displayName": "Rupak Mondal",
      "userId": "12139440766166473709"
     },
     "user_tz": -330
    },
    "id": "a666c0ba"
   },
   "outputs": [],
   "source": [
    "bike_df1.drop(['registered', 'atemp', 'yr'], axis=1, inplace=True)"
   ]
  },
  {
   "cell_type": "code",
   "execution_count": 34,
   "id": "db5e80d5",
   "metadata": {
    "colab": {
     "base_uri": "https://localhost:8080/"
    },
    "executionInfo": {
     "elapsed": 56,
     "status": "ok",
     "timestamp": 1683810375516,
     "user": {
      "displayName": "Rupak Mondal",
      "userId": "12139440766166473709"
     },
     "user_tz": -330
    },
    "id": "db5e80d5",
    "outputId": "73297b2d-4bb7-4afd-f407-93fa2734359f",
    "scrolled": true
   },
   "outputs": [
    {
     "data": {
      "text/plain": [
       "Index(['season', 'mnth', 'hr', 'holiday', 'weekday', 'workingday',\n",
       "       'weathersit', 'temp', 'hum', 'windspeed', 'casual', 'cnt'],\n",
       "      dtype='object')"
      ]
     },
     "execution_count": 34,
     "metadata": {},
     "output_type": "execute_result"
    }
   ],
   "source": [
    "bike_df1.columns"
   ]
  },
  {
   "cell_type": "code",
   "execution_count": 35,
   "id": "dbdc775e",
   "metadata": {
    "colab": {
     "base_uri": "https://localhost:8080/"
    },
    "executionInfo": {
     "elapsed": 52,
     "status": "ok",
     "timestamp": 1683810375517,
     "user": {
      "displayName": "Rupak Mondal",
      "userId": "12139440766166473709"
     },
     "user_tz": -330
    },
    "id": "dbdc775e",
    "outputId": "ddebd512-dd62-4130-da75-aacb0e76ae3f"
   },
   "outputs": [
    {
     "data": {
      "text/plain": [
       "(17339, 12)"
      ]
     },
     "execution_count": 35,
     "metadata": {},
     "output_type": "execute_result"
    }
   ],
   "source": [
    "bike_df1.shape"
   ]
  },
  {
   "cell_type": "markdown",
   "id": "804c74ef",
   "metadata": {
    "id": "804c74ef"
   },
   "source": [
    "# Finding and handeling the outliers"
   ]
  },
  {
   "cell_type": "code",
   "execution_count": 36,
   "id": "efc81a0e",
   "metadata": {
    "colab": {
     "base_uri": "https://localhost:8080/",
     "height": 389
    },
    "executionInfo": {
     "elapsed": 50,
     "status": "ok",
     "timestamp": 1683810375518,
     "user": {
      "displayName": "Rupak Mondal",
      "userId": "12139440766166473709"
     },
     "user_tz": -330
    },
    "id": "efc81a0e",
    "outputId": "251c63ca-bd60-4b63-cd9c-8386887be406"
   },
   "outputs": [
    {
     "data": {
      "image/png": "[encoded data removed]",
      "text/plain": [
       "<Figure size 576x288 with 1 Axes>"
      ]
     },
     "metadata": {
      "needs_background": "light"
     },
     "output_type": "display_data"
    }
   ],
   "source": [
    "# boxplot of temp column\n",
    "plt.figure(figsize=(8,4))\n",
    "sns.boxplot(bike_df1['temp'])\n",
    "plt.title(\"Boxplot of Temp column\")\n",
    "plt.show()"
   ]
  },
  {
   "cell_type": "markdown",
   "id": "d1cb7a7b",
   "metadata": {
    "id": "d1cb7a7b"
   },
   "source": [
    "No outliers found in Temp column"
   ]
  },
  {
   "cell_type": "code",
   "execution_count": 37,
   "id": "4ba96d96",
   "metadata": {
    "colab": {
     "base_uri": "https://localhost:8080/",
     "height": 389
    },
    "executionInfo": {
     "elapsed": 48,
     "status": "ok",
     "timestamp": 1683810375518,
     "user": {
      "displayName": "Rupak Mondal",
      "userId": "12139440766166473709"
     },
     "user_tz": -330
    },
    "id": "4ba96d96",
    "outputId": "5cf989e2-9370-4c8a-8479-e7a518e8e6a8"
   },
   "outputs": [
    {
     "data": {
      "image/png": "[encoded data removed]",
      "text/plain": [
       "<Figure size 576x288 with 1 Axes>"
      ]
     },
     "metadata": {
      "needs_background": "light"
     },
     "output_type": "display_data"
    }
   ],
   "source": [
    "# boxplot of hum column\n",
    "plt.figure(figsize=(8,4))\n",
    "sns.boxplot(bike_df1['hum'])\n",
    "plt.title(\"Boxplot of hum column\")\n",
    "plt.show()"
   ]
  },
  {
   "cell_type": "markdown",
   "id": "a0406185",
   "metadata": {
    "id": "a0406185"
   },
   "source": [
    "Only one outlier is found in hum column and can be neglected or can be found and deleted. since it is neglegible, we hvae ignored it"
   ]
  },
  {
   "cell_type": "code",
   "execution_count": 38,
   "id": "9fc17cf3",
   "metadata": {
    "colab": {
     "base_uri": "https://localhost:8080/",
     "height": 389
    },
    "executionInfo": {
     "elapsed": 48,
     "status": "ok",
     "timestamp": 1683810375519,
     "user": {
      "displayName": "Rupak Mondal",
      "userId": "12139440766166473709"
     },
     "user_tz": -330
    },
    "id": "9fc17cf3",
    "outputId": "06526d69-181a-4363-926d-e91444547c51"
   },
   "outputs": [
    {
     "data": {
      "image/png": "[encoded data removed]",
      "text/plain": [
       "<Figure size 576x288 with 1 Axes>"
      ]
     },
     "metadata": {
      "needs_background": "light"
     },
     "output_type": "display_data"
    }
   ],
   "source": [
    "# boxplot of windspeed column\n",
    "plt.figure(figsize=(8,4))\n",
    "sns.boxplot(bike_df1['windspeed'])\n",
    "plt.title(\"Boxplot of windspeed column\")\n",
    "plt.show()"
   ]
  },
  {
   "cell_type": "markdown",
   "id": "b3d8019a",
   "metadata": {
    "id": "b3d8019a"
   },
   "source": [
    "13 outliers are found in Windspeed column and can be neglected or can be found and deleted. since it is neglegible, we hvae ignored it"
   ]
  },
  {
   "cell_type": "code",
   "execution_count": 39,
   "id": "cb15da83",
   "metadata": {
    "colab": {
     "base_uri": "https://localhost:8080/",
     "height": 951
    },
    "executionInfo": {
     "elapsed": 48,
     "status": "ok",
     "timestamp": 1683810375520,
     "user": {
      "displayName": "Rupak Mondal",
      "userId": "12139440766166473709"
     },
     "user_tz": -330
    },
    "id": "cb15da83",
    "outputId": "c8434d7e-6bdb-403f-a109-9c2fb4ce465b"
   },
   "outputs": [
    {
     "data": {
      "image/png": "[encoded data removed]",
      "text/plain": [
       "<Figure size 432x288 with 1 Axes>"
      ]
     },
     "metadata": {
      "needs_background": "light"
     },
     "output_type": "display_data"
    },
    {
     "data": {
      "image/png": "[encoded data removed]",
      "text/plain": [
       "<Figure size 432x288 with 1 Axes>"
      ]
     },
     "metadata": {
      "needs_background": "light"
     },
     "output_type": "display_data"
    }
   ],
   "source": [
    "numerical_vars= ['casual', 'cnt']\n",
    "for col in numerical_vars:\n",
    "    sns.boxplot(bike_df1[col])\n",
    "    plt.show()"
   ]
  },
  {
   "cell_type": "markdown",
   "id": "7efb3cc8",
   "metadata": {
    "id": "7efb3cc8"
   },
   "source": [
    "Treating the outliers using Winsorizing method This process involves replacing the extreme values with the next highest or lowest value within a specified range."
   ]
  },
  {
   "cell_type": "code",
   "execution_count": 40,
   "id": "bc7832e5",
   "metadata": {
    "executionInfo": {
     "elapsed": 48,
     "status": "ok",
     "timestamp": 1683810375521,
     "user": {
      "displayName": "Rupak Mondal",
      "userId": "12139440766166473709"
     },
     "user_tz": -330
    },
    "id": "bc7832e5"
   },
   "outputs": [],
   "source": [
    "from scipy.stats.mstats import winsorize\n",
    "\n",
    "list_attributes = ['casual', 'cnt']\n",
    "\n",
    "for attribute in list_attributes:\n",
    "    q1 = bike_df1[attribute].quantile(0.25)\n",
    "    q3 = bike_df1[attribute].quantile(0.75)\n",
    "    iqr = q3 - q1\n",
    "    lower = q1 - 1.5*iqr\n",
    "    upper = q3 + 1.5*iqr\n",
    "    bike_df1[attribute] = winsorize(bike_df1[attribute], limits=(0.05, 0.05))"
   ]
  },
  {
   "cell_type": "markdown",
   "id": "60a31ce2",
   "metadata": {
    "id": "60a31ce2"
   },
   "source": [
    "This code loops through the list of attributes and for each attribute, it calculates the IQR and the upper and lower bounds for outliers."
   ]
  },
  {
   "cell_type": "markdown",
   "id": "acaabb5e",
   "metadata": {
    "id": "acaabb5e"
   },
   "source": [
    "It then uses the winsorize function from scipy.stats.mstats to winsorize the data for that attribute with a limit of 5% on each side."
   ]
  },
  {
   "cell_type": "markdown",
   "id": "fb0d70b8",
   "metadata": {
    "id": "fb0d70b8"
   },
   "source": [
    "# Feature selection"
   ]
  },
  {
   "cell_type": "markdown",
   "id": "ecf14e9d",
   "metadata": {
    "id": "ecf14e9d"
   },
   "source": [
    "# 1. Feature selection using \"correlation\""
   ]
  },
  {
   "cell_type": "code",
   "execution_count": 41,
   "id": "f3c50ffe",
   "metadata": {
    "colab": {
     "base_uri": "https://localhost:8080/",
     "height": 344
    },
    "executionInfo": {
     "elapsed": 47,
     "status": "ok",
     "timestamp": 1683810375521,
     "user": {
      "displayName": "Rupak Mondal",
      "userId": "12139440766166473709"
     },
     "user_tz": -330
    },
    "id": "f3c50ffe",
    "outputId": "485774aa-83ca-4d56-893f-d9efd082f09e"
   },
   "outputs": [
    {
     "data": {
      "text/html": [
       "<div>\n",
       "<style scoped>\n",
       "    .dataframe tbody tr th:only-of-type {\n",
       "        vertical-align: middle;\n",
       "    }\n",
       "\n",
       "    .dataframe tbody tr th {\n",
       "        vertical-align: top;\n",
       "    }\n",
       "\n",
       "    .dataframe thead th {\n",
       "        text-align: right;\n",
       "    }\n",
       "</style>\n",
       "<table border=\"1\" class=\"dataframe\">\n",
       "  <thead>\n",
       "    <tr style=\"text-align: right;\">\n",
       "      <th></th>\n",
       "      <th>mnth</th>\n",
       "      <th>hr</th>\n",
       "      <th>weekday</th>\n",
       "      <th>temp</th>\n",
       "      <th>hum</th>\n",
       "      <th>windspeed</th>\n",
       "      <th>casual</th>\n",
       "      <th>cnt</th>\n",
       "    </tr>\n",
       "  </thead>\n",
       "  <tbody>\n",
       "    <tr>\n",
       "      <th>mnth</th>\n",
       "      <td>1.000000</td>\n",
       "      <td>-0.006027</td>\n",
       "      <td>0.011873</td>\n",
       "      <td>0.203789</td>\n",
       "      <td>0.164705</td>\n",
       "      <td>-0.136210</td>\n",
       "      <td>0.083533</td>\n",
       "      <td>0.123150</td>\n",
       "    </tr>\n",
       "    <tr>\n",
       "      <th>hr</th>\n",
       "      <td>-0.006027</td>\n",
       "      <td>1.000000</td>\n",
       "      <td>-0.003263</td>\n",
       "      <td>0.138133</td>\n",
       "      <td>-0.276567</td>\n",
       "      <td>0.136776</td>\n",
       "      <td>0.352937</td>\n",
       "      <td>0.415292</td>\n",
       "    </tr>\n",
       "    <tr>\n",
       "      <th>weekday</th>\n",
       "      <td>0.011873</td>\n",
       "      <td>-0.003263</td>\n",
       "      <td>1.000000</td>\n",
       "      <td>-0.002482</td>\n",
       "      <td>-0.037595</td>\n",
       "      <td>0.011040</td>\n",
       "      <td>0.022973</td>\n",
       "      <td>0.027550</td>\n",
       "    </tr>\n",
       "    <tr>\n",
       "      <th>temp</th>\n",
       "      <td>0.203789</td>\n",
       "      <td>0.138133</td>\n",
       "      <td>-0.002482</td>\n",
       "      <td>1.000000</td>\n",
       "      <td>-0.069647</td>\n",
       "      <td>-0.023301</td>\n",
       "      <td>0.517331</td>\n",
       "      <td>0.415268</td>\n",
       "    </tr>\n",
       "    <tr>\n",
       "      <th>hum</th>\n",
       "      <td>0.164705</td>\n",
       "      <td>-0.276567</td>\n",
       "      <td>-0.037595</td>\n",
       "      <td>-0.069647</td>\n",
       "      <td>1.000000</td>\n",
       "      <td>-0.289933</td>\n",
       "      <td>-0.374710</td>\n",
       "      <td>-0.333733</td>\n",
       "    </tr>\n",
       "    <tr>\n",
       "      <th>windspeed</th>\n",
       "      <td>-0.136210</td>\n",
       "      <td>0.136776</td>\n",
       "      <td>0.011040</td>\n",
       "      <td>-0.023301</td>\n",
       "      <td>-0.289933</td>\n",
       "      <td>1.000000</td>\n",
       "      <td>0.096378</td>\n",
       "      <td>0.097876</td>\n",
       "    </tr>\n",
       "    <tr>\n",
       "      <th>casual</th>\n",
       "      <td>0.083533</td>\n",
       "      <td>0.352937</td>\n",
       "      <td>0.022973</td>\n",
       "      <td>0.517331</td>\n",
       "      <td>-0.374710</td>\n",
       "      <td>0.096378</td>\n",
       "      <td>1.000000</td>\n",
       "      <td>0.748859</td>\n",
       "    </tr>\n",
       "    <tr>\n",
       "      <th>cnt</th>\n",
       "      <td>0.123150</td>\n",
       "      <td>0.415292</td>\n",
       "      <td>0.027550</td>\n",
       "      <td>0.415268</td>\n",
       "      <td>-0.333733</td>\n",
       "      <td>0.097876</td>\n",
       "      <td>0.748859</td>\n",
       "      <td>1.000000</td>\n",
       "    </tr>\n",
       "  </tbody>\n",
       "</table>\n",
       "</div>"
      ],
      "text/plain": [
       "               mnth        hr   weekday      temp       hum  windspeed  \\\n",
       "mnth       1.000000 -0.006027  0.011873  0.203789  0.164705  -0.136210   \n",
       "hr        -0.006027  1.000000 -0.003263  0.138133 -0.276567   0.136776   \n",
       "weekday    0.011873 -0.003263  1.000000 -0.002482 -0.037595   0.011040   \n",
       "temp       0.203789  0.138133 -0.002482  1.000000 -0.069647  -0.023301   \n",
       "hum        0.164705 -0.276567 -0.037595 -0.069647  1.000000  -0.289933   \n",
       "windspeed -0.136210  0.136776  0.011040 -0.023301 -0.289933   1.000000   \n",
       "casual     0.083533  0.352937  0.022973  0.517331 -0.374710   0.096378   \n",
       "cnt        0.123150  0.415292  0.027550  0.415268 -0.333733   0.097876   \n",
       "\n",
       "             casual       cnt  \n",
       "mnth       0.083533  0.123150  \n",
       "hr         0.352937  0.415292  \n",
       "weekday    0.022973  0.027550  \n",
       "temp       0.517331  0.415268  \n",
       "hum       -0.374710 -0.333733  \n",
       "windspeed  0.096378  0.097876  \n",
       "casual     1.000000  0.748859  \n",
       "cnt        0.748859  1.000000  "
      ]
     },
     "execution_count": 41,
     "metadata": {},
     "output_type": "execute_result"
    }
   ],
   "source": [
    "bike_df1.corr()"
   ]
  },
  {
   "cell_type": "code",
   "execution_count": 42,
   "id": "f6449aac",
   "metadata": {
    "colab": {
     "base_uri": "https://localhost:8080/",
     "height": 787
    },
    "executionInfo": {
     "elapsed": 48,
     "status": "ok",
     "timestamp": 1683810375522,
     "user": {
      "displayName": "Rupak Mondal",
      "userId": "12139440766166473709"
     },
     "user_tz": -330
    },
    "id": "f6449aac",
    "outputId": "2315f887-e811-48ea-fc17-0695a0bcb8e7",
    "scrolled": true
   },
   "outputs": [
    {
     "data": {
      "image/png": "[encoded data removed]",
      "text/plain": [
       "<Figure size 720x720 with 2 Axes>"
      ]
     },
     "metadata": {
      "needs_background": "light"
     },
     "output_type": "display_data"
    }
   ],
   "source": [
    "#Using Pearson Correlation\n",
    "plt.figure(figsize=(10,10))\n",
    "cor = bike_df1.corr()\n",
    "sns.heatmap(cor, annot=True, cmap=plt.cm.CMRmap_r)\n",
    "plt.show()"
   ]
  },
  {
   "cell_type": "code",
   "execution_count": 43,
   "id": "4cf8c53c",
   "metadata": {
    "executionInfo": {
     "elapsed": 2055,
     "status": "ok",
     "timestamp": 1683810377531,
     "user": {
      "displayName": "Rupak Mondal",
      "userId": "12139440766166473709"
     },
     "user_tz": -330
    },
    "id": "4cf8c53c"
   },
   "outputs": [],
   "source": [
    "# with the following function we can select highly correlated features\n",
    "# it will remove the first feature that is correlated with any other feature\n",
    "\n",
    "def correlation(dataset, threshold):\n",
    "    col_corr = set()  # Set of all the names of correlated columns\n",
    "    corr_matrix = dataset.corr()\n",
    "    for i in range(len(corr_matrix.columns)):\n",
    "        for j in range(i):\n",
    "            if abs(corr_matrix.iloc[i, j]) > threshold: # we are interested in absolute coeff value\n",
    "                colname = corr_matrix.columns[i]  # getting the name of column\n",
    "                col_corr.add(colname)\n",
    "    return col_corr"
   ]
  },
  {
   "cell_type": "code",
   "execution_count": 44,
   "id": "50ad19e9",
   "metadata": {
    "colab": {
     "base_uri": "https://localhost:8080/"
    },
    "executionInfo": {
     "elapsed": 50,
     "status": "ok",
     "timestamp": 1683810377532,
     "user": {
      "displayName": "Rupak Mondal",
      "userId": "12139440766166473709"
     },
     "user_tz": -330
    },
    "id": "50ad19e9",
    "outputId": "93af772c-4209-4248-e7c4-2e6a647e1a16"
   },
   "outputs": [
    {
     "data": {
      "text/plain": [
       "0"
      ]
     },
     "execution_count": 44,
     "metadata": {},
     "output_type": "execute_result"
    }
   ],
   "source": [
    "corr_features = correlation(bike_df1, 0.9)\n",
    "len(set(corr_features))"
   ]
  },
  {
   "cell_type": "code",
   "execution_count": 45,
   "id": "e716b13e",
   "metadata": {
    "colab": {
     "base_uri": "https://localhost:8080/"
    },
    "executionInfo": {
     "elapsed": 48,
     "status": "ok",
     "timestamp": 1683810377533,
     "user": {
      "displayName": "Rupak Mondal",
      "userId": "12139440766166473709"
     },
     "user_tz": -330
    },
    "id": "e716b13e",
    "outputId": "52ddbcf0-c7c9-4249-d236-247598a70425"
   },
   "outputs": [
    {
     "data": {
      "text/plain": [
       "set()"
      ]
     },
     "execution_count": 45,
     "metadata": {},
     "output_type": "execute_result"
    }
   ],
   "source": [
    "corr_features"
   ]
  },
  {
   "cell_type": "markdown",
   "id": "e5ccded8",
   "metadata": {
    "id": "e5ccded8"
   },
   "source": [
    "# CORRELATION - There are no columns which are corelated to each other. i,e; All the columns are unique and important."
   ]
  },
  {
   "cell_type": "markdown",
   "id": "b406cead",
   "metadata": {
    "id": "b406cead"
   },
   "source": [
    "### Chi2 test requires all the variables to be numeric and thus, performing one hot encoding"
   ]
  },
  {
   "cell_type": "markdown",
   "id": "0ea81a50",
   "metadata": {
    "id": "0ea81a50"
   },
   "source": [
    "# Encoding the categorical variables - One hot encoding"
   ]
  },
  {
   "cell_type": "code",
   "execution_count": 46,
   "id": "aa333e54",
   "metadata": {
    "colab": {
     "base_uri": "https://localhost:8080/",
     "height": 505
    },
    "executionInfo": {
     "elapsed": 44,
     "status": "ok",
     "timestamp": 1683810377534,
     "user": {
      "displayName": "Rupak Mondal",
      "userId": "12139440766166473709"
     },
     "user_tz": -330
    },
    "id": "aa333e54",
    "outputId": "8ec2be1f-516f-40e5-a820-05c23601550e"
   },
   "outputs": [
    {
     "data": {
      "text/html": [
       "<div>\n",
       "<style scoped>\n",
       "    .dataframe tbody tr th:only-of-type {\n",
       "        vertical-align: middle;\n",
       "    }\n",
       "\n",
       "    .dataframe tbody tr th {\n",
       "        vertical-align: top;\n",
       "    }\n",
       "\n",
       "    .dataframe thead th {\n",
       "        text-align: right;\n",
       "    }\n",
       "</style>\n",
       "<table border=\"1\" class=\"dataframe\">\n",
       "  <thead>\n",
       "    <tr style=\"text-align: right;\">\n",
       "      <th></th>\n",
       "      <th>mnth</th>\n",
       "      <th>hr</th>\n",
       "      <th>weekday</th>\n",
       "      <th>temp</th>\n",
       "      <th>hum</th>\n",
       "      <th>windspeed</th>\n",
       "      <th>casual</th>\n",
       "      <th>cnt</th>\n",
       "      <th>season_fall</th>\n",
       "      <th>season_springer</th>\n",
       "      <th>season_summer</th>\n",
       "      <th>season_winter</th>\n",
       "      <th>holiday_No</th>\n",
       "      <th>holiday_Yes</th>\n",
       "      <th>workingday_No work</th>\n",
       "      <th>workingday_Working Day</th>\n",
       "      <th>weathersit_Clear</th>\n",
       "      <th>weathersit_Heavy Rain</th>\n",
       "      <th>weathersit_Light Snow</th>\n",
       "      <th>weathersit_Mist</th>\n",
       "    </tr>\n",
       "  </thead>\n",
       "  <tbody>\n",
       "    <tr>\n",
       "      <th>0</th>\n",
       "      <td>1</td>\n",
       "      <td>0</td>\n",
       "      <td>6</td>\n",
       "      <td>0.24</td>\n",
       "      <td>0.81</td>\n",
       "      <td>0.0000</td>\n",
       "      <td>3.0</td>\n",
       "      <td>16</td>\n",
       "      <td>0</td>\n",
       "      <td>1</td>\n",
       "      <td>0</td>\n",
       "      <td>0</td>\n",
       "      <td>1</td>\n",
       "      <td>0</td>\n",
       "      <td>1</td>\n",
       "      <td>0</td>\n",
       "      <td>1</td>\n",
       "      <td>0</td>\n",
       "      <td>0</td>\n",
       "      <td>0</td>\n",
       "    </tr>\n",
       "    <tr>\n",
       "      <th>1</th>\n",
       "      <td>1</td>\n",
       "      <td>1</td>\n",
       "      <td>6</td>\n",
       "      <td>0.22</td>\n",
       "      <td>0.80</td>\n",
       "      <td>0.0000</td>\n",
       "      <td>8.0</td>\n",
       "      <td>40</td>\n",
       "      <td>0</td>\n",
       "      <td>1</td>\n",
       "      <td>0</td>\n",
       "      <td>0</td>\n",
       "      <td>1</td>\n",
       "      <td>0</td>\n",
       "      <td>1</td>\n",
       "      <td>0</td>\n",
       "      <td>1</td>\n",
       "      <td>0</td>\n",
       "      <td>0</td>\n",
       "      <td>0</td>\n",
       "    </tr>\n",
       "    <tr>\n",
       "      <th>3</th>\n",
       "      <td>1</td>\n",
       "      <td>3</td>\n",
       "      <td>6</td>\n",
       "      <td>0.24</td>\n",
       "      <td>0.75</td>\n",
       "      <td>0.0000</td>\n",
       "      <td>3.0</td>\n",
       "      <td>13</td>\n",
       "      <td>0</td>\n",
       "      <td>1</td>\n",
       "      <td>0</td>\n",
       "      <td>0</td>\n",
       "      <td>1</td>\n",
       "      <td>0</td>\n",
       "      <td>1</td>\n",
       "      <td>0</td>\n",
       "      <td>1</td>\n",
       "      <td>0</td>\n",
       "      <td>0</td>\n",
       "      <td>0</td>\n",
       "    </tr>\n",
       "    <tr>\n",
       "      <th>4</th>\n",
       "      <td>1</td>\n",
       "      <td>4</td>\n",
       "      <td>6</td>\n",
       "      <td>0.24</td>\n",
       "      <td>0.75</td>\n",
       "      <td>0.0000</td>\n",
       "      <td>0.0</td>\n",
       "      <td>5</td>\n",
       "      <td>0</td>\n",
       "      <td>1</td>\n",
       "      <td>0</td>\n",
       "      <td>0</td>\n",
       "      <td>1</td>\n",
       "      <td>0</td>\n",
       "      <td>1</td>\n",
       "      <td>0</td>\n",
       "      <td>1</td>\n",
       "      <td>0</td>\n",
       "      <td>0</td>\n",
       "      <td>0</td>\n",
       "    </tr>\n",
       "    <tr>\n",
       "      <th>5</th>\n",
       "      <td>1</td>\n",
       "      <td>5</td>\n",
       "      <td>6</td>\n",
       "      <td>0.24</td>\n",
       "      <td>0.75</td>\n",
       "      <td>0.0896</td>\n",
       "      <td>0.0</td>\n",
       "      <td>5</td>\n",
       "      <td>0</td>\n",
       "      <td>1</td>\n",
       "      <td>0</td>\n",
       "      <td>0</td>\n",
       "      <td>1</td>\n",
       "      <td>0</td>\n",
       "      <td>1</td>\n",
       "      <td>0</td>\n",
       "      <td>0</td>\n",
       "      <td>0</td>\n",
       "      <td>0</td>\n",
       "      <td>1</td>\n",
       "    </tr>\n",
       "    <tr>\n",
       "      <th>...</th>\n",
       "      <td>...</td>\n",
       "      <td>...</td>\n",
       "      <td>...</td>\n",
       "      <td>...</td>\n",
       "      <td>...</td>\n",
       "      <td>...</td>\n",
       "      <td>...</td>\n",
       "      <td>...</td>\n",
       "      <td>...</td>\n",
       "      <td>...</td>\n",
       "      <td>...</td>\n",
       "      <td>...</td>\n",
       "      <td>...</td>\n",
       "      <td>...</td>\n",
       "      <td>...</td>\n",
       "      <td>...</td>\n",
       "      <td>...</td>\n",
       "      <td>...</td>\n",
       "      <td>...</td>\n",
       "      <td>...</td>\n",
       "    </tr>\n",
       "    <tr>\n",
       "      <th>17370</th>\n",
       "      <td>12</td>\n",
       "      <td>15</td>\n",
       "      <td>1</td>\n",
       "      <td>0.28</td>\n",
       "      <td>0.45</td>\n",
       "      <td>0.1343</td>\n",
       "      <td>69.0</td>\n",
       "      <td>315</td>\n",
       "      <td>0</td>\n",
       "      <td>1</td>\n",
       "      <td>0</td>\n",
       "      <td>0</td>\n",
       "      <td>1</td>\n",
       "      <td>0</td>\n",
       "      <td>0</td>\n",
       "      <td>1</td>\n",
       "      <td>0</td>\n",
       "      <td>0</td>\n",
       "      <td>0</td>\n",
       "      <td>1</td>\n",
       "    </tr>\n",
       "    <tr>\n",
       "      <th>17373</th>\n",
       "      <td>12</td>\n",
       "      <td>18</td>\n",
       "      <td>1</td>\n",
       "      <td>0.26</td>\n",
       "      <td>0.48</td>\n",
       "      <td>0.1343</td>\n",
       "      <td>10.0</td>\n",
       "      <td>122</td>\n",
       "      <td>0</td>\n",
       "      <td>1</td>\n",
       "      <td>0</td>\n",
       "      <td>0</td>\n",
       "      <td>1</td>\n",
       "      <td>0</td>\n",
       "      <td>0</td>\n",
       "      <td>1</td>\n",
       "      <td>0</td>\n",
       "      <td>0</td>\n",
       "      <td>0</td>\n",
       "      <td>1</td>\n",
       "    </tr>\n",
       "    <tr>\n",
       "      <th>17374</th>\n",
       "      <td>12</td>\n",
       "      <td>19</td>\n",
       "      <td>1</td>\n",
       "      <td>0.26</td>\n",
       "      <td>0.60</td>\n",
       "      <td>0.1642</td>\n",
       "      <td>11.0</td>\n",
       "      <td>119</td>\n",
       "      <td>0</td>\n",
       "      <td>1</td>\n",
       "      <td>0</td>\n",
       "      <td>0</td>\n",
       "      <td>1</td>\n",
       "      <td>0</td>\n",
       "      <td>0</td>\n",
       "      <td>1</td>\n",
       "      <td>0</td>\n",
       "      <td>0</td>\n",
       "      <td>0</td>\n",
       "      <td>1</td>\n",
       "    </tr>\n",
       "    <tr>\n",
       "      <th>17375</th>\n",
       "      <td>12</td>\n",
       "      <td>20</td>\n",
       "      <td>1</td>\n",
       "      <td>0.26</td>\n",
       "      <td>0.60</td>\n",
       "      <td>0.1642</td>\n",
       "      <td>8.0</td>\n",
       "      <td>89</td>\n",
       "      <td>0</td>\n",
       "      <td>1</td>\n",
       "      <td>0</td>\n",
       "      <td>0</td>\n",
       "      <td>1</td>\n",
       "      <td>0</td>\n",
       "      <td>0</td>\n",
       "      <td>1</td>\n",
       "      <td>0</td>\n",
       "      <td>0</td>\n",
       "      <td>0</td>\n",
       "      <td>1</td>\n",
       "    </tr>\n",
       "    <tr>\n",
       "      <th>17377</th>\n",
       "      <td>12</td>\n",
       "      <td>22</td>\n",
       "      <td>1</td>\n",
       "      <td>0.26</td>\n",
       "      <td>0.56</td>\n",
       "      <td>0.1343</td>\n",
       "      <td>13.0</td>\n",
       "      <td>61</td>\n",
       "      <td>0</td>\n",
       "      <td>1</td>\n",
       "      <td>0</td>\n",
       "      <td>0</td>\n",
       "      <td>1</td>\n",
       "      <td>0</td>\n",
       "      <td>0</td>\n",
       "      <td>1</td>\n",
       "      <td>1</td>\n",
       "      <td>0</td>\n",
       "      <td>0</td>\n",
       "      <td>0</td>\n",
       "    </tr>\n",
       "  </tbody>\n",
       "</table>\n",
       "<p>17339 rows × 20 columns</p>\n",
       "</div>"
      ],
      "text/plain": [
       "       mnth  hr  weekday  temp   hum  windspeed  casual  cnt  season_fall  \\\n",
       "0         1   0        6  0.24  0.81     0.0000     3.0   16            0   \n",
       "1         1   1        6  0.22  0.80     0.0000     8.0   40            0   \n",
       "3         1   3        6  0.24  0.75     0.0000     3.0   13            0   \n",
       "4         1   4        6  0.24  0.75     0.0000     0.0    5            0   \n",
       "5         1   5        6  0.24  0.75     0.0896     0.0    5            0   \n",
       "...     ...  ..      ...   ...   ...        ...     ...  ...          ...   \n",
       "17370    12  15        1  0.28  0.45     0.1343    69.0  315            0   \n",
       "17373    12  18        1  0.26  0.48     0.1343    10.0  122            0   \n",
       "17374    12  19        1  0.26  0.60     0.1642    11.0  119            0   \n",
       "17375    12  20        1  0.26  0.60     0.1642     8.0   89            0   \n",
       "17377    12  22        1  0.26  0.56     0.1343    13.0   61            0   \n",
       "\n",
       "       season_springer  season_summer  season_winter  holiday_No  holiday_Yes  \\\n",
       "0                    1              0              0           1            0   \n",
       "1                    1              0              0           1            0   \n",
       "3                    1              0              0           1            0   \n",
       "4                    1              0              0           1            0   \n",
       "5                    1              0              0           1            0   \n",
       "...                ...            ...            ...         ...          ...   \n",
       "17370                1              0              0           1            0   \n",
       "17373                1              0              0           1            0   \n",
       "17374                1              0              0           1            0   \n",
       "17375                1              0              0           1            0   \n",
       "17377                1              0              0           1            0   \n",
       "\n",
       "       workingday_No work  workingday_Working Day  weathersit_Clear  \\\n",
       "0                       1                       0                 1   \n",
       "1                       1                       0                 1   \n",
       "3                       1                       0                 1   \n",
       "4                       1                       0                 1   \n",
       "5                       1                       0                 0   \n",
       "...                   ...                     ...               ...   \n",
       "17370                   0                       1                 0   \n",
       "17373                   0                       1                 0   \n",
       "17374                   0                       1                 0   \n",
       "17375                   0                       1                 0   \n",
       "17377                   0                       1                 1   \n",
       "\n",
       "       weathersit_Heavy Rain  weathersit_Light Snow  weathersit_Mist  \n",
       "0                          0                      0                0  \n",
       "1                          0                      0                0  \n",
       "3                          0                      0                0  \n",
       "4                          0                      0                0  \n",
       "5                          0                      0                1  \n",
       "...                      ...                    ...              ...  \n",
       "17370                      0                      0                1  \n",
       "17373                      0                      0                1  \n",
       "17374                      0                      0                1  \n",
       "17375                      0                      0                1  \n",
       "17377                      0                      0                0  \n",
       "\n",
       "[17339 rows x 20 columns]"
      ]
     },
     "execution_count": 46,
     "metadata": {},
     "output_type": "execute_result"
    }
   ],
   "source": [
    "cat_col = ['season', 'holiday', 'workingday', 'weathersit']\n",
    "bike_df2=pd.get_dummies(bike_df1, columns=cat_col)\n",
    "bike_df2"
   ]
  },
  {
   "cell_type": "code",
   "execution_count": 47,
   "id": "3b4534b3",
   "metadata": {
    "colab": {
     "base_uri": "https://localhost:8080/"
    },
    "executionInfo": {
     "elapsed": 43,
     "status": "ok",
     "timestamp": 1683810377534,
     "user": {
      "displayName": "Rupak Mondal",
      "userId": "12139440766166473709"
     },
     "user_tz": -330
    },
    "id": "3b4534b3",
    "outputId": "8a7e3d1f-0572-42a3-d046-233efd6827d6"
   },
   "outputs": [
    {
     "data": {
      "text/plain": [
       "Index(['mnth', 'hr', 'weekday', 'temp', 'hum', 'windspeed', 'casual', 'cnt',\n",
       "       'season_fall', 'season_springer', 'season_summer', 'season_winter',\n",
       "       'holiday_No', 'holiday_Yes', 'workingday_No work',\n",
       "       'workingday_Working Day', 'weathersit_Clear', 'weathersit_Heavy Rain',\n",
       "       'weathersit_Light Snow', 'weathersit_Mist'],\n",
       "      dtype='object')"
      ]
     },
     "execution_count": 47,
     "metadata": {},
     "output_type": "execute_result"
    }
   ],
   "source": [
    "bike_df2.columns"
   ]
  },
  {
   "cell_type": "code",
   "execution_count": 48,
   "id": "23ef8da6",
   "metadata": {
    "colab": {
     "base_uri": "https://localhost:8080/",
     "height": 287
    },
    "executionInfo": {
     "elapsed": 41,
     "status": "ok",
     "timestamp": 1683810377535,
     "user": {
      "displayName": "Rupak Mondal",
      "userId": "12139440766166473709"
     },
     "user_tz": -330
    },
    "id": "23ef8da6",
    "outputId": "5547a785-b2c1-4c92-a54d-c0ba4098a1ec"
   },
   "outputs": [
    {
     "data": {
      "text/html": [
       "<div>\n",
       "<style scoped>\n",
       "    .dataframe tbody tr th:only-of-type {\n",
       "        vertical-align: middle;\n",
       "    }\n",
       "\n",
       "    .dataframe tbody tr th {\n",
       "        vertical-align: top;\n",
       "    }\n",
       "\n",
       "    .dataframe thead th {\n",
       "        text-align: right;\n",
       "    }\n",
       "</style>\n",
       "<table border=\"1\" class=\"dataframe\">\n",
       "  <thead>\n",
       "    <tr style=\"text-align: right;\">\n",
       "      <th></th>\n",
       "      <th>mnth</th>\n",
       "      <th>hr</th>\n",
       "      <th>weekday</th>\n",
       "      <th>temp</th>\n",
       "      <th>hum</th>\n",
       "      <th>windspeed</th>\n",
       "      <th>casual</th>\n",
       "      <th>cnt</th>\n",
       "      <th>season_fall</th>\n",
       "      <th>season_springer</th>\n",
       "      <th>season_summer</th>\n",
       "      <th>season_winter</th>\n",
       "      <th>holiday_No</th>\n",
       "      <th>holiday_Yes</th>\n",
       "      <th>workingday_No work</th>\n",
       "      <th>workingday_Working Day</th>\n",
       "      <th>weathersit_Clear</th>\n",
       "      <th>weathersit_Heavy Rain</th>\n",
       "      <th>weathersit_Light Snow</th>\n",
       "      <th>weathersit_Mist</th>\n",
       "    </tr>\n",
       "  </thead>\n",
       "  <tbody>\n",
       "    <tr>\n",
       "      <th>0</th>\n",
       "      <td>1</td>\n",
       "      <td>0</td>\n",
       "      <td>6</td>\n",
       "      <td>0.24</td>\n",
       "      <td>0.81</td>\n",
       "      <td>0.0000</td>\n",
       "      <td>3.0</td>\n",
       "      <td>16</td>\n",
       "      <td>0</td>\n",
       "      <td>1</td>\n",
       "      <td>0</td>\n",
       "      <td>0</td>\n",
       "      <td>1</td>\n",
       "      <td>0</td>\n",
       "      <td>1</td>\n",
       "      <td>0</td>\n",
       "      <td>1</td>\n",
       "      <td>0</td>\n",
       "      <td>0</td>\n",
       "      <td>0</td>\n",
       "    </tr>\n",
       "    <tr>\n",
       "      <th>1</th>\n",
       "      <td>1</td>\n",
       "      <td>1</td>\n",
       "      <td>6</td>\n",
       "      <td>0.22</td>\n",
       "      <td>0.80</td>\n",
       "      <td>0.0000</td>\n",
       "      <td>8.0</td>\n",
       "      <td>40</td>\n",
       "      <td>0</td>\n",
       "      <td>1</td>\n",
       "      <td>0</td>\n",
       "      <td>0</td>\n",
       "      <td>1</td>\n",
       "      <td>0</td>\n",
       "      <td>1</td>\n",
       "      <td>0</td>\n",
       "      <td>1</td>\n",
       "      <td>0</td>\n",
       "      <td>0</td>\n",
       "      <td>0</td>\n",
       "    </tr>\n",
       "    <tr>\n",
       "      <th>3</th>\n",
       "      <td>1</td>\n",
       "      <td>3</td>\n",
       "      <td>6</td>\n",
       "      <td>0.24</td>\n",
       "      <td>0.75</td>\n",
       "      <td>0.0000</td>\n",
       "      <td>3.0</td>\n",
       "      <td>13</td>\n",
       "      <td>0</td>\n",
       "      <td>1</td>\n",
       "      <td>0</td>\n",
       "      <td>0</td>\n",
       "      <td>1</td>\n",
       "      <td>0</td>\n",
       "      <td>1</td>\n",
       "      <td>0</td>\n",
       "      <td>1</td>\n",
       "      <td>0</td>\n",
       "      <td>0</td>\n",
       "      <td>0</td>\n",
       "    </tr>\n",
       "    <tr>\n",
       "      <th>4</th>\n",
       "      <td>1</td>\n",
       "      <td>4</td>\n",
       "      <td>6</td>\n",
       "      <td>0.24</td>\n",
       "      <td>0.75</td>\n",
       "      <td>0.0000</td>\n",
       "      <td>0.0</td>\n",
       "      <td>5</td>\n",
       "      <td>0</td>\n",
       "      <td>1</td>\n",
       "      <td>0</td>\n",
       "      <td>0</td>\n",
       "      <td>1</td>\n",
       "      <td>0</td>\n",
       "      <td>1</td>\n",
       "      <td>0</td>\n",
       "      <td>1</td>\n",
       "      <td>0</td>\n",
       "      <td>0</td>\n",
       "      <td>0</td>\n",
       "    </tr>\n",
       "    <tr>\n",
       "      <th>5</th>\n",
       "      <td>1</td>\n",
       "      <td>5</td>\n",
       "      <td>6</td>\n",
       "      <td>0.24</td>\n",
       "      <td>0.75</td>\n",
       "      <td>0.0896</td>\n",
       "      <td>0.0</td>\n",
       "      <td>5</td>\n",
       "      <td>0</td>\n",
       "      <td>1</td>\n",
       "      <td>0</td>\n",
       "      <td>0</td>\n",
       "      <td>1</td>\n",
       "      <td>0</td>\n",
       "      <td>1</td>\n",
       "      <td>0</td>\n",
       "      <td>0</td>\n",
       "      <td>0</td>\n",
       "      <td>0</td>\n",
       "      <td>1</td>\n",
       "    </tr>\n",
       "  </tbody>\n",
       "</table>\n",
       "</div>"
      ],
      "text/plain": [
       "   mnth  hr  weekday  temp   hum  windspeed  casual  cnt  season_fall  \\\n",
       "0     1   0        6  0.24  0.81     0.0000     3.0   16            0   \n",
       "1     1   1        6  0.22  0.80     0.0000     8.0   40            0   \n",
       "3     1   3        6  0.24  0.75     0.0000     3.0   13            0   \n",
       "4     1   4        6  0.24  0.75     0.0000     0.0    5            0   \n",
       "5     1   5        6  0.24  0.75     0.0896     0.0    5            0   \n",
       "\n",
       "   season_springer  season_summer  season_winter  holiday_No  holiday_Yes  \\\n",
       "0                1              0              0           1            0   \n",
       "1                1              0              0           1            0   \n",
       "3                1              0              0           1            0   \n",
       "4                1              0              0           1            0   \n",
       "5                1              0              0           1            0   \n",
       "\n",
       "   workingday_No work  workingday_Working Day  weathersit_Clear  \\\n",
       "0                   1                       0                 1   \n",
       "1                   1                       0                 1   \n",
       "3                   1                       0                 1   \n",
       "4                   1                       0                 1   \n",
       "5                   1                       0                 0   \n",
       "\n",
       "   weathersit_Heavy Rain  weathersit_Light Snow  weathersit_Mist  \n",
       "0                      0                      0                0  \n",
       "1                      0                      0                0  \n",
       "3                      0                      0                0  \n",
       "4                      0                      0                0  \n",
       "5                      0                      0                1  "
      ]
     },
     "execution_count": 48,
     "metadata": {},
     "output_type": "execute_result"
    }
   ],
   "source": [
    "bike_df2.head()"
   ]
  },
  {
   "cell_type": "code",
   "execution_count": 49,
   "id": "188a1f72",
   "metadata": {},
   "outputs": [
    {
     "data": {
      "text/html": [
       "<div>\n",
       "<style scoped>\n",
       "    .dataframe tbody tr th:only-of-type {\n",
       "        vertical-align: middle;\n",
       "    }\n",
       "\n",
       "    .dataframe tbody tr th {\n",
       "        vertical-align: top;\n",
       "    }\n",
       "\n",
       "    .dataframe thead th {\n",
       "        text-align: right;\n",
       "    }\n",
       "</style>\n",
       "<table border=\"1\" class=\"dataframe\">\n",
       "  <thead>\n",
       "    <tr style=\"text-align: right;\">\n",
       "      <th></th>\n",
       "      <th>mnth</th>\n",
       "      <th>hr</th>\n",
       "      <th>weekday</th>\n",
       "      <th>temp</th>\n",
       "      <th>hum</th>\n",
       "      <th>windspeed</th>\n",
       "      <th>casual</th>\n",
       "      <th>cnt</th>\n",
       "      <th>season_fall</th>\n",
       "      <th>season_springer</th>\n",
       "      <th>season_summer</th>\n",
       "      <th>season_winter</th>\n",
       "      <th>holiday_No</th>\n",
       "      <th>holiday_Yes</th>\n",
       "      <th>workingday_No work</th>\n",
       "      <th>workingday_Working Day</th>\n",
       "      <th>weathersit_Clear</th>\n",
       "      <th>weathersit_Heavy Rain</th>\n",
       "      <th>weathersit_Light Snow</th>\n",
       "      <th>weathersit_Mist</th>\n",
       "    </tr>\n",
       "  </thead>\n",
       "  <tbody>\n",
       "    <tr>\n",
       "      <th>17370</th>\n",
       "      <td>12</td>\n",
       "      <td>15</td>\n",
       "      <td>1</td>\n",
       "      <td>0.28</td>\n",
       "      <td>0.45</td>\n",
       "      <td>0.1343</td>\n",
       "      <td>69.0</td>\n",
       "      <td>315</td>\n",
       "      <td>0</td>\n",
       "      <td>1</td>\n",
       "      <td>0</td>\n",
       "      <td>0</td>\n",
       "      <td>1</td>\n",
       "      <td>0</td>\n",
       "      <td>0</td>\n",
       "      <td>1</td>\n",
       "      <td>0</td>\n",
       "      <td>0</td>\n",
       "      <td>0</td>\n",
       "      <td>1</td>\n",
       "    </tr>\n",
       "    <tr>\n",
       "      <th>17373</th>\n",
       "      <td>12</td>\n",
       "      <td>18</td>\n",
       "      <td>1</td>\n",
       "      <td>0.26</td>\n",
       "      <td>0.48</td>\n",
       "      <td>0.1343</td>\n",
       "      <td>10.0</td>\n",
       "      <td>122</td>\n",
       "      <td>0</td>\n",
       "      <td>1</td>\n",
       "      <td>0</td>\n",
       "      <td>0</td>\n",
       "      <td>1</td>\n",
       "      <td>0</td>\n",
       "      <td>0</td>\n",
       "      <td>1</td>\n",
       "      <td>0</td>\n",
       "      <td>0</td>\n",
       "      <td>0</td>\n",
       "      <td>1</td>\n",
       "    </tr>\n",
       "    <tr>\n",
       "      <th>17374</th>\n",
       "      <td>12</td>\n",
       "      <td>19</td>\n",
       "      <td>1</td>\n",
       "      <td>0.26</td>\n",
       "      <td>0.60</td>\n",
       "      <td>0.1642</td>\n",
       "      <td>11.0</td>\n",
       "      <td>119</td>\n",
       "      <td>0</td>\n",
       "      <td>1</td>\n",
       "      <td>0</td>\n",
       "      <td>0</td>\n",
       "      <td>1</td>\n",
       "      <td>0</td>\n",
       "      <td>0</td>\n",
       "      <td>1</td>\n",
       "      <td>0</td>\n",
       "      <td>0</td>\n",
       "      <td>0</td>\n",
       "      <td>1</td>\n",
       "    </tr>\n",
       "    <tr>\n",
       "      <th>17375</th>\n",
       "      <td>12</td>\n",
       "      <td>20</td>\n",
       "      <td>1</td>\n",
       "      <td>0.26</td>\n",
       "      <td>0.60</td>\n",
       "      <td>0.1642</td>\n",
       "      <td>8.0</td>\n",
       "      <td>89</td>\n",
       "      <td>0</td>\n",
       "      <td>1</td>\n",
       "      <td>0</td>\n",
       "      <td>0</td>\n",
       "      <td>1</td>\n",
       "      <td>0</td>\n",
       "      <td>0</td>\n",
       "      <td>1</td>\n",
       "      <td>0</td>\n",
       "      <td>0</td>\n",
       "      <td>0</td>\n",
       "      <td>1</td>\n",
       "    </tr>\n",
       "    <tr>\n",
       "      <th>17377</th>\n",
       "      <td>12</td>\n",
       "      <td>22</td>\n",
       "      <td>1</td>\n",
       "      <td>0.26</td>\n",
       "      <td>0.56</td>\n",
       "      <td>0.1343</td>\n",
       "      <td>13.0</td>\n",
       "      <td>61</td>\n",
       "      <td>0</td>\n",
       "      <td>1</td>\n",
       "      <td>0</td>\n",
       "      <td>0</td>\n",
       "      <td>1</td>\n",
       "      <td>0</td>\n",
       "      <td>0</td>\n",
       "      <td>1</td>\n",
       "      <td>1</td>\n",
       "      <td>0</td>\n",
       "      <td>0</td>\n",
       "      <td>0</td>\n",
       "    </tr>\n",
       "  </tbody>\n",
       "</table>\n",
       "</div>"
      ],
      "text/plain": [
       "       mnth  hr  weekday  temp   hum  windspeed  casual  cnt  season_fall  \\\n",
       "17370    12  15        1  0.28  0.45     0.1343    69.0  315            0   \n",
       "17373    12  18        1  0.26  0.48     0.1343    10.0  122            0   \n",
       "17374    12  19        1  0.26  0.60     0.1642    11.0  119            0   \n",
       "17375    12  20        1  0.26  0.60     0.1642     8.0   89            0   \n",
       "17377    12  22        1  0.26  0.56     0.1343    13.0   61            0   \n",
       "\n",
       "       season_springer  season_summer  season_winter  holiday_No  holiday_Yes  \\\n",
       "17370                1              0              0           1            0   \n",
       "17373                1              0              0           1            0   \n",
       "17374                1              0              0           1            0   \n",
       "17375                1              0              0           1            0   \n",
       "17377                1              0              0           1            0   \n",
       "\n",
       "       workingday_No work  workingday_Working Day  weathersit_Clear  \\\n",
       "17370                   0                       1                 0   \n",
       "17373                   0                       1                 0   \n",
       "17374                   0                       1                 0   \n",
       "17375                   0                       1                 0   \n",
       "17377                   0                       1                 1   \n",
       "\n",
       "       weathersit_Heavy Rain  weathersit_Light Snow  weathersit_Mist  \n",
       "17370                      0                      0                1  \n",
       "17373                      0                      0                1  \n",
       "17374                      0                      0                1  \n",
       "17375                      0                      0                1  \n",
       "17377                      0                      0                0  "
      ]
     },
     "execution_count": 49,
     "metadata": {},
     "output_type": "execute_result"
    }
   ],
   "source": [
    "bike_df2.tail()"
   ]
  },
  {
   "cell_type": "code",
   "execution_count": 50,
   "id": "9af5c641",
   "metadata": {
    "colab": {
     "base_uri": "https://localhost:8080/"
    },
    "executionInfo": {
     "elapsed": 40,
     "status": "ok",
     "timestamp": 1683810377535,
     "user": {
      "displayName": "Rupak Mondal",
      "userId": "12139440766166473709"
     },
     "user_tz": -330
    },
    "id": "9af5c641",
    "outputId": "e7203b95-af18-46af-98da-f39f011ed602"
   },
   "outputs": [
    {
     "data": {
      "text/plain": [
       "(17339, 20)"
      ]
     },
     "execution_count": 50,
     "metadata": {},
     "output_type": "execute_result"
    }
   ],
   "source": [
    "bike_df2.shape"
   ]
  },
  {
   "cell_type": "code",
   "execution_count": 51,
   "id": "3320d2c2",
   "metadata": {},
   "outputs": [],
   "source": [
    "bike_df2.to_csv(\"df.csv\")"
   ]
  },
  {
   "cell_type": "code",
   "execution_count": 52,
   "id": "205ae9b0",
   "metadata": {
    "colab": {
     "base_uri": "https://localhost:8080/"
    },
    "executionInfo": {
     "elapsed": 36,
     "status": "ok",
     "timestamp": 1683810377536,
     "user": {
      "displayName": "Rupak Mondal",
      "userId": "12139440766166473709"
     },
     "user_tz": -330
    },
    "id": "205ae9b0",
    "outputId": "57eaa021-ae88-4a4f-8e94-3a381d21e0d8"
   },
   "outputs": [
    {
     "name": "stdout",
     "output_type": "stream",
     "text": [
      "(17339, 19)\n",
      "(17339,)\n"
     ]
    }
   ],
   "source": [
    "from sklearn.model_selection import train_test_split\n",
    "x = bike_df2.drop('cnt', axis=1)\n",
    "y = bike_df2['cnt']\n",
    "print(x.shape)\n",
    "print(y.shape)"
   ]
  },
  {
   "cell_type": "code",
   "execution_count": 53,
   "id": "0dcc7d00",
   "metadata": {
    "colab": {
     "base_uri": "https://localhost:8080/"
    },
    "executionInfo": {
     "elapsed": 34,
     "status": "ok",
     "timestamp": 1683810377536,
     "user": {
      "displayName": "Rupak Mondal",
      "userId": "12139440766166473709"
     },
     "user_tz": -330
    },
    "id": "0dcc7d00",
    "outputId": "866f91d3-a240-4644-d445-78adf4c56304"
   },
   "outputs": [
    {
     "data": {
      "text/plain": [
       "((12137, 19), (5202, 19))"
      ]
     },
     "execution_count": 53,
     "metadata": {},
     "output_type": "execute_result"
    }
   ],
   "source": [
    "##seperating data into train and test data\n",
    "from sklearn.model_selection import train_test_split\n",
    "X_train, X_test, Y_train, Y_test = train_test_split(x,y, test_size=0.3, random_state=0)\n",
    "X_train.shape, X_test.shape"
   ]
  },
  {
   "cell_type": "markdown",
   "id": "f9bf3785",
   "metadata": {
    "id": "f9bf3785"
   },
   "source": [
    "# 2. Feature selection using \"Chi2\""
   ]
  },
  {
   "cell_type": "code",
   "execution_count": 54,
   "id": "85bf155c",
   "metadata": {
    "executionInfo": {
     "elapsed": 32,
     "status": "ok",
     "timestamp": 1683810377537,
     "user": {
      "displayName": "Rupak Mondal",
      "userId": "12139440766166473709"
     },
     "user_tz": -330
    },
    "id": "85bf155c"
   },
   "outputs": [],
   "source": [
    "## Perform chi2 test\n",
    "### chi2 returns 2 values\n",
    "### F-score and the p-value\n",
    "from sklearn.feature_selection import chi2\n",
    "f_p_values=chi2(X_train,Y_train) "
   ]
  },
  {
   "cell_type": "code",
   "execution_count": 55,
   "id": "e052c5e3",
   "metadata": {
    "colab": {
     "base_uri": "https://localhost:8080/"
    },
    "executionInfo": {
     "elapsed": 32,
     "status": "ok",
     "timestamp": 1683810377537,
     "user": {
      "displayName": "Rupak Mondal",
      "userId": "12139440766166473709"
     },
     "user_tz": -330
    },
    "id": "e052c5e3",
    "outputId": "80b88c0e-c385-4e81-837d-df82ffa0e265"
   },
   "outputs": [
    {
     "data": {
      "text/plain": [
       "(array([1.46496703e+03, 1.97961158e+04, 8.01400570e+02, 2.08701895e+02,\n",
       "        1.20451917e+02, 6.14797638e+01, 3.34935508e+05, 7.24929898e+02,\n",
       "        1.08554769e+03, 5.15816294e+02, 4.94247215e+02, 1.80447449e+01,\n",
       "        6.04140110e+02, 5.68453976e+02, 2.57911566e+02, 2.25253852e+02,\n",
       "        3.38537824e+02, 5.99807779e+02, 4.25181541e+02]),\n",
       " array([1.49666544e-82, 0.00000000e+00, 5.45149746e-11, 1.00000000e+00,\n",
       "        1.00000000e+00, 1.00000000e+00, 0.00000000e+00, 2.21284644e-06,\n",
       "        3.01018259e-36, 8.99013620e-01, 9.75361061e-01, 1.00000000e+00,\n",
       "        8.61799769e-02, 3.70350442e-01, 1.00000000e+00, 1.00000000e+00,\n",
       "        1.00000000e+00, 1.07235945e-01, 9.99992323e-01]))"
      ]
     },
     "execution_count": 55,
     "metadata": {},
     "output_type": "execute_result"
    }
   ],
   "source": [
    "f_p_values"
   ]
  },
  {
   "cell_type": "code",
   "execution_count": 56,
   "id": "01f50645",
   "metadata": {
    "colab": {
     "base_uri": "https://localhost:8080/"
    },
    "executionInfo": {
     "elapsed": 30,
     "status": "ok",
     "timestamp": 1683810377537,
     "user": {
      "displayName": "Rupak Mondal",
      "userId": "12139440766166473709"
     },
     "user_tz": -330
    },
    "id": "01f50645",
    "outputId": "cf66bfad-21af-4886-9bef-556ca3eada26"
   },
   "outputs": [
    {
     "data": {
      "text/plain": [
       "mnth                      1.496665e-82\n",
       "hr                        0.000000e+00\n",
       "weekday                   5.451497e-11\n",
       "temp                      1.000000e+00\n",
       "hum                       1.000000e+00\n",
       "windspeed                 1.000000e+00\n",
       "casual                    0.000000e+00\n",
       "season_fall               2.212846e-06\n",
       "season_springer           3.010183e-36\n",
       "season_summer             8.990136e-01\n",
       "season_winter             9.753611e-01\n",
       "holiday_No                1.000000e+00\n",
       "holiday_Yes               8.617998e-02\n",
       "workingday_No work        3.703504e-01\n",
       "workingday_Working Day    1.000000e+00\n",
       "weathersit_Clear          1.000000e+00\n",
       "weathersit_Heavy Rain     1.000000e+00\n",
       "weathersit_Light Snow     1.072359e-01\n",
       "weathersit_Mist           9.999923e-01\n",
       "dtype: float64"
      ]
     },
     "execution_count": 56,
     "metadata": {},
     "output_type": "execute_result"
    }
   ],
   "source": [
    "p_values=pd.Series(f_p_values[1])\n",
    "p_values.index=X_train.columns\n",
    "p_values"
   ]
  },
  {
   "cell_type": "code",
   "execution_count": 57,
   "id": "80af8d04",
   "metadata": {
    "colab": {
     "base_uri": "https://localhost:8080/",
     "height": 179
    },
    "executionInfo": {
     "elapsed": 29,
     "status": "ok",
     "timestamp": 1683810377538,
     "user": {
      "displayName": "Rupak Mondal",
      "userId": "12139440766166473709"
     },
     "user_tz": -330
    },
    "id": "80af8d04",
    "outputId": "c6d263e2-cda9-4513-bb46-1e047717126a"
   },
   "outputs": [
    {
     "data": {
      "text/html": [
       "<div>\n",
       "<style scoped>\n",
       "    .dataframe tbody tr th:only-of-type {\n",
       "        vertical-align: middle;\n",
       "    }\n",
       "\n",
       "    .dataframe tbody tr th {\n",
       "        vertical-align: top;\n",
       "    }\n",
       "\n",
       "    .dataframe thead th {\n",
       "        text-align: right;\n",
       "    }\n",
       "</style>\n",
       "<table border=\"1\" class=\"dataframe\">\n",
       "  <thead>\n",
       "    <tr style=\"text-align: right;\">\n",
       "      <th></th>\n",
       "      <th>mnth</th>\n",
       "      <th>hr</th>\n",
       "      <th>weekday</th>\n",
       "      <th>temp</th>\n",
       "      <th>hum</th>\n",
       "      <th>windspeed</th>\n",
       "      <th>casual</th>\n",
       "      <th>season_fall</th>\n",
       "      <th>season_springer</th>\n",
       "      <th>season_summer</th>\n",
       "      <th>season_winter</th>\n",
       "      <th>holiday_No</th>\n",
       "      <th>holiday_Yes</th>\n",
       "      <th>workingday_No work</th>\n",
       "      <th>workingday_Working Day</th>\n",
       "      <th>weathersit_Clear</th>\n",
       "      <th>weathersit_Heavy Rain</th>\n",
       "      <th>weathersit_Light Snow</th>\n",
       "      <th>weathersit_Mist</th>\n",
       "    </tr>\n",
       "  </thead>\n",
       "  <tbody>\n",
       "    <tr>\n",
       "      <th>0</th>\n",
       "      <td>1.496665e-82</td>\n",
       "      <td>0.0</td>\n",
       "      <td>5.451497e-11</td>\n",
       "      <td>1.0</td>\n",
       "      <td>1.0</td>\n",
       "      <td>1.0</td>\n",
       "      <td>0.0</td>\n",
       "      <td>0.000002</td>\n",
       "      <td>3.010183e-36</td>\n",
       "      <td>0.899014</td>\n",
       "      <td>0.975361</td>\n",
       "      <td>1.0</td>\n",
       "      <td>0.08618</td>\n",
       "      <td>0.37035</td>\n",
       "      <td>1.0</td>\n",
       "      <td>1.0</td>\n",
       "      <td>1.0</td>\n",
       "      <td>0.107236</td>\n",
       "      <td>0.999992</td>\n",
       "    </tr>\n",
       "  </tbody>\n",
       "</table>\n",
       "</div>"
      ],
      "text/plain": [
       "           mnth   hr       weekday  temp  hum  windspeed  casual  season_fall  \\\n",
       "0  1.496665e-82  0.0  5.451497e-11   1.0  1.0        1.0     0.0     0.000002   \n",
       "\n",
       "   season_springer  season_summer  season_winter  holiday_No  holiday_Yes  \\\n",
       "0     3.010183e-36       0.899014       0.975361         1.0      0.08618   \n",
       "\n",
       "   workingday_No work  workingday_Working Day  weathersit_Clear  \\\n",
       "0             0.37035                     1.0               1.0   \n",
       "\n",
       "   weathersit_Heavy Rain  weathersit_Light Snow  weathersit_Mist  \n",
       "0                    1.0               0.107236         0.999992  "
      ]
     },
     "execution_count": 57,
     "metadata": {},
     "output_type": "execute_result"
    }
   ],
   "source": [
    "chi_test = pd.DataFrame(p_values).T\n",
    "chi_test.columns = x.columns\n",
    "chi_test"
   ]
  },
  {
   "cell_type": "markdown",
   "id": "d0d1c46f",
   "metadata": {
    "id": "d0d1c46f"
   },
   "source": [
    "# Chi2- The Chi2 test show all features(excludes Hr and casual) which can be used for furthere analysis."
   ]
  },
  {
   "cell_type": "markdown",
   "id": "93afadda",
   "metadata": {
    "id": "93afadda"
   },
   "source": [
    "# 3. Information gain - Mutual information In Regression"
   ]
  },
  {
   "cell_type": "code",
   "execution_count": 58,
   "id": "98da3a6d",
   "metadata": {
    "colab": {
     "base_uri": "https://localhost:8080/"
    },
    "executionInfo": {
     "elapsed": 28,
     "status": "ok",
     "timestamp": 1683810377538,
     "user": {
      "displayName": "Rupak Mondal",
      "userId": "12139440766166473709"
     },
     "user_tz": -330
    },
    "id": "98da3a6d",
    "outputId": "a677b5bf-ba35-426c-9e23-6741040aad1c"
   },
   "outputs": [
    {
     "data": {
      "text/plain": [
       "array([0.06390997, 0.61640603, 0.00774076, 0.13828532, 0.10126788,\n",
       "       0.00900383, 0.71143881, 0.02046428, 0.05317913, 0.01044893,\n",
       "       0.006553  , 0.        , 0.0112149 , 0.0034759 , 0.00240483,\n",
       "       0.00275779, 0.00428461, 0.02155208, 0.00211395])"
      ]
     },
     "execution_count": 58,
     "metadata": {},
     "output_type": "execute_result"
    }
   ],
   "source": [
    "from sklearn.feature_selection import mutual_info_regression\n",
    "# determine the mutual information\n",
    "mutual_info = mutual_info_regression(X_train.fillna(0), Y_train)\n",
    "mutual_info"
   ]
  },
  {
   "cell_type": "code",
   "execution_count": 59,
   "id": "e44f33cc",
   "metadata": {
    "colab": {
     "base_uri": "https://localhost:8080/"
    },
    "executionInfo": {
     "elapsed": 26,
     "status": "ok",
     "timestamp": 1683810377539,
     "user": {
      "displayName": "Rupak Mondal",
      "userId": "12139440766166473709"
     },
     "user_tz": -330
    },
    "id": "e44f33cc",
    "outputId": "ad6c4143-209e-4573-aada-cddb69bb0abf"
   },
   "outputs": [
    {
     "data": {
      "text/plain": [
       "casual                    0.711439\n",
       "hr                        0.616406\n",
       "temp                      0.138285\n",
       "hum                       0.101268\n",
       "mnth                      0.063910\n",
       "season_springer           0.053179\n",
       "weathersit_Light Snow     0.021552\n",
       "season_fall               0.020464\n",
       "holiday_Yes               0.011215\n",
       "season_summer             0.010449\n",
       "windspeed                 0.009004\n",
       "weekday                   0.007741\n",
       "season_winter             0.006553\n",
       "weathersit_Heavy Rain     0.004285\n",
       "workingday_No work        0.003476\n",
       "weathersit_Clear          0.002758\n",
       "workingday_Working Day    0.002405\n",
       "weathersit_Mist           0.002114\n",
       "holiday_No                0.000000\n",
       "dtype: float64"
      ]
     },
     "execution_count": 59,
     "metadata": {},
     "output_type": "execute_result"
    }
   ],
   "source": [
    "mutual_info = pd.Series(mutual_info)\n",
    "mutual_info.index = X_train.columns\n",
    "mutual_info.sort_values(ascending=False)"
   ]
  },
  {
   "cell_type": "code",
   "execution_count": 60,
   "id": "c2ce1517",
   "metadata": {
    "colab": {
     "base_uri": "https://localhost:8080/",
     "height": 381
    },
    "executionInfo": {
     "elapsed": 789,
     "status": "ok",
     "timestamp": 1683810378305,
     "user": {
      "displayName": "Rupak Mondal",
      "userId": "12139440766166473709"
     },
     "user_tz": -330
    },
    "id": "c2ce1517",
    "outputId": "550d6b54-4f50-4a75-b6ce-0bbd855918bd"
   },
   "outputs": [
    {
     "data": {
      "text/plain": [
       "<AxesSubplot:>"
      ]
     },
     "execution_count": 60,
     "metadata": {},
     "output_type": "execute_result"
    },
    {
     "data": {
      "image/png": "[encoded data removed]",
      "text/plain": [
       "<Figure size 1080x360 with 1 Axes>"
      ]
     },
     "metadata": {
      "needs_background": "light"
     },
     "output_type": "display_data"
    }
   ],
   "source": [
    "mutual_info.sort_values(ascending=False).plot.bar(figsize=(15,5))"
   ]
  },
  {
   "cell_type": "code",
   "execution_count": 61,
   "id": "46dccc26",
   "metadata": {
    "colab": {
     "base_uri": "https://localhost:8080/",
     "height": 92
    },
    "executionInfo": {
     "elapsed": 806,
     "status": "ok",
     "timestamp": 1683810379106,
     "user": {
      "displayName": "Rupak Mondal",
      "userId": "12139440766166473709"
     },
     "user_tz": -330
    },
    "id": "46dccc26",
    "outputId": "92d7cf53-c4d2-43be-89c1-771c2acb7b40"
   },
   "outputs": [
    {
     "data": {
      "text/html": [
       "<style>#sk-container-id-1 {color: black;background-color: white;}#sk-container-id-1 pre{padding: 0;}#sk-container-id-1 div.sk-toggleable {background-color: white;}#sk-container-id-1 label.sk-toggleable__label {cursor: pointer;display: block;width: 100%;margin-bottom: 0;padding: 0.3em;box-sizing: border-box;text-align: center;}#sk-container-id-1 label.sk-toggleable__label-arrow:before {content: \"▸\";float: left;margin-right: 0.25em;color: #696969;}#sk-container-id-1 label.sk-toggleable__label-arrow:hover:before {color: black;}#sk-container-id-1 div.sk-estimator:hover label.sk-toggleable__label-arrow:before {color: black;}#sk-container-id-1 div.sk-toggleable__content {max-height: 0;max-width: 0;overflow: hidden;text-align: left;background-color: #f0f8ff;}#sk-container-id-1 div.sk-toggleable__content pre {margin: 0.2em;color: black;border-radius: 0.25em;background-color: #f0f8ff;}#sk-container-id-1 input.sk-toggleable__control:checked~div.sk-toggleable__content {max-height: 200px;max-width: 100%;overflow: auto;}#sk-container-id-1 input.sk-toggleable__control:checked~label.sk-toggleable__label-arrow:before {content: \"▾\";}#sk-container-id-1 div.sk-estimator input.sk-toggleable__control:checked~label.sk-toggleable__label {background-color: #d4ebff;}#sk-container-id-1 div.sk-label input.sk-toggleable__control:checked~label.sk-toggleable__label {background-color: #d4ebff;}#sk-container-id-1 input.sk-hidden--visually {border: 0;clip: rect(1px 1px 1px 1px);clip: rect(1px, 1px, 1px, 1px);height: 1px;margin: -1px;overflow: hidden;padding: 0;position: absolute;width: 1px;}#sk-container-id-1 div.sk-estimator {font-family: monospace;background-color: #f0f8ff;border: 1px dotted black;border-radius: 0.25em;box-sizing: border-box;margin-bottom: 0.5em;}#sk-container-id-1 div.sk-estimator:hover {background-color: #d4ebff;}#sk-container-id-1 div.sk-parallel-item::after {content: \"\";width: 100%;border-bottom: 1px solid gray;flex-grow: 1;}#sk-container-id-1 div.sk-label:hover label.sk-toggleable__label {background-color: #d4ebff;}#sk-container-id-1 div.sk-serial::before {content: \"\";position: absolute;border-left: 1px solid gray;box-sizing: border-box;top: 0;bottom: 0;left: 50%;z-index: 0;}#sk-container-id-1 div.sk-serial {display: flex;flex-direction: column;align-items: center;background-color: white;padding-right: 0.2em;padding-left: 0.2em;position: relative;}#sk-container-id-1 div.sk-item {position: relative;z-index: 1;}#sk-container-id-1 div.sk-parallel {display: flex;align-items: stretch;justify-content: center;background-color: white;position: relative;}#sk-container-id-1 div.sk-item::before, #sk-container-id-1 div.sk-parallel-item::before {content: \"\";position: absolute;border-left: 1px solid gray;box-sizing: border-box;top: 0;bottom: 0;left: 50%;z-index: -1;}#sk-container-id-1 div.sk-parallel-item {display: flex;flex-direction: column;z-index: 1;position: relative;background-color: white;}#sk-container-id-1 div.sk-parallel-item:first-child::after {align-self: flex-end;width: 50%;}#sk-container-id-1 div.sk-parallel-item:last-child::after {align-self: flex-start;width: 50%;}#sk-container-id-1 div.sk-parallel-item:only-child::after {width: 0;}#sk-container-id-1 div.sk-dashed-wrapped {border: 1px dashed gray;margin: 0 0.4em 0.5em 0.4em;box-sizing: border-box;padding-bottom: 0.4em;background-color: white;}#sk-container-id-1 div.sk-label label {font-family: monospace;font-weight: bold;display: inline-block;line-height: 1.2em;}#sk-container-id-1 div.sk-label-container {text-align: center;}#sk-container-id-1 div.sk-container {/* jupyter's `normalize.less` sets `[hidden] { display: none; }` but bootstrap.min.css set `[hidden] { display: none !important; }` so we also need the `!important` here to be able to override the default hidden behavior on the sphinx rendered scikit-learn.org. See: https://github.com/scikit-learn/scikit-learn/issues/21755 */display: inline-block !important;position: relative;}#sk-container-id-1 div.sk-text-repr-fallback {display: none;}</style><div id=\"sk-container-id-1\" class=\"sk-top-container\"><div class=\"sk-text-repr-fallback\"><pre>SelectPercentile(percentile=20,\n",
       "                 score_func=&lt;function mutual_info_regression at 0x0000015CC5CF6D30&gt;)</pre><b>In a Jupyter environment, please rerun this cell to show the HTML representation or trust the notebook. <br />On GitHub, the HTML representation is unable to render, please try loading this page with nbviewer.org.</b></div><div class=\"sk-container\" hidden><div class=\"sk-item\"><div class=\"sk-estimator sk-toggleable\"><input class=\"sk-toggleable__control sk-hidden--visually\" id=\"sk-estimator-id-1\" type=\"checkbox\" checked><label for=\"sk-estimator-id-1\" class=\"sk-toggleable__label sk-toggleable__label-arrow\">SelectPercentile</label><div class=\"sk-toggleable__content\"><pre>SelectPercentile(percentile=20,\n",
       "                 score_func=&lt;function mutual_info_regression at 0x0000015CC5CF6D30&gt;)</pre></div></div></div></div></div>"
      ],
      "text/plain": [
       "SelectPercentile(percentile=20,\n",
       "                 score_func=<function mutual_info_regression at 0x0000015CC5CF6D30>)"
      ]
     },
     "execution_count": 61,
     "metadata": {},
     "output_type": "execute_result"
    }
   ],
   "source": [
    "from sklearn.feature_selection import SelectPercentile\n",
    "## Selecting the top 20 percentile\n",
    "selected_top_columns = SelectPercentile(mutual_info_regression, percentile=20)\n",
    "selected_top_columns.fit(X_train.fillna(0), Y_train)"
   ]
  },
  {
   "cell_type": "code",
   "execution_count": 62,
   "id": "768192af",
   "metadata": {
    "colab": {
     "base_uri": "https://localhost:8080/"
    },
    "executionInfo": {
     "elapsed": 31,
     "status": "ok",
     "timestamp": 1683810379118,
     "user": {
      "displayName": "Rupak Mondal",
      "userId": "12139440766166473709"
     },
     "user_tz": -330
    },
    "id": "768192af",
    "outputId": "fad0092b-4e91-42dd-b1df-acd36229fcb0"
   },
   "outputs": [
    {
     "data": {
      "text/plain": [
       "array([False,  True, False,  True,  True, False,  True, False, False,\n",
       "       False, False, False, False, False, False, False, False, False,\n",
       "       False])"
      ]
     },
     "execution_count": 62,
     "metadata": {},
     "output_type": "execute_result"
    }
   ],
   "source": [
    "selected_top_columns.get_support()"
   ]
  },
  {
   "cell_type": "code",
   "execution_count": 63,
   "id": "02641a43",
   "metadata": {
    "colab": {
     "base_uri": "https://localhost:8080/"
    },
    "executionInfo": {
     "elapsed": 27,
     "status": "ok",
     "timestamp": 1683810379119,
     "user": {
      "displayName": "Rupak Mondal",
      "userId": "12139440766166473709"
     },
     "user_tz": -330
    },
    "id": "02641a43",
    "outputId": "e4c59fe0-1544-40e5-cba1-0318f002650f"
   },
   "outputs": [
    {
     "data": {
      "text/plain": [
       "Index(['hr', 'temp', 'hum', 'casual'], dtype='object')"
      ]
     },
     "execution_count": 63,
     "metadata": {},
     "output_type": "execute_result"
    }
   ],
   "source": [
    "X_train.columns[selected_top_columns.get_support()]"
   ]
  },
  {
   "cell_type": "markdown",
   "id": "d0135aee",
   "metadata": {
    "id": "d0135aee"
   },
   "source": [
    "# Information gain - Mutual information In Regression - Here only 4 features are selected as shown above"
   ]
  },
  {
   "cell_type": "markdown",
   "id": "cb7a7200",
   "metadata": {
    "id": "cb7a7200"
   },
   "source": [
    "# 4.  Recursive Feature Elimination with Logistic regression "
   ]
  },
  {
   "cell_type": "code",
   "execution_count": 64,
   "id": "fd230cdc",
   "metadata": {
    "executionInfo": {
     "elapsed": 25,
     "status": "ok",
     "timestamp": 1683810379120,
     "user": {
      "displayName": "Rupak Mondal",
      "userId": "12139440766166473709"
     },
     "user_tz": -330
    },
    "id": "fd230cdc"
   },
   "outputs": [],
   "source": [
    "from sklearn.linear_model import LogisticRegression"
   ]
  },
  {
   "cell_type": "code",
   "execution_count": 65,
   "id": "e5ec87b6",
   "metadata": {
    "executionInfo": {
     "elapsed": 26,
     "status": "ok",
     "timestamp": 1683810379121,
     "user": {
      "displayName": "Rupak Mondal",
      "userId": "12139440766166473709"
     },
     "user_tz": -330
    },
    "id": "e5ec87b6"
   },
   "outputs": [],
   "source": [
    "rfe = RFE(LogisticRegression())"
   ]
  },
  {
   "cell_type": "code",
   "execution_count": 66,
   "id": "30be1d48",
   "metadata": {
    "colab": {
     "base_uri": "https://localhost:8080/",
     "height": 117
    },
    "executionInfo": {
     "elapsed": 343246,
     "status": "ok",
     "timestamp": 1683810722342,
     "user": {
      "displayName": "Rupak Mondal",
      "userId": "12139440766166473709"
     },
     "user_tz": -330
    },
    "id": "30be1d48",
    "outputId": "100a47e1-6dec-4fb6-adb0-bb4b8db3bc55"
   },
   "outputs": [
    {
     "data": {
      "text/html": [
       "<style>#sk-container-id-2 {color: black;background-color: white;}#sk-container-id-2 pre{padding: 0;}#sk-container-id-2 div.sk-toggleable {background-color: white;}#sk-container-id-2 label.sk-toggleable__label {cursor: pointer;display: block;width: 100%;margin-bottom: 0;padding: 0.3em;box-sizing: border-box;text-align: center;}#sk-container-id-2 label.sk-toggleable__label-arrow:before {content: \"▸\";float: left;margin-right: 0.25em;color: #696969;}#sk-container-id-2 label.sk-toggleable__label-arrow:hover:before {color: black;}#sk-container-id-2 div.sk-estimator:hover label.sk-toggleable__label-arrow:before {color: black;}#sk-container-id-2 div.sk-toggleable__content {max-height: 0;max-width: 0;overflow: hidden;text-align: left;background-color: #f0f8ff;}#sk-container-id-2 div.sk-toggleable__content pre {margin: 0.2em;color: black;border-radius: 0.25em;background-color: #f0f8ff;}#sk-container-id-2 input.sk-toggleable__control:checked~div.sk-toggleable__content {max-height: 200px;max-width: 100%;overflow: auto;}#sk-container-id-2 input.sk-toggleable__control:checked~label.sk-toggleable__label-arrow:before {content: \"▾\";}#sk-container-id-2 div.sk-estimator input.sk-toggleable__control:checked~label.sk-toggleable__label {background-color: #d4ebff;}#sk-container-id-2 div.sk-label input.sk-toggleable__control:checked~label.sk-toggleable__label {background-color: #d4ebff;}#sk-container-id-2 input.sk-hidden--visually {border: 0;clip: rect(1px 1px 1px 1px);clip: rect(1px, 1px, 1px, 1px);height: 1px;margin: -1px;overflow: hidden;padding: 0;position: absolute;width: 1px;}#sk-container-id-2 div.sk-estimator {font-family: monospace;background-color: #f0f8ff;border: 1px dotted black;border-radius: 0.25em;box-sizing: border-box;margin-bottom: 0.5em;}#sk-container-id-2 div.sk-estimator:hover {background-color: #d4ebff;}#sk-container-id-2 div.sk-parallel-item::after {content: \"\";width: 100%;border-bottom: 1px solid gray;flex-grow: 1;}#sk-container-id-2 div.sk-label:hover label.sk-toggleable__label {background-color: #d4ebff;}#sk-container-id-2 div.sk-serial::before {content: \"\";position: absolute;border-left: 1px solid gray;box-sizing: border-box;top: 0;bottom: 0;left: 50%;z-index: 0;}#sk-container-id-2 div.sk-serial {display: flex;flex-direction: column;align-items: center;background-color: white;padding-right: 0.2em;padding-left: 0.2em;position: relative;}#sk-container-id-2 div.sk-item {position: relative;z-index: 1;}#sk-container-id-2 div.sk-parallel {display: flex;align-items: stretch;justify-content: center;background-color: white;position: relative;}#sk-container-id-2 div.sk-item::before, #sk-container-id-2 div.sk-parallel-item::before {content: \"\";position: absolute;border-left: 1px solid gray;box-sizing: border-box;top: 0;bottom: 0;left: 50%;z-index: -1;}#sk-container-id-2 div.sk-parallel-item {display: flex;flex-direction: column;z-index: 1;position: relative;background-color: white;}#sk-container-id-2 div.sk-parallel-item:first-child::after {align-self: flex-end;width: 50%;}#sk-container-id-2 div.sk-parallel-item:last-child::after {align-self: flex-start;width: 50%;}#sk-container-id-2 div.sk-parallel-item:only-child::after {width: 0;}#sk-container-id-2 div.sk-dashed-wrapped {border: 1px dashed gray;margin: 0 0.4em 0.5em 0.4em;box-sizing: border-box;padding-bottom: 0.4em;background-color: white;}#sk-container-id-2 div.sk-label label {font-family: monospace;font-weight: bold;display: inline-block;line-height: 1.2em;}#sk-container-id-2 div.sk-label-container {text-align: center;}#sk-container-id-2 div.sk-container {/* jupyter's `normalize.less` sets `[hidden] { display: none; }` but bootstrap.min.css set `[hidden] { display: none !important; }` so we also need the `!important` here to be able to override the default hidden behavior on the sphinx rendered scikit-learn.org. See: https://github.com/scikit-learn/scikit-learn/issues/21755 */display: inline-block !important;position: relative;}#sk-container-id-2 div.sk-text-repr-fallback {display: none;}</style><div id=\"sk-container-id-2\" class=\"sk-top-container\"><div class=\"sk-text-repr-fallback\"><pre>RFE(estimator=LogisticRegression())</pre><b>In a Jupyter environment, please rerun this cell to show the HTML representation or trust the notebook. <br />On GitHub, the HTML representation is unable to render, please try loading this page with nbviewer.org.</b></div><div class=\"sk-container\" hidden><div class=\"sk-item sk-dashed-wrapped\"><div class=\"sk-label-container\"><div class=\"sk-label sk-toggleable\"><input class=\"sk-toggleable__control sk-hidden--visually\" id=\"sk-estimator-id-2\" type=\"checkbox\" ><label for=\"sk-estimator-id-2\" class=\"sk-toggleable__label sk-toggleable__label-arrow\">RFE</label><div class=\"sk-toggleable__content\"><pre>RFE(estimator=LogisticRegression())</pre></div></div></div><div class=\"sk-parallel\"><div class=\"sk-parallel-item\"><div class=\"sk-item\"><div class=\"sk-label-container\"><div class=\"sk-label sk-toggleable\"><input class=\"sk-toggleable__control sk-hidden--visually\" id=\"sk-estimator-id-3\" type=\"checkbox\" ><label for=\"sk-estimator-id-3\" class=\"sk-toggleable__label sk-toggleable__label-arrow\">estimator: LogisticRegression</label><div class=\"sk-toggleable__content\"><pre>LogisticRegression()</pre></div></div></div><div class=\"sk-serial\"><div class=\"sk-item\"><div class=\"sk-estimator sk-toggleable\"><input class=\"sk-toggleable__control sk-hidden--visually\" id=\"sk-estimator-id-4\" type=\"checkbox\" ><label for=\"sk-estimator-id-4\" class=\"sk-toggleable__label sk-toggleable__label-arrow\">LogisticRegression</label><div class=\"sk-toggleable__content\"><pre>LogisticRegression()</pre></div></div></div></div></div></div></div></div></div></div>"
      ],
      "text/plain": [
       "RFE(estimator=LogisticRegression())"
      ]
     },
     "execution_count": 66,
     "metadata": {},
     "output_type": "execute_result"
    }
   ],
   "source": [
    "rfe.fit(X_train,Y_train)"
   ]
  },
  {
   "cell_type": "code",
   "execution_count": 67,
   "id": "76b48565",
   "metadata": {
    "colab": {
     "base_uri": "https://localhost:8080/",
     "height": 162
    },
    "executionInfo": {
     "elapsed": 35,
     "status": "ok",
     "timestamp": 1683810722344,
     "user": {
      "displayName": "Rupak Mondal",
      "userId": "12139440766166473709"
     },
     "user_tz": -330
    },
    "id": "76b48565",
    "outputId": "2da60bac-7d91-4f90-eeed-f26cb5ea5067"
   },
   "outputs": [
    {
     "data": {
      "text/html": [
       "<div>\n",
       "<style scoped>\n",
       "    .dataframe tbody tr th:only-of-type {\n",
       "        vertical-align: middle;\n",
       "    }\n",
       "\n",
       "    .dataframe tbody tr th {\n",
       "        vertical-align: top;\n",
       "    }\n",
       "\n",
       "    .dataframe thead th {\n",
       "        text-align: right;\n",
       "    }\n",
       "</style>\n",
       "<table border=\"1\" class=\"dataframe\">\n",
       "  <thead>\n",
       "    <tr style=\"text-align: right;\">\n",
       "      <th></th>\n",
       "      <th>mnth</th>\n",
       "      <th>hr</th>\n",
       "      <th>weekday</th>\n",
       "      <th>temp</th>\n",
       "      <th>hum</th>\n",
       "      <th>windspeed</th>\n",
       "      <th>casual</th>\n",
       "      <th>season_fall</th>\n",
       "      <th>season_springer</th>\n",
       "      <th>season_summer</th>\n",
       "      <th>season_winter</th>\n",
       "      <th>holiday_No</th>\n",
       "      <th>holiday_Yes</th>\n",
       "      <th>workingday_No work</th>\n",
       "      <th>workingday_Working Day</th>\n",
       "      <th>weathersit_Clear</th>\n",
       "      <th>weathersit_Heavy Rain</th>\n",
       "      <th>weathersit_Light Snow</th>\n",
       "      <th>weathersit_Mist</th>\n",
       "    </tr>\n",
       "  </thead>\n",
       "  <tbody>\n",
       "    <tr>\n",
       "      <th>0</th>\n",
       "      <td>1</td>\n",
       "      <td>1</td>\n",
       "      <td>1</td>\n",
       "      <td>4</td>\n",
       "      <td>1</td>\n",
       "      <td>9</td>\n",
       "      <td>1</td>\n",
       "      <td>6</td>\n",
       "      <td>1</td>\n",
       "      <td>3</td>\n",
       "      <td>7</td>\n",
       "      <td>1</td>\n",
       "      <td>10</td>\n",
       "      <td>1</td>\n",
       "      <td>1</td>\n",
       "      <td>2</td>\n",
       "      <td>11</td>\n",
       "      <td>8</td>\n",
       "      <td>5</td>\n",
       "    </tr>\n",
       "  </tbody>\n",
       "</table>\n",
       "</div>"
      ],
      "text/plain": [
       "   mnth  hr  weekday  temp  hum  windspeed  casual  season_fall  \\\n",
       "0     1   1        1     4    1          9       1            6   \n",
       "\n",
       "   season_springer  season_summer  season_winter  holiday_No  holiday_Yes  \\\n",
       "0                1              3              7           1           10   \n",
       "\n",
       "   workingday_No work  workingday_Working Day  weathersit_Clear  \\\n",
       "0                   1                       1                 2   \n",
       "\n",
       "   weathersit_Heavy Rain  weathersit_Light Snow  weathersit_Mist  \n",
       "0                     11                      8                5  "
      ]
     },
     "execution_count": 67,
     "metadata": {},
     "output_type": "execute_result"
    }
   ],
   "source": [
    "rfe_df = pd.DataFrame(rfe.ranking_).T\n",
    "rfe_df.columns = x.columns\n",
    "rfe_df"
   ]
  },
  {
   "cell_type": "code",
   "execution_count": 68,
   "id": "4e216aba",
   "metadata": {
    "colab": {
     "base_uri": "https://localhost:8080/",
     "height": 645
    },
    "executionInfo": {
     "elapsed": 33,
     "status": "ok",
     "timestamp": 1683810722344,
     "user": {
      "displayName": "Rupak Mondal",
      "userId": "12139440766166473709"
     },
     "user_tz": -330
    },
    "id": "4e216aba",
    "outputId": "e35e0034-599b-42ca-c028-4c5a15a836f2"
   },
   "outputs": [
    {
     "data": {
      "text/html": [
       "<div>\n",
       "<style scoped>\n",
       "    .dataframe tbody tr th:only-of-type {\n",
       "        vertical-align: middle;\n",
       "    }\n",
       "\n",
       "    .dataframe tbody tr th {\n",
       "        vertical-align: top;\n",
       "    }\n",
       "\n",
       "    .dataframe thead th {\n",
       "        text-align: right;\n",
       "    }\n",
       "</style>\n",
       "<table border=\"1\" class=\"dataframe\">\n",
       "  <thead>\n",
       "    <tr style=\"text-align: right;\">\n",
       "      <th></th>\n",
       "      <th>Ranking</th>\n",
       "      <th>Features</th>\n",
       "    </tr>\n",
       "  </thead>\n",
       "  <tbody>\n",
       "    <tr>\n",
       "      <th>0</th>\n",
       "      <td>1</td>\n",
       "      <td>mnth</td>\n",
       "    </tr>\n",
       "    <tr>\n",
       "      <th>1</th>\n",
       "      <td>1</td>\n",
       "      <td>hr</td>\n",
       "    </tr>\n",
       "    <tr>\n",
       "      <th>2</th>\n",
       "      <td>1</td>\n",
       "      <td>weekday</td>\n",
       "    </tr>\n",
       "    <tr>\n",
       "      <th>3</th>\n",
       "      <td>4</td>\n",
       "      <td>temp</td>\n",
       "    </tr>\n",
       "    <tr>\n",
       "      <th>4</th>\n",
       "      <td>1</td>\n",
       "      <td>hum</td>\n",
       "    </tr>\n",
       "    <tr>\n",
       "      <th>5</th>\n",
       "      <td>9</td>\n",
       "      <td>windspeed</td>\n",
       "    </tr>\n",
       "    <tr>\n",
       "      <th>6</th>\n",
       "      <td>1</td>\n",
       "      <td>casual</td>\n",
       "    </tr>\n",
       "    <tr>\n",
       "      <th>7</th>\n",
       "      <td>6</td>\n",
       "      <td>season_fall</td>\n",
       "    </tr>\n",
       "    <tr>\n",
       "      <th>8</th>\n",
       "      <td>1</td>\n",
       "      <td>season_springer</td>\n",
       "    </tr>\n",
       "    <tr>\n",
       "      <th>9</th>\n",
       "      <td>3</td>\n",
       "      <td>season_summer</td>\n",
       "    </tr>\n",
       "    <tr>\n",
       "      <th>10</th>\n",
       "      <td>7</td>\n",
       "      <td>season_winter</td>\n",
       "    </tr>\n",
       "    <tr>\n",
       "      <th>11</th>\n",
       "      <td>1</td>\n",
       "      <td>holiday_No</td>\n",
       "    </tr>\n",
       "    <tr>\n",
       "      <th>12</th>\n",
       "      <td>10</td>\n",
       "      <td>holiday_Yes</td>\n",
       "    </tr>\n",
       "    <tr>\n",
       "      <th>13</th>\n",
       "      <td>1</td>\n",
       "      <td>workingday_No work</td>\n",
       "    </tr>\n",
       "    <tr>\n",
       "      <th>14</th>\n",
       "      <td>1</td>\n",
       "      <td>workingday_Working Day</td>\n",
       "    </tr>\n",
       "    <tr>\n",
       "      <th>15</th>\n",
       "      <td>2</td>\n",
       "      <td>weathersit_Clear</td>\n",
       "    </tr>\n",
       "    <tr>\n",
       "      <th>16</th>\n",
       "      <td>11</td>\n",
       "      <td>weathersit_Heavy Rain</td>\n",
       "    </tr>\n",
       "    <tr>\n",
       "      <th>17</th>\n",
       "      <td>8</td>\n",
       "      <td>weathersit_Light Snow</td>\n",
       "    </tr>\n",
       "    <tr>\n",
       "      <th>18</th>\n",
       "      <td>5</td>\n",
       "      <td>weathersit_Mist</td>\n",
       "    </tr>\n",
       "  </tbody>\n",
       "</table>\n",
       "</div>"
      ],
      "text/plain": [
       "    Ranking                Features\n",
       "0         1                    mnth\n",
       "1         1                      hr\n",
       "2         1                 weekday\n",
       "3         4                    temp\n",
       "4         1                     hum\n",
       "5         9               windspeed\n",
       "6         1                  casual\n",
       "7         6             season_fall\n",
       "8         1         season_springer\n",
       "9         3           season_summer\n",
       "10        7           season_winter\n",
       "11        1              holiday_No\n",
       "12       10             holiday_Yes\n",
       "13        1      workingday_No work\n",
       "14        1  workingday_Working Day\n",
       "15        2        weathersit_Clear\n",
       "16       11   weathersit_Heavy Rain\n",
       "17        8   weathersit_Light Snow\n",
       "18        5         weathersit_Mist"
      ]
     },
     "execution_count": 68,
     "metadata": {},
     "output_type": "execute_result"
    }
   ],
   "source": [
    "rfe_df = pd.DataFrame({\n",
    "    'Ranking' : rfe.ranking_,\n",
    "    'Features' : x.columns\n",
    "})\n",
    "rfe_df"
   ]
  },
  {
   "cell_type": "code",
   "execution_count": 69,
   "id": "1d606bee",
   "metadata": {
    "colab": {
     "base_uri": "https://localhost:8080/",
     "height": 331
    },
    "executionInfo": {
     "elapsed": 34,
     "status": "ok",
     "timestamp": 1683810722346,
     "user": {
      "displayName": "Rupak Mondal",
      "userId": "12139440766166473709"
     },
     "user_tz": -330
    },
    "id": "1d606bee",
    "outputId": "0143c767-2be0-4fd3-9f32-250ad3bd7a9b"
   },
   "outputs": [
    {
     "data": {
      "text/html": [
       "<div>\n",
       "<style scoped>\n",
       "    .dataframe tbody tr th:only-of-type {\n",
       "        vertical-align: middle;\n",
       "    }\n",
       "\n",
       "    .dataframe tbody tr th {\n",
       "        vertical-align: top;\n",
       "    }\n",
       "\n",
       "    .dataframe thead th {\n",
       "        text-align: right;\n",
       "    }\n",
       "</style>\n",
       "<table border=\"1\" class=\"dataframe\">\n",
       "  <thead>\n",
       "    <tr style=\"text-align: right;\">\n",
       "      <th></th>\n",
       "      <th>Ranking</th>\n",
       "      <th>Features</th>\n",
       "    </tr>\n",
       "  </thead>\n",
       "  <tbody>\n",
       "    <tr>\n",
       "      <th>0</th>\n",
       "      <td>1</td>\n",
       "      <td>mnth</td>\n",
       "    </tr>\n",
       "    <tr>\n",
       "      <th>1</th>\n",
       "      <td>1</td>\n",
       "      <td>hr</td>\n",
       "    </tr>\n",
       "    <tr>\n",
       "      <th>2</th>\n",
       "      <td>1</td>\n",
       "      <td>weekday</td>\n",
       "    </tr>\n",
       "    <tr>\n",
       "      <th>4</th>\n",
       "      <td>1</td>\n",
       "      <td>hum</td>\n",
       "    </tr>\n",
       "    <tr>\n",
       "      <th>6</th>\n",
       "      <td>1</td>\n",
       "      <td>casual</td>\n",
       "    </tr>\n",
       "    <tr>\n",
       "      <th>8</th>\n",
       "      <td>1</td>\n",
       "      <td>season_springer</td>\n",
       "    </tr>\n",
       "    <tr>\n",
       "      <th>11</th>\n",
       "      <td>1</td>\n",
       "      <td>holiday_No</td>\n",
       "    </tr>\n",
       "    <tr>\n",
       "      <th>13</th>\n",
       "      <td>1</td>\n",
       "      <td>workingday_No work</td>\n",
       "    </tr>\n",
       "    <tr>\n",
       "      <th>14</th>\n",
       "      <td>1</td>\n",
       "      <td>workingday_Working Day</td>\n",
       "    </tr>\n",
       "  </tbody>\n",
       "</table>\n",
       "</div>"
      ],
      "text/plain": [
       "    Ranking                Features\n",
       "0         1                    mnth\n",
       "1         1                      hr\n",
       "2         1                 weekday\n",
       "4         1                     hum\n",
       "6         1                  casual\n",
       "8         1         season_springer\n",
       "11        1              holiday_No\n",
       "13        1      workingday_No work\n",
       "14        1  workingday_Working Day"
      ]
     },
     "execution_count": 69,
     "metadata": {},
     "output_type": "execute_result"
    }
   ],
   "source": [
    "rfe_df[rfe_df['Ranking']==1]"
   ]
  },
  {
   "cell_type": "markdown",
   "id": "a20c6114",
   "metadata": {
    "id": "a20c6114"
   },
   "source": [
    "# Recursive Feature Elimination with Logistic regression show 9 columns which can be used for further analysis."
   ]
  },
  {
   "cell_type": "markdown",
   "id": "614ba4cd",
   "metadata": {
    "id": "614ba4cd"
   },
   "source": [
    "# 5. Recursive Feature Elimination with Decision Tree"
   ]
  },
  {
   "cell_type": "code",
   "execution_count": 70,
   "id": "f9bf0ff5",
   "metadata": {
    "colab": {
     "base_uri": "https://localhost:8080/"
    },
    "executionInfo": {
     "elapsed": 4385,
     "status": "ok",
     "timestamp": 1683810726698,
     "user": {
      "displayName": "Rupak Mondal",
      "userId": "12139440766166473709"
     },
     "user_tz": -330
    },
    "id": "f9bf0ff5",
    "outputId": "054414cd-b863-42c1-8acf-314e3cb7468c"
   },
   "outputs": [
    {
     "name": "stdout",
     "output_type": "stream",
     "text": [
      "Requirement already satisfied: yellowbrick in c:\\users\\rajpu\\anaconda3\\lib\\site-packages (1.5)\n",
      "Requirement already satisfied: scikit-learn>=1.0.0 in c:\\users\\rajpu\\anaconda3\\lib\\site-packages (from yellowbrick) (1.2.2)\n",
      "Requirement already satisfied: matplotlib!=3.0.0,>=2.0.2 in c:\\users\\rajpu\\anaconda3\\lib\\site-packages (from yellowbrick) (3.5.1)\n",
      "Requirement already satisfied: numpy>=1.16.0 in c:\\users\\rajpu\\anaconda3\\lib\\site-packages (from yellowbrick) (1.21.5)\n",
      "Requirement already satisfied: scipy>=1.0.0 in c:\\users\\rajpu\\anaconda3\\lib\\site-packages (from yellowbrick) (1.7.3)\n",
      "Requirement already satisfied: cycler>=0.10.0 in c:\\users\\rajpu\\anaconda3\\lib\\site-packages (from yellowbrick) (0.11.0)\n",
      "Requirement already satisfied: python-dateutil>=2.7 in c:\\users\\rajpu\\anaconda3\\lib\\site-packages (from matplotlib!=3.0.0,>=2.0.2->yellowbrick) (2.8.2)\n",
      "Requirement already satisfied: pyparsing>=2.2.1 in c:\\users\\rajpu\\anaconda3\\lib\\site-packages (from matplotlib!=3.0.0,>=2.0.2->yellowbrick) (3.0.4)\n",
      "Requirement already satisfied: fonttools>=4.22.0 in c:\\users\\rajpu\\anaconda3\\lib\\site-packages (from matplotlib!=3.0.0,>=2.0.2->yellowbrick) (4.25.0)\n",
      "Requirement already satisfied: packaging>=20.0 in c:\\users\\rajpu\\anaconda3\\lib\\site-packages (from matplotlib!=3.0.0,>=2.0.2->yellowbrick) (23.0)\n",
      "Requirement already satisfied: pillow>=6.2.0 in c:\\users\\rajpu\\anaconda3\\lib\\site-packages (from matplotlib!=3.0.0,>=2.0.2->yellowbrick) (9.0.1)\n",
      "Requirement already satisfied: kiwisolver>=1.0.1 in c:\\users\\rajpu\\anaconda3\\lib\\site-packages (from matplotlib!=3.0.0,>=2.0.2->yellowbrick) (1.3.2)\n",
      "Requirement already satisfied: joblib>=1.1.1 in c:\\users\\rajpu\\anaconda3\\lib\\site-packages (from scikit-learn>=1.0.0->yellowbrick) (1.2.0)\n",
      "Requirement already satisfied: threadpoolctl>=2.0.0 in c:\\users\\rajpu\\anaconda3\\lib\\site-packages (from scikit-learn>=1.0.0->yellowbrick) (2.2.0)\n",
      "Requirement already satisfied: six>=1.5 in c:\\users\\rajpu\\anaconda3\\lib\\site-packages (from python-dateutil>=2.7->matplotlib!=3.0.0,>=2.0.2->yellowbrick) (1.16.0)\n"
     ]
    }
   ],
   "source": [
    "!pip install yellowbrick"
   ]
  },
  {
   "cell_type": "code",
   "execution_count": 71,
   "id": "8df31dec",
   "metadata": {
    "executionInfo": {
     "elapsed": 16,
     "status": "ok",
     "timestamp": 1683810726698,
     "user": {
      "displayName": "Rupak Mondal",
      "userId": "12139440766166473709"
     },
     "user_tz": -330
    },
    "id": "8df31dec"
   },
   "outputs": [],
   "source": [
    "from sklearn.tree import DecisionTreeClassifier\n",
    "from yellowbrick.model_selection import rfecv"
   ]
  },
  {
   "cell_type": "code",
   "execution_count": 72,
   "id": "fe48981c",
   "metadata": {
    "colab": {
     "base_uri": "https://localhost:8080/",
     "height": 524
    },
    "executionInfo": {
     "elapsed": 363934,
     "status": "ok",
     "timestamp": 1683811090617,
     "user": {
      "displayName": "Rupak Mondal",
      "userId": "12139440766166473709"
     },
     "user_tz": -330
    },
    "id": "fe48981c",
    "outputId": "b3b48fc4-1461-4ea3-cbf5-63f9319be7a9"
   },
   "outputs": [
    {
     "data": {
      "image/png": "[encoded data removed]",
      "text/plain": [
       "<Figure size 576x396 with 1 Axes>"
      ]
     },
     "metadata": {},
     "output_type": "display_data"
    }
   ],
   "source": [
    "rfe_dt = rfecv(DecisionTreeClassifier(),X_train,Y_train)"
   ]
  },
  {
   "cell_type": "code",
   "execution_count": 73,
   "id": "126bad0e",
   "metadata": {
    "colab": {
     "base_uri": "https://localhost:8080/"
    },
    "executionInfo": {
     "elapsed": 67,
     "status": "ok",
     "timestamp": 1683811090618,
     "user": {
      "displayName": "Rupak Mondal",
      "userId": "12139440766166473709"
     },
     "user_tz": -330
    },
    "id": "126bad0e",
    "outputId": "c96944ba-2226-49d1-ef5f-95a15538cefc"
   },
   "outputs": [
    {
     "data": {
      "text/plain": [
       "array([ 1,  1,  1,  1,  1,  1,  1,  3,  4,  1,  5,  8,  9,  2,  6,  1, 10,\n",
       "        7,  1])"
      ]
     },
     "execution_count": 73,
     "metadata": {},
     "output_type": "execute_result"
    }
   ],
   "source": [
    "rfe_dt.ranking_"
   ]
  },
  {
   "cell_type": "code",
   "execution_count": 74,
   "id": "4b3a7205",
   "metadata": {
    "colab": {
     "base_uri": "https://localhost:8080/",
     "height": 645
    },
    "executionInfo": {
     "elapsed": 63,
     "status": "ok",
     "timestamp": 1683811090619,
     "user": {
      "displayName": "Rupak Mondal",
      "userId": "12139440766166473709"
     },
     "user_tz": -330
    },
    "id": "4b3a7205",
    "outputId": "400cf50d-2c3e-4410-ae03-df74a70ba52b"
   },
   "outputs": [
    {
     "data": {
      "text/html": [
       "<div>\n",
       "<style scoped>\n",
       "    .dataframe tbody tr th:only-of-type {\n",
       "        vertical-align: middle;\n",
       "    }\n",
       "\n",
       "    .dataframe tbody tr th {\n",
       "        vertical-align: top;\n",
       "    }\n",
       "\n",
       "    .dataframe thead th {\n",
       "        text-align: right;\n",
       "    }\n",
       "</style>\n",
       "<table border=\"1\" class=\"dataframe\">\n",
       "  <thead>\n",
       "    <tr style=\"text-align: right;\">\n",
       "      <th></th>\n",
       "      <th>Ranking</th>\n",
       "      <th>Features</th>\n",
       "    </tr>\n",
       "  </thead>\n",
       "  <tbody>\n",
       "    <tr>\n",
       "      <th>0</th>\n",
       "      <td>1</td>\n",
       "      <td>mnth</td>\n",
       "    </tr>\n",
       "    <tr>\n",
       "      <th>1</th>\n",
       "      <td>1</td>\n",
       "      <td>hr</td>\n",
       "    </tr>\n",
       "    <tr>\n",
       "      <th>2</th>\n",
       "      <td>1</td>\n",
       "      <td>weekday</td>\n",
       "    </tr>\n",
       "    <tr>\n",
       "      <th>3</th>\n",
       "      <td>1</td>\n",
       "      <td>temp</td>\n",
       "    </tr>\n",
       "    <tr>\n",
       "      <th>4</th>\n",
       "      <td>1</td>\n",
       "      <td>hum</td>\n",
       "    </tr>\n",
       "    <tr>\n",
       "      <th>5</th>\n",
       "      <td>1</td>\n",
       "      <td>windspeed</td>\n",
       "    </tr>\n",
       "    <tr>\n",
       "      <th>6</th>\n",
       "      <td>1</td>\n",
       "      <td>casual</td>\n",
       "    </tr>\n",
       "    <tr>\n",
       "      <th>7</th>\n",
       "      <td>3</td>\n",
       "      <td>season_fall</td>\n",
       "    </tr>\n",
       "    <tr>\n",
       "      <th>8</th>\n",
       "      <td>4</td>\n",
       "      <td>season_springer</td>\n",
       "    </tr>\n",
       "    <tr>\n",
       "      <th>9</th>\n",
       "      <td>1</td>\n",
       "      <td>season_summer</td>\n",
       "    </tr>\n",
       "    <tr>\n",
       "      <th>10</th>\n",
       "      <td>5</td>\n",
       "      <td>season_winter</td>\n",
       "    </tr>\n",
       "    <tr>\n",
       "      <th>11</th>\n",
       "      <td>8</td>\n",
       "      <td>holiday_No</td>\n",
       "    </tr>\n",
       "    <tr>\n",
       "      <th>12</th>\n",
       "      <td>9</td>\n",
       "      <td>holiday_Yes</td>\n",
       "    </tr>\n",
       "    <tr>\n",
       "      <th>13</th>\n",
       "      <td>2</td>\n",
       "      <td>workingday_No work</td>\n",
       "    </tr>\n",
       "    <tr>\n",
       "      <th>14</th>\n",
       "      <td>6</td>\n",
       "      <td>workingday_Working Day</td>\n",
       "    </tr>\n",
       "    <tr>\n",
       "      <th>15</th>\n",
       "      <td>1</td>\n",
       "      <td>weathersit_Clear</td>\n",
       "    </tr>\n",
       "    <tr>\n",
       "      <th>16</th>\n",
       "      <td>10</td>\n",
       "      <td>weathersit_Heavy Rain</td>\n",
       "    </tr>\n",
       "    <tr>\n",
       "      <th>17</th>\n",
       "      <td>7</td>\n",
       "      <td>weathersit_Light Snow</td>\n",
       "    </tr>\n",
       "    <tr>\n",
       "      <th>18</th>\n",
       "      <td>1</td>\n",
       "      <td>weathersit_Mist</td>\n",
       "    </tr>\n",
       "  </tbody>\n",
       "</table>\n",
       "</div>"
      ],
      "text/plain": [
       "    Ranking                Features\n",
       "0         1                    mnth\n",
       "1         1                      hr\n",
       "2         1                 weekday\n",
       "3         1                    temp\n",
       "4         1                     hum\n",
       "5         1               windspeed\n",
       "6         1                  casual\n",
       "7         3             season_fall\n",
       "8         4         season_springer\n",
       "9         1           season_summer\n",
       "10        5           season_winter\n",
       "11        8              holiday_No\n",
       "12        9             holiday_Yes\n",
       "13        2      workingday_No work\n",
       "14        6  workingday_Working Day\n",
       "15        1        weathersit_Clear\n",
       "16       10   weathersit_Heavy Rain\n",
       "17        7   weathersit_Light Snow\n",
       "18        1         weathersit_Mist"
      ]
     },
     "execution_count": 74,
     "metadata": {},
     "output_type": "execute_result"
    }
   ],
   "source": [
    "rfe_df = pd.DataFrame({\n",
    "    'Ranking' : rfe_dt.ranking_,\n",
    "    'Features' : x.columns\n",
    "})\n",
    "rfe_df"
   ]
  },
  {
   "cell_type": "code",
   "execution_count": 75,
   "id": "42481858",
   "metadata": {
    "colab": {
     "base_uri": "https://localhost:8080/",
     "height": 394
    },
    "executionInfo": {
     "elapsed": 61,
     "status": "ok",
     "timestamp": 1683811090619,
     "user": {
      "displayName": "Rupak Mondal",
      "userId": "12139440766166473709"
     },
     "user_tz": -330
    },
    "id": "42481858",
    "outputId": "768b6a56-758f-49ab-efad-fb09fc35cc2b"
   },
   "outputs": [
    {
     "data": {
      "text/html": [
       "<div>\n",
       "<style scoped>\n",
       "    .dataframe tbody tr th:only-of-type {\n",
       "        vertical-align: middle;\n",
       "    }\n",
       "\n",
       "    .dataframe tbody tr th {\n",
       "        vertical-align: top;\n",
       "    }\n",
       "\n",
       "    .dataframe thead th {\n",
       "        text-align: right;\n",
       "    }\n",
       "</style>\n",
       "<table border=\"1\" class=\"dataframe\">\n",
       "  <thead>\n",
       "    <tr style=\"text-align: right;\">\n",
       "      <th></th>\n",
       "      <th>Ranking</th>\n",
       "      <th>Features</th>\n",
       "    </tr>\n",
       "  </thead>\n",
       "  <tbody>\n",
       "    <tr>\n",
       "      <th>0</th>\n",
       "      <td>1</td>\n",
       "      <td>mnth</td>\n",
       "    </tr>\n",
       "    <tr>\n",
       "      <th>1</th>\n",
       "      <td>1</td>\n",
       "      <td>hr</td>\n",
       "    </tr>\n",
       "    <tr>\n",
       "      <th>2</th>\n",
       "      <td>1</td>\n",
       "      <td>weekday</td>\n",
       "    </tr>\n",
       "    <tr>\n",
       "      <th>3</th>\n",
       "      <td>1</td>\n",
       "      <td>temp</td>\n",
       "    </tr>\n",
       "    <tr>\n",
       "      <th>4</th>\n",
       "      <td>1</td>\n",
       "      <td>hum</td>\n",
       "    </tr>\n",
       "    <tr>\n",
       "      <th>5</th>\n",
       "      <td>1</td>\n",
       "      <td>windspeed</td>\n",
       "    </tr>\n",
       "    <tr>\n",
       "      <th>6</th>\n",
       "      <td>1</td>\n",
       "      <td>casual</td>\n",
       "    </tr>\n",
       "    <tr>\n",
       "      <th>9</th>\n",
       "      <td>1</td>\n",
       "      <td>season_summer</td>\n",
       "    </tr>\n",
       "    <tr>\n",
       "      <th>15</th>\n",
       "      <td>1</td>\n",
       "      <td>weathersit_Clear</td>\n",
       "    </tr>\n",
       "    <tr>\n",
       "      <th>18</th>\n",
       "      <td>1</td>\n",
       "      <td>weathersit_Mist</td>\n",
       "    </tr>\n",
       "  </tbody>\n",
       "</table>\n",
       "</div>"
      ],
      "text/plain": [
       "    Ranking          Features\n",
       "0         1              mnth\n",
       "1         1                hr\n",
       "2         1           weekday\n",
       "3         1              temp\n",
       "4         1               hum\n",
       "5         1         windspeed\n",
       "6         1            casual\n",
       "9         1     season_summer\n",
       "15        1  weathersit_Clear\n",
       "18        1   weathersit_Mist"
      ]
     },
     "execution_count": 75,
     "metadata": {},
     "output_type": "execute_result"
    }
   ],
   "source": [
    "rfe_df[rfe_df['Ranking']==1]"
   ]
  },
  {
   "cell_type": "markdown",
   "id": "1034e533",
   "metadata": {
    "id": "1034e533"
   },
   "source": [
    "### CORRELATION - Each and every column are unique"
   ]
  },
  {
   "cell_type": "markdown",
   "id": "7e97f77d",
   "metadata": {
    "id": "7e97f77d"
   },
   "source": [
    "### Chi2 - All features(excludes Hr and casual) which can be used for furthere analysis."
   ]
  },
  {
   "cell_type": "markdown",
   "id": "7438e661",
   "metadata": {
    "id": "7438e661"
   },
   "source": [
    "### INFORMATION GAIN - 'hr', 'temp', 'hum', 'casual'"
   ]
  },
  {
   "cell_type": "markdown",
   "id": "dd22daf9",
   "metadata": {
    "id": "dd22daf9"
   },
   "source": [
    "### RFE - LOGISTIC REG - 'mnth','hr','weekday', 'hum','casual','season_springer','holiday_No','workingday_No work','workingday_Working Day'."
   ]
  },
  {
   "cell_type": "markdown",
   "id": "cc949cec",
   "metadata": {
    "id": "cc949cec"
   },
   "source": [
    "### REF - Decision Tree - 'mnth', 'hr', 'weekday', 'temp', 'hum', 'windspeed', casual"
   ]
  },
  {
   "cell_type": "markdown",
   "id": "a00aedce",
   "metadata": {
    "id": "a00aedce"
   },
   "source": [
    "Model building to be done..."
   ]
  },
  {
   "cell_type": "code",
   "execution_count": 76,
   "id": "GeEw-W985f6V",
   "metadata": {
    "colab": {
     "base_uri": "https://localhost:8080/",
     "height": 444
    },
    "executionInfo": {
     "elapsed": 60,
     "status": "ok",
     "timestamp": 1683811090620,
     "user": {
      "displayName": "Rupak Mondal",
      "userId": "12139440766166473709"
     },
     "user_tz": -330
    },
    "id": "GeEw-W985f6V",
    "outputId": "1b4554cc-611e-4426-c297-b590120e4c18"
   },
   "outputs": [
    {
     "data": {
      "text/html": [
       "<div>\n",
       "<style scoped>\n",
       "    .dataframe tbody tr th:only-of-type {\n",
       "        vertical-align: middle;\n",
       "    }\n",
       "\n",
       "    .dataframe tbody tr th {\n",
       "        vertical-align: top;\n",
       "    }\n",
       "\n",
       "    .dataframe thead th {\n",
       "        text-align: right;\n",
       "    }\n",
       "</style>\n",
       "<table border=\"1\" class=\"dataframe\">\n",
       "  <thead>\n",
       "    <tr style=\"text-align: right;\">\n",
       "      <th></th>\n",
       "      <th>mnth</th>\n",
       "      <th>hr</th>\n",
       "      <th>weekday</th>\n",
       "      <th>temp</th>\n",
       "      <th>hum</th>\n",
       "      <th>windspeed</th>\n",
       "      <th>casual</th>\n",
       "      <th>season_fall</th>\n",
       "      <th>season_springer</th>\n",
       "      <th>season_summer</th>\n",
       "      <th>season_winter</th>\n",
       "      <th>holiday_No</th>\n",
       "      <th>holiday_Yes</th>\n",
       "      <th>workingday_No work</th>\n",
       "      <th>workingday_Working Day</th>\n",
       "      <th>weathersit_Clear</th>\n",
       "      <th>weathersit_Heavy Rain</th>\n",
       "      <th>weathersit_Light Snow</th>\n",
       "      <th>weathersit_Mist</th>\n",
       "    </tr>\n",
       "  </thead>\n",
       "  <tbody>\n",
       "    <tr>\n",
       "      <th>4796</th>\n",
       "      <td>7</td>\n",
       "      <td>18</td>\n",
       "      <td>6</td>\n",
       "      <td>0.92</td>\n",
       "      <td>0.40</td>\n",
       "      <td>0.2239</td>\n",
       "      <td>62.0</td>\n",
       "      <td>1</td>\n",
       "      <td>0</td>\n",
       "      <td>0</td>\n",
       "      <td>0</td>\n",
       "      <td>1</td>\n",
       "      <td>0</td>\n",
       "      <td>1</td>\n",
       "      <td>0</td>\n",
       "      <td>1</td>\n",
       "      <td>0</td>\n",
       "      <td>0</td>\n",
       "      <td>0</td>\n",
       "    </tr>\n",
       "    <tr>\n",
       "      <th>10061</th>\n",
       "      <td>2</td>\n",
       "      <td>7</td>\n",
       "      <td>3</td>\n",
       "      <td>0.26</td>\n",
       "      <td>0.81</td>\n",
       "      <td>0.1343</td>\n",
       "      <td>11.0</td>\n",
       "      <td>0</td>\n",
       "      <td>1</td>\n",
       "      <td>0</td>\n",
       "      <td>0</td>\n",
       "      <td>1</td>\n",
       "      <td>0</td>\n",
       "      <td>0</td>\n",
       "      <td>1</td>\n",
       "      <td>0</td>\n",
       "      <td>0</td>\n",
       "      <td>0</td>\n",
       "      <td>1</td>\n",
       "    </tr>\n",
       "    <tr>\n",
       "      <th>13156</th>\n",
       "      <td>7</td>\n",
       "      <td>9</td>\n",
       "      <td>6</td>\n",
       "      <td>0.84</td>\n",
       "      <td>0.59</td>\n",
       "      <td>0.1642</td>\n",
       "      <td>69.0</td>\n",
       "      <td>1</td>\n",
       "      <td>0</td>\n",
       "      <td>0</td>\n",
       "      <td>0</td>\n",
       "      <td>1</td>\n",
       "      <td>0</td>\n",
       "      <td>1</td>\n",
       "      <td>0</td>\n",
       "      <td>1</td>\n",
       "      <td>0</td>\n",
       "      <td>0</td>\n",
       "      <td>0</td>\n",
       "    </tr>\n",
       "    <tr>\n",
       "      <th>9342</th>\n",
       "      <td>1</td>\n",
       "      <td>4</td>\n",
       "      <td>1</td>\n",
       "      <td>0.20</td>\n",
       "      <td>0.51</td>\n",
       "      <td>0.1343</td>\n",
       "      <td>0.0</td>\n",
       "      <td>0</td>\n",
       "      <td>1</td>\n",
       "      <td>0</td>\n",
       "      <td>0</td>\n",
       "      <td>1</td>\n",
       "      <td>0</td>\n",
       "      <td>0</td>\n",
       "      <td>1</td>\n",
       "      <td>1</td>\n",
       "      <td>0</td>\n",
       "      <td>0</td>\n",
       "      <td>0</td>\n",
       "    </tr>\n",
       "    <tr>\n",
       "      <th>8832</th>\n",
       "      <td>1</td>\n",
       "      <td>20</td>\n",
       "      <td>0</td>\n",
       "      <td>0.30</td>\n",
       "      <td>0.52</td>\n",
       "      <td>0.1642</td>\n",
       "      <td>7.0</td>\n",
       "      <td>0</td>\n",
       "      <td>1</td>\n",
       "      <td>0</td>\n",
       "      <td>0</td>\n",
       "      <td>1</td>\n",
       "      <td>0</td>\n",
       "      <td>1</td>\n",
       "      <td>0</td>\n",
       "      <td>1</td>\n",
       "      <td>0</td>\n",
       "      <td>0</td>\n",
       "      <td>0</td>\n",
       "    </tr>\n",
       "    <tr>\n",
       "      <th>2229</th>\n",
       "      <td>4</td>\n",
       "      <td>18</td>\n",
       "      <td>4</td>\n",
       "      <td>0.48</td>\n",
       "      <td>0.55</td>\n",
       "      <td>0.2537</td>\n",
       "      <td>68.0</td>\n",
       "      <td>0</td>\n",
       "      <td>0</td>\n",
       "      <td>1</td>\n",
       "      <td>0</td>\n",
       "      <td>1</td>\n",
       "      <td>0</td>\n",
       "      <td>0</td>\n",
       "      <td>1</td>\n",
       "      <td>1</td>\n",
       "      <td>0</td>\n",
       "      <td>0</td>\n",
       "      <td>0</td>\n",
       "    </tr>\n",
       "    <tr>\n",
       "      <th>12239</th>\n",
       "      <td>5</td>\n",
       "      <td>4</td>\n",
       "      <td>3</td>\n",
       "      <td>0.62</td>\n",
       "      <td>0.88</td>\n",
       "      <td>0.1343</td>\n",
       "      <td>0.0</td>\n",
       "      <td>0</td>\n",
       "      <td>0</td>\n",
       "      <td>1</td>\n",
       "      <td>0</td>\n",
       "      <td>1</td>\n",
       "      <td>0</td>\n",
       "      <td>0</td>\n",
       "      <td>1</td>\n",
       "      <td>0</td>\n",
       "      <td>0</td>\n",
       "      <td>0</td>\n",
       "      <td>1</td>\n",
       "    </tr>\n",
       "    <tr>\n",
       "      <th>4697</th>\n",
       "      <td>7</td>\n",
       "      <td>15</td>\n",
       "      <td>2</td>\n",
       "      <td>0.88</td>\n",
       "      <td>0.44</td>\n",
       "      <td>0.1940</td>\n",
       "      <td>48.0</td>\n",
       "      <td>1</td>\n",
       "      <td>0</td>\n",
       "      <td>0</td>\n",
       "      <td>0</td>\n",
       "      <td>1</td>\n",
       "      <td>0</td>\n",
       "      <td>0</td>\n",
       "      <td>1</td>\n",
       "      <td>1</td>\n",
       "      <td>0</td>\n",
       "      <td>0</td>\n",
       "      <td>0</td>\n",
       "    </tr>\n",
       "    <tr>\n",
       "      <th>5658</th>\n",
       "      <td>8</td>\n",
       "      <td>5</td>\n",
       "      <td>1</td>\n",
       "      <td>0.56</td>\n",
       "      <td>0.73</td>\n",
       "      <td>0.1343</td>\n",
       "      <td>0.0</td>\n",
       "      <td>1</td>\n",
       "      <td>0</td>\n",
       "      <td>0</td>\n",
       "      <td>0</td>\n",
       "      <td>1</td>\n",
       "      <td>0</td>\n",
       "      <td>0</td>\n",
       "      <td>1</td>\n",
       "      <td>1</td>\n",
       "      <td>0</td>\n",
       "      <td>0</td>\n",
       "      <td>0</td>\n",
       "    </tr>\n",
       "    <tr>\n",
       "      <th>9778</th>\n",
       "      <td>2</td>\n",
       "      <td>9</td>\n",
       "      <td>5</td>\n",
       "      <td>0.26</td>\n",
       "      <td>1.00</td>\n",
       "      <td>0.0000</td>\n",
       "      <td>8.0</td>\n",
       "      <td>0</td>\n",
       "      <td>1</td>\n",
       "      <td>0</td>\n",
       "      <td>0</td>\n",
       "      <td>1</td>\n",
       "      <td>0</td>\n",
       "      <td>0</td>\n",
       "      <td>1</td>\n",
       "      <td>0</td>\n",
       "      <td>0</td>\n",
       "      <td>0</td>\n",
       "      <td>1</td>\n",
       "    </tr>\n",
       "  </tbody>\n",
       "</table>\n",
       "</div>"
      ],
      "text/plain": [
       "       mnth  hr  weekday  temp   hum  windspeed  casual  season_fall  \\\n",
       "4796      7  18        6  0.92  0.40     0.2239    62.0            1   \n",
       "10061     2   7        3  0.26  0.81     0.1343    11.0            0   \n",
       "13156     7   9        6  0.84  0.59     0.1642    69.0            1   \n",
       "9342      1   4        1  0.20  0.51     0.1343     0.0            0   \n",
       "8832      1  20        0  0.30  0.52     0.1642     7.0            0   \n",
       "2229      4  18        4  0.48  0.55     0.2537    68.0            0   \n",
       "12239     5   4        3  0.62  0.88     0.1343     0.0            0   \n",
       "4697      7  15        2  0.88  0.44     0.1940    48.0            1   \n",
       "5658      8   5        1  0.56  0.73     0.1343     0.0            1   \n",
       "9778      2   9        5  0.26  1.00     0.0000     8.0            0   \n",
       "\n",
       "       season_springer  season_summer  season_winter  holiday_No  holiday_Yes  \\\n",
       "4796                 0              0              0           1            0   \n",
       "10061                1              0              0           1            0   \n",
       "13156                0              0              0           1            0   \n",
       "9342                 1              0              0           1            0   \n",
       "8832                 1              0              0           1            0   \n",
       "2229                 0              1              0           1            0   \n",
       "12239                0              1              0           1            0   \n",
       "4697                 0              0              0           1            0   \n",
       "5658                 0              0              0           1            0   \n",
       "9778                 1              0              0           1            0   \n",
       "\n",
       "       workingday_No work  workingday_Working Day  weathersit_Clear  \\\n",
       "4796                    1                       0                 1   \n",
       "10061                   0                       1                 0   \n",
       "13156                   1                       0                 1   \n",
       "9342                    0                       1                 1   \n",
       "8832                    1                       0                 1   \n",
       "2229                    0                       1                 1   \n",
       "12239                   0                       1                 0   \n",
       "4697                    0                       1                 1   \n",
       "5658                    0                       1                 1   \n",
       "9778                    0                       1                 0   \n",
       "\n",
       "       weathersit_Heavy Rain  weathersit_Light Snow  weathersit_Mist  \n",
       "4796                       0                      0                0  \n",
       "10061                      0                      0                1  \n",
       "13156                      0                      0                0  \n",
       "9342                       0                      0                0  \n",
       "8832                       0                      0                0  \n",
       "2229                       0                      0                0  \n",
       "12239                      0                      0                1  \n",
       "4697                       0                      0                0  \n",
       "5658                       0                      0                0  \n",
       "9778                       0                      0                1  "
      ]
     },
     "execution_count": 76,
     "metadata": {},
     "output_type": "execute_result"
    }
   ],
   "source": [
    "X_train.head(10)"
   ]
  },
  {
   "cell_type": "code",
   "execution_count": 77,
   "id": "53dc62d0",
   "metadata": {
    "executionInfo": {
     "elapsed": 62,
     "status": "ok",
     "timestamp": 1683811090621,
     "user": {
      "displayName": "Rupak Mondal",
      "userId": "12139440766166473709"
     },
     "user_tz": -330
    },
    "id": "53dc62d0"
   },
   "outputs": [],
   "source": [
    "from sklearn.preprocessing import StandardScaler, MinMaxScaler"
   ]
  },
  {
   "cell_type": "code",
   "execution_count": 78,
   "id": "STEPlJd_4rVP",
   "metadata": {
    "executionInfo": {
     "elapsed": 61,
     "status": "ok",
     "timestamp": 1683811090621,
     "user": {
      "displayName": "Rupak Mondal",
      "userId": "12139440766166473709"
     },
     "user_tz": -330
    },
    "id": "STEPlJd_4rVP"
   },
   "outputs": [],
   "source": [
    "# Create a StandardScaler object\n",
    "scaler = StandardScaler()"
   ]
  },
  {
   "cell_type": "code",
   "execution_count": 79,
   "id": "X_u-GDM34rZU",
   "metadata": {
    "executionInfo": {
     "elapsed": 62,
     "status": "ok",
     "timestamp": 1683811090622,
     "user": {
      "displayName": "Rupak Mondal",
      "userId": "12139440766166473709"
     },
     "user_tz": -330
    },
    "id": "X_u-GDM34rZU"
   },
   "outputs": [],
   "source": [
    "# Select the variables to scale and normalize\n",
    "vars_to_scale = [\"temp\", \"hum\", \"windspeed\",\"cnt\",\"casual\"]"
   ]
  },
  {
   "cell_type": "code",
   "execution_count": 80,
   "id": "K-CV6ZxM4rdd",
   "metadata": {
    "executionInfo": {
     "elapsed": 63,
     "status": "ok",
     "timestamp": 1683811090623,
     "user": {
      "displayName": "Rupak Mondal",
      "userId": "12139440766166473709"
     },
     "user_tz": -330
    },
    "id": "K-CV6ZxM4rdd"
   },
   "outputs": [],
   "source": [
    "# Scale the variables\n",
    "bike_df2 [vars_to_scale] = scaler.fit_transform(bike_df2[vars_to_scale])\n",
    "\n",
    "# Create a MinMaxScaler object\n",
    "scaler = MinMaxScaler()"
   ]
  },
  {
   "cell_type": "code",
   "execution_count": 81,
   "id": "Gran_yoi5AH6",
   "metadata": {
    "colab": {
     "base_uri": "https://localhost:8080/"
    },
    "executionInfo": {
     "elapsed": 63,
     "status": "ok",
     "timestamp": 1683811090624,
     "user": {
      "displayName": "Rupak Mondal",
      "userId": "12139440766166473709"
     },
     "user_tz": -330
    },
    "id": "Gran_yoi5AH6",
    "outputId": "c2f17ee9-9e16-435f-c1cd-68a10ec8f846"
   },
   "outputs": [
    {
     "name": "stdout",
     "output_type": "stream",
     "text": [
      "   mnth  hr  weekday      temp   hum  windspeed    casual       cnt  \\\n",
      "0     1   0        6  0.224490  0.81   0.000000  0.021583  0.019678   \n",
      "1     1   1        6  0.204082  0.80   0.000000  0.057554  0.062612   \n",
      "3     1   3        6  0.224490  0.75   0.000000  0.021583  0.014311   \n",
      "4     1   4        6  0.224490  0.75   0.000000  0.000000  0.000000   \n",
      "5     1   5        6  0.224490  0.75   0.105325  0.000000  0.000000   \n",
      "\n",
      "   season_fall  season_springer  season_summer  season_winter  holiday_No  \\\n",
      "0            0                1              0              0           1   \n",
      "1            0                1              0              0           1   \n",
      "3            0                1              0              0           1   \n",
      "4            0                1              0              0           1   \n",
      "5            0                1              0              0           1   \n",
      "\n",
      "   holiday_Yes  workingday_No work  workingday_Working Day  weathersit_Clear  \\\n",
      "0            0                   1                       0                 1   \n",
      "1            0                   1                       0                 1   \n",
      "3            0                   1                       0                 1   \n",
      "4            0                   1                       0                 1   \n",
      "5            0                   1                       0                 0   \n",
      "\n",
      "   weathersit_Heavy Rain  weathersit_Light Snow  weathersit_Mist  \n",
      "0                      0                      0                0  \n",
      "1                      0                      0                0  \n",
      "3                      0                      0                0  \n",
      "4                      0                      0                0  \n",
      "5                      0                      0                1  \n"
     ]
    }
   ],
   "source": [
    "# Normalize the variables\n",
    "bike_df2[vars_to_scale] = scaler.fit_transform(bike_df2[vars_to_scale])\n",
    "\n",
    "# View the scaled and normalized dataset\n",
    "print(bike_df2.head())"
   ]
  },
  {
   "cell_type": "code",
   "execution_count": 82,
   "id": "jxRI5GTm5ALz",
   "metadata": {
    "colab": {
     "base_uri": "https://localhost:8080/",
     "height": 287
    },
    "executionInfo": {
     "elapsed": 59,
     "status": "ok",
     "timestamp": 1683811090625,
     "user": {
      "displayName": "Rupak Mondal",
      "userId": "12139440766166473709"
     },
     "user_tz": -330
    },
    "id": "jxRI5GTm5ALz",
    "outputId": "0eee145e-a23d-48bd-b563-18696cfc93d4"
   },
   "outputs": [
    {
     "data": {
      "text/html": [
       "<div>\n",
       "<style scoped>\n",
       "    .dataframe tbody tr th:only-of-type {\n",
       "        vertical-align: middle;\n",
       "    }\n",
       "\n",
       "    .dataframe tbody tr th {\n",
       "        vertical-align: top;\n",
       "    }\n",
       "\n",
       "    .dataframe thead th {\n",
       "        text-align: right;\n",
       "    }\n",
       "</style>\n",
       "<table border=\"1\" class=\"dataframe\">\n",
       "  <thead>\n",
       "    <tr style=\"text-align: right;\">\n",
       "      <th></th>\n",
       "      <th>mnth</th>\n",
       "      <th>hr</th>\n",
       "      <th>weekday</th>\n",
       "      <th>temp</th>\n",
       "      <th>hum</th>\n",
       "      <th>windspeed</th>\n",
       "      <th>casual</th>\n",
       "      <th>cnt</th>\n",
       "      <th>season_fall</th>\n",
       "      <th>season_springer</th>\n",
       "      <th>season_summer</th>\n",
       "      <th>season_winter</th>\n",
       "      <th>holiday_No</th>\n",
       "      <th>holiday_Yes</th>\n",
       "      <th>workingday_No work</th>\n",
       "      <th>workingday_Working Day</th>\n",
       "      <th>weathersit_Clear</th>\n",
       "      <th>weathersit_Heavy Rain</th>\n",
       "      <th>weathersit_Light Snow</th>\n",
       "      <th>weathersit_Mist</th>\n",
       "    </tr>\n",
       "  </thead>\n",
       "  <tbody>\n",
       "    <tr>\n",
       "      <th>0</th>\n",
       "      <td>1</td>\n",
       "      <td>0</td>\n",
       "      <td>6</td>\n",
       "      <td>0.224490</td>\n",
       "      <td>0.81</td>\n",
       "      <td>0.000000</td>\n",
       "      <td>0.021583</td>\n",
       "      <td>0.019678</td>\n",
       "      <td>0</td>\n",
       "      <td>1</td>\n",
       "      <td>0</td>\n",
       "      <td>0</td>\n",
       "      <td>1</td>\n",
       "      <td>0</td>\n",
       "      <td>1</td>\n",
       "      <td>0</td>\n",
       "      <td>1</td>\n",
       "      <td>0</td>\n",
       "      <td>0</td>\n",
       "      <td>0</td>\n",
       "    </tr>\n",
       "    <tr>\n",
       "      <th>1</th>\n",
       "      <td>1</td>\n",
       "      <td>1</td>\n",
       "      <td>6</td>\n",
       "      <td>0.204082</td>\n",
       "      <td>0.80</td>\n",
       "      <td>0.000000</td>\n",
       "      <td>0.057554</td>\n",
       "      <td>0.062612</td>\n",
       "      <td>0</td>\n",
       "      <td>1</td>\n",
       "      <td>0</td>\n",
       "      <td>0</td>\n",
       "      <td>1</td>\n",
       "      <td>0</td>\n",
       "      <td>1</td>\n",
       "      <td>0</td>\n",
       "      <td>1</td>\n",
       "      <td>0</td>\n",
       "      <td>0</td>\n",
       "      <td>0</td>\n",
       "    </tr>\n",
       "    <tr>\n",
       "      <th>3</th>\n",
       "      <td>1</td>\n",
       "      <td>3</td>\n",
       "      <td>6</td>\n",
       "      <td>0.224490</td>\n",
       "      <td>0.75</td>\n",
       "      <td>0.000000</td>\n",
       "      <td>0.021583</td>\n",
       "      <td>0.014311</td>\n",
       "      <td>0</td>\n",
       "      <td>1</td>\n",
       "      <td>0</td>\n",
       "      <td>0</td>\n",
       "      <td>1</td>\n",
       "      <td>0</td>\n",
       "      <td>1</td>\n",
       "      <td>0</td>\n",
       "      <td>1</td>\n",
       "      <td>0</td>\n",
       "      <td>0</td>\n",
       "      <td>0</td>\n",
       "    </tr>\n",
       "    <tr>\n",
       "      <th>4</th>\n",
       "      <td>1</td>\n",
       "      <td>4</td>\n",
       "      <td>6</td>\n",
       "      <td>0.224490</td>\n",
       "      <td>0.75</td>\n",
       "      <td>0.000000</td>\n",
       "      <td>0.000000</td>\n",
       "      <td>0.000000</td>\n",
       "      <td>0</td>\n",
       "      <td>1</td>\n",
       "      <td>0</td>\n",
       "      <td>0</td>\n",
       "      <td>1</td>\n",
       "      <td>0</td>\n",
       "      <td>1</td>\n",
       "      <td>0</td>\n",
       "      <td>1</td>\n",
       "      <td>0</td>\n",
       "      <td>0</td>\n",
       "      <td>0</td>\n",
       "    </tr>\n",
       "    <tr>\n",
       "      <th>5</th>\n",
       "      <td>1</td>\n",
       "      <td>5</td>\n",
       "      <td>6</td>\n",
       "      <td>0.224490</td>\n",
       "      <td>0.75</td>\n",
       "      <td>0.105325</td>\n",
       "      <td>0.000000</td>\n",
       "      <td>0.000000</td>\n",
       "      <td>0</td>\n",
       "      <td>1</td>\n",
       "      <td>0</td>\n",
       "      <td>0</td>\n",
       "      <td>1</td>\n",
       "      <td>0</td>\n",
       "      <td>1</td>\n",
       "      <td>0</td>\n",
       "      <td>0</td>\n",
       "      <td>0</td>\n",
       "      <td>0</td>\n",
       "      <td>1</td>\n",
       "    </tr>\n",
       "  </tbody>\n",
       "</table>\n",
       "</div>"
      ],
      "text/plain": [
       "   mnth  hr  weekday      temp   hum  windspeed    casual       cnt  \\\n",
       "0     1   0        6  0.224490  0.81   0.000000  0.021583  0.019678   \n",
       "1     1   1        6  0.204082  0.80   0.000000  0.057554  0.062612   \n",
       "3     1   3        6  0.224490  0.75   0.000000  0.021583  0.014311   \n",
       "4     1   4        6  0.224490  0.75   0.000000  0.000000  0.000000   \n",
       "5     1   5        6  0.224490  0.75   0.105325  0.000000  0.000000   \n",
       "\n",
       "   season_fall  season_springer  season_summer  season_winter  holiday_No  \\\n",
       "0            0                1              0              0           1   \n",
       "1            0                1              0              0           1   \n",
       "3            0                1              0              0           1   \n",
       "4            0                1              0              0           1   \n",
       "5            0                1              0              0           1   \n",
       "\n",
       "   holiday_Yes  workingday_No work  workingday_Working Day  weathersit_Clear  \\\n",
       "0            0                   1                       0                 1   \n",
       "1            0                   1                       0                 1   \n",
       "3            0                   1                       0                 1   \n",
       "4            0                   1                       0                 1   \n",
       "5            0                   1                       0                 0   \n",
       "\n",
       "   weathersit_Heavy Rain  weathersit_Light Snow  weathersit_Mist  \n",
       "0                      0                      0                0  \n",
       "1                      0                      0                0  \n",
       "3                      0                      0                0  \n",
       "4                      0                      0                0  \n",
       "5                      0                      0                1  "
      ]
     },
     "execution_count": 82,
     "metadata": {},
     "output_type": "execute_result"
    }
   ],
   "source": [
    "bike_df2.head()"
   ]
  },
  {
   "cell_type": "code",
   "execution_count": 83,
   "id": "uPIMx-6M5AP5",
   "metadata": {
    "executionInfo": {
     "elapsed": 4,
     "status": "ok",
     "timestamp": 1683811262717,
     "user": {
      "displayName": "Rupak Mondal",
      "userId": "12139440766166473709"
     },
     "user_tz": -330
    },
    "id": "uPIMx-6M5AP5"
   },
   "outputs": [],
   "source": [
    "from sklearn.linear_model import LinearRegression\n",
    "from sklearn.tree import DecisionTreeRegressor\n",
    "from sklearn.ensemble import RandomForestRegressor,GradientBoostingRegressor\n",
    "from sklearn.svm import SVR\n",
    "from sklearn.neighbors import KNeighborsRegressor\n",
    "from sklearn.metrics import r2_score, mean_squared_error\n"
   ]
  },
  {
   "cell_type": "code",
   "execution_count": 84,
   "id": "_q6BYfL25AT8",
   "metadata": {
    "executionInfo": {
     "elapsed": 3,
     "status": "ok",
     "timestamp": 1683811262718,
     "user": {
      "displayName": "Rupak Mondal",
      "userId": "12139440766166473709"
     },
     "user_tz": -330
    },
    "id": "_q6BYfL25AT8"
   },
   "outputs": [],
   "source": [
    "y_train = Y_train\n",
    "y_test = Y_test"
   ]
  },
  {
   "cell_type": "code",
   "execution_count": 85,
   "id": "LXosSZNl5AX0",
   "metadata": {
    "colab": {
     "base_uri": "https://localhost:8080/"
    },
    "executionInfo": {
     "elapsed": 35328,
     "status": "ok",
     "timestamp": 1683811300200,
     "user": {
      "displayName": "Rupak Mondal",
      "userId": "12139440766166473709"
     },
     "user_tz": -330
    },
    "id": "LXosSZNl5AX0",
    "outputId": "9e313b37-4585-4c02-c50e-e29ebfaf95c3"
   },
   "outputs": [
    {
     "name": "stdout",
     "output_type": "stream",
     "text": [
      "Linear regression R-squared score: 0.6511\n",
      "Decision tree regression R-squared score: 0.8499\n",
      "Random forest regression R-squared score: 0.9248\n",
      "Gradient boosting regression R-squared score: 0.7247\n",
      "K-Nearest Neighbors regression R-squared score: 0.8487\n",
      "Support Vector regression R-squared score: 0.5954\n",
      "Linear regression MSE: 9598.8888\n",
      "Decision tree regression MSE: 4129.4396\n",
      "Random forest regression MSE: 2068.7012\n",
      "Gradient boosting regression MSE: 7572.9106\n",
      "K-Nearest Neighbors regression MSE: 4161.3644\n",
      "Support Vector regression MSE: 11128.8905\n"
     ]
    }
   ],
   "source": [
    "# Create and fit a linear regression model\n",
    "lr_model = LinearRegression()\n",
    "lr_model.fit(X_train, y_train)\n",
    "\n",
    "# Create and fit a decision tree regression model\n",
    "dt_model = DecisionTreeRegressor(random_state=69)\n",
    "dt_model.fit(X_train, y_train)\n",
    "\n",
    "# Create and fit a random forest regression model\n",
    "rf_model = RandomForestRegressor(n_estimators=100, random_state=96)\n",
    "rf_model.fit(X_train, y_train)\n",
    "\n",
    "# Create and fit a gradient boosting regression model\n",
    "gb_model = GradientBoostingRegressor(n_estimators=100, learning_rate=0.1, max_depth=1, random_state=42)\n",
    "gb_model.fit(X_train, y_train)\n",
    "\n",
    "# Create and fit a K-Nearest Neighbors regression model\n",
    "knn_model = KNeighborsRegressor(n_neighbors=5)\n",
    "knn_model.fit(X_train, y_train)\n",
    "\n",
    "# Create and fit a Support Vector regression model\n",
    "svr_model = SVR(kernel='linear')\n",
    "svr_model.fit(X_train, y_train)\n",
    "\n",
    "# Evaluate the models on the testing set\n",
    "lr_score = r2_score(y_test, lr_model.predict(X_test))\n",
    "dt_score = r2_score(y_test, dt_model.predict(X_test))\n",
    "rf_score = r2_score(y_test, rf_model.predict(X_test))\n",
    "gb_score = r2_score(y_test, gb_model.predict(X_test))\n",
    "knn_score = r2_score(y_test, knn_model.predict(X_test))\n",
    "svr_score = r2_score(y_test, svr_model.predict(X_test))\n",
    "\n",
    "lr_mse = mean_squared_error(y_test, lr_model.predict(X_test))\n",
    "dt_mse = mean_squared_error(y_test, dt_model.predict(X_test))\n",
    "rf_mse = mean_squared_error(y_test, rf_model.predict(X_test))\n",
    "gb_mse = mean_squared_error(y_test, gb_model.predict(X_test))\n",
    "knn_mse = mean_squared_error(y_test, knn_model.predict(X_test))\n",
    "svr_mse = mean_squared_error(y_test, svr_model.predict(X_test))\n",
    "\n",
    "# Print the R-squared scores\n",
    "print(f\"Linear regression R-squared score: {lr_score:.4f}\")\n",
    "print(f\"Decision tree regression R-squared score: {dt_score:.4f}\")\n",
    "print(f\"Random forest regression R-squared score: {rf_score:.4f}\")\n",
    "print(f\"Gradient boosting regression R-squared score: {gb_score:.4f}\")\n",
    "print(f\"K-Nearest Neighbors regression R-squared score: {knn_score:.4f}\")\n",
    "print(f\"Support Vector regression R-squared score: {svr_score:.4f}\")\n",
    "\n",
    "#Print the Mean Squared Error scores\n",
    "print(f\"Linear regression MSE: {lr_mse:.4f}\")\n",
    "print(f\"Decision tree regression MSE: {dt_mse:.4f}\")\n",
    "print(f\"Random forest regression MSE: {rf_mse:.4f}\")\n",
    "print(f\"Gradient boosting regression MSE: {gb_mse:.4f}\")\n",
    "print(f\"K-Nearest Neighbors regression MSE: {knn_mse:.4f}\")\n",
    "print(f\"Support Vector regression MSE: {svr_mse:.4f}\")\n",
    "\n"
   ]
  },
  {
   "cell_type": "code",
   "execution_count": 86,
   "id": "KADsWbDp4rhe",
   "metadata": {
    "colab": {
     "base_uri": "https://localhost:8080/"
    },
    "executionInfo": {
     "elapsed": 8,
     "status": "ok",
     "timestamp": 1683811303872,
     "user": {
      "displayName": "Rupak Mondal",
      "userId": "12139440766166473709"
     },
     "user_tz": -330
    },
    "id": "KADsWbDp4rhe",
    "outputId": "fb67e939-a422-4087-e7b7-9cdc4ea9e412"
   },
   "outputs": [
    {
     "name": "stdout",
     "output_type": "stream",
     "text": [
      "R-squared Scores and MSE:\n",
      "Linear Regression: R-squared score = 0.6511, MSE = 9598.8888\n",
      "Decision Tree Regression: R-squared score = 0.8499, MSE = 4129.4396\n",
      "Random Forest Regression: R-squared score = 0.9248, MSE = 2068.7012\n",
      "Gradient Boosting Regression: R-squared score = 0.7247, MSE = 7572.9106\n",
      "K-Nearest Neighbors Regression: R-squared score = 0.8487, MSE = 4161.3644\n",
      "Support Vector Regression: R-squared score = 0.5954, MSE = 11128.8905\n",
      "\n",
      "The best performing model based on R-squared score is Random Forest Regression with a score of 0.9248\n",
      "The best performing model based on MSE is Random Forest Regression with a MSE of 2068.7012\n"
     ]
    }
   ],
   "source": [
    "# Creating a dictionary to store the R-squared scores and MSE of each model\n",
    "scores = {'Linear Regression': [lr_score, lr_mse],\n",
    "          'Decision Tree Regression': [dt_score, dt_mse],\n",
    "          'Random Forest Regression': [rf_score, rf_mse],\n",
    "          'Gradient Boosting Regression': [gb_score, gb_mse],\n",
    "          'K-Nearest Neighbors Regression': [knn_score, knn_mse],\n",
    "          'Support Vector Regression': [svr_score, svr_mse]}\n",
    "\n",
    "# Print the R-squared scores and MSE of each model\n",
    "print('R-squared Scores and MSE:')\n",
    "for model, score in scores.items():\n",
    "    print(f\"{model}: R-squared score = {score[0]:.4f}, MSE = {score[1]:.4f}\")\n",
    "\n",
    "# Find the best performing model based on the R-squared score and MSE\n",
    "best_model = max(scores, key=lambda x: scores[x][0])\n",
    "print(f\"\\nThe best performing model based on R-squared score is {best_model} with a score of {scores[best_model][0]:.4f}\")\n",
    "best_model = min(scores, key=lambda x: scores[x][1])\n",
    "print(f\"The best performing model based on MSE is {best_model} with a MSE of {scores[best_model][1]:.4f}\")\n"
   ]
  },
  {
   "cell_type": "code",
   "execution_count": 91,
   "id": "RQKhPQj27eYu",
   "metadata": {
    "colab": {
     "base_uri": "https://localhost:8080/"
    },
    "executionInfo": {
     "elapsed": 246388,
     "status": "ok",
     "timestamp": 1683811550256,
     "user": {
      "displayName": "Rupak Mondal",
      "userId": "12139440766166473709"
     },
     "user_tz": -330
    },
    "id": "RQKhPQj27eYu",
    "outputId": "801fc390-ae69-4108-ff25-620933bd4b2c"
   },
   "outputs": [
    {
     "name": "stdout",
     "output_type": "stream",
     "text": [
      "Best Hyperparameters:  {'max_depth': 16, 'min_samples_leaf': 1, 'min_samples_split': 15, 'n_estimators': 419}\n",
      "Best R-squared Score:  0.9153451603699523\n"
     ]
    }
   ],
   "source": [
    "from sklearn.ensemble import RandomForestRegressor\n",
    "from sklearn.model_selection import RandomizedSearchCV\n",
    "from scipy.stats import randint as sp_randint\n",
    "\n",
    "# Define the parameter distribution for hyperparameter tuning\n",
    "param_dist = {\n",
    "    'n_estimators': sp_randint(100, 1000),\n",
    "    'max_depth': sp_randint(5, 20),\n",
    "    'min_samples_split': sp_randint(2, 20),\n",
    "    'min_samples_leaf': sp_randint(1, 10),\n",
    "}\n",
    "\n",
    "# Create a Random Forest Regression model\n",
    "\n",
    "rf = RandomForestRegressor()\n",
    "\n",
    "# Perform randomized search to find the best hyperparameters\n",
    "random_search = RandomizedSearchCV(estimator=rf, param_distributions=param_dist, cv=6, n_iter=3, scoring='r2')\n",
    "random_search.fit(X_train, y_train)\n",
    "\n",
    "# Print the best hyperparameters and the corresponding R-squared score\n",
    "print(\"Best Hyperparameters: \", random_search.best_params_)\n",
    "print(\"Best R-squared Score: \", random_search.best_score_)\n"
   ]
  },
  {
   "cell_type": "code",
   "execution_count": 95,
   "id": "rgaxePtTAsAx",
   "metadata": {
    "colab": {
     "base_uri": "https://localhost:8080/"
    },
    "executionInfo": {
     "elapsed": 28351,
     "status": "ok",
     "timestamp": 1683811951949,
     "user": {
      "displayName": "Rupak Mondal",
      "userId": "12139440766166473709"
     },
     "user_tz": -330
    },
    "id": "rgaxePtTAsAx",
    "outputId": "cc8feac6-5556-4801-8865-8ae1d49c2c9e"
   },
   "outputs": [
    {
     "name": "stdout",
     "output_type": "stream",
     "text": [
      "R-squared Score: 0.9247\n",
      "Mean Squared Error: 2071.0617\n"
     ]
    }
   ],
   "source": [
    "# Create a Random Forest Regression model with the best hyperparameters\n",
    "rf1 = RandomForestRegressor(n_estimators=random_search.best_params_['n_estimators'],\n",
    "                            max_depth=random_search.best_params_['max_depth'],\n",
    "                            min_samples_split=random_search.best_params_['min_samples_split'],\n",
    "                            min_samples_leaf=random_search.best_params_['min_samples_leaf'])\n",
    "\n",
    "# Fit the model on the training data\n",
    "rf1.fit(X_train, y_train)\n",
    "\n",
    "# Make predictions on the test data\n",
    "y_pred = rf1.predict(X_test)\n",
    "\n",
    "# Evaluate the model performance on the test data using R-squared score and mean squared error (MSE)\n",
    "from sklearn.metrics import r2_score, mean_squared_error\n",
    "r2 = r2_score(y_test, y_pred)\n",
    "mse = mean_squared_error(y_test, y_pred)\n",
    "print(f\"R-squared Score: {r2:.4f}\")\n",
    "print(f\"Mean Squared Error: {mse:.4f}\")\n"
   ]
  },
  {
   "cell_type": "markdown",
   "id": "d0de4119",
   "metadata": {},
   "source": [
    "## importing model into pickle for deployment"
   ]
  },
  {
   "cell_type": "code",
   "execution_count": 93,
   "id": "bce3caaf",
   "metadata": {},
   "outputs": [],
   "source": [
    "import pickle"
   ]
  },
  {
   "cell_type": "code",
   "execution_count": 97,
   "id": "54f40474",
   "metadata": {},
   "outputs": [],
   "source": [
    "# open a file,\n",
    "file=open('rf.pkl','wb')\n",
    "\n",
    "pickle.dump(rf1,file)"
   ]
  }
 ],
 "metadata": {
  "colab": {
   "provenance": []
  },
  "kernelspec": {
   "display_name": "Python 3 (ipykernel)",
   "language": "python",
   "name": "python3"
  },
  "language_info": {
   "codemirror_mode": {
    "name": "ipython",
    "version": 3
   },
   "file_extension": ".py",
   "mimetype": "text/x-python",
   "name": "python",
   "nbconvert_exporter": "python",
   "pygments_lexer": "ipython3",
   "version": "3.9.12"
  }
 },
 "nbformat": 4,
 "nbformat_minor": 5
}
